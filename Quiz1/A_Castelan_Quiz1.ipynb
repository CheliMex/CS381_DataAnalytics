{
 "cells": [
  {
   "cell_type": "markdown",
   "id": "07160642-9b49-48d3-9b28-5081f79a2191",
   "metadata": {},
   "source": [
    "# Introduction:\n",
    "\n",
    "\n",
    "***\n",
    "\n",
    "The purpose of this project is to examine  factors that can predict the net hourly electrical energy output of the plant. The dataset contains 9568 data points collected from a Combined Cycle Power Plant over 6 years (2006-2011), when the power plant was set to work with full load. \n",
    "\n",
    "**Research Question:**\n",
    "\n",
    "This study was guided by the research question - Does the cut of a diamond determine its price or are there other factors such as the color or clarity that make a diamond expensive?\n",
    "\n",
    "\n",
    "**Variables:**\n",
    "\n",
    "The following factors are used as independent variables:\n",
    "* **Carat** = weight of the diamond (`0.2–5.01`)\n",
    "* **Cut** = quality of the cut\n",
    ">- Fair\n",
    ">- Good\n",
    ">- Very Good\n",
    ">- Premium\n",
    ">- Ideal\n",
    "* **Color** = diamond colour, from\n",
    ">- D (best) to J (worst)\n",
    "* **Clarity** = a measurement of how clear the diamond is \n",
    ">- I1 (worst)\n",
    ">- SI2, SI1, VS2, VS1, VVS2, VVS1\n",
    ">- IF (best)\n",
    "\n",
    "* **Table** = width of top of diamond relative to widest point (`43–95`)\n",
    "* **Price** = price in US dollars (`$326–$18,823`)\n",
    "* **x** = length in mm (`0–10.74`)\n",
    "* **y** = width in mm (`0–58.9`)\n",
    "* **z** = depth in mm (`0–31.8`)\n",
    "\n",
    "The dependent variable is:. \n",
    "* **Depth** = total depth percentage = z / mean(x, y) = 2 * z / (x + y) (`43–79`)\n",
    "\n",
    "\n",
    "**Procedures:**\n",
    "\n",
    "Here are main procedures of the analysis:\n",
    "- **Part 1**: Load and summarize data\n",
    " > For Part 1, Load data:\n",
    "    > - Get data from GitHub\n",
    "    > - Load the data\n",
    "  \n",
    "- **Part 2**: Perform Exploratory Data Analysis\n",
    " > For Part 2, the main components of EDA include:\n",
    "    > - Understand variables\n",
    "    > - Clean dataset\n",
    "    > - Analyze relationships between variables\n",
    "    > - Graphical analysis\n",
    "- **Part 3**: Conduct Inference evaluations\n",
    " > For Part 3, it consists of 3 stages:\n",
    "    > -  (1) Construct linear regression models by using different features\n",
    "    > -  (2) Model evaluation using 5-fold Cross Validation\n",
    "    > -  (3) Choose the model with the highest average accuracy scores derived from the 5-fold process\n",
    "\n",
    "- **Part 4**: Conclusion\n",
    "\n",
    "***"
   ]
  },
  {
   "cell_type": "code",
   "execution_count": 403,
   "id": "a65dcad9-9ee9-4bbe-9d3a-aa594e600ca0",
   "metadata": {},
   "outputs": [],
   "source": [
    "import pandas as pd\n",
    "import numpy as np\n",
    "import matplotlib.pyplot as plt\n",
    "import seaborn as sns"
   ]
  },
  {
   "cell_type": "markdown",
   "id": "49bdd803-f6e1-4412-b94b-bcdbccdbcc1b",
   "metadata": {},
   "source": [
    "## Part 1: Data Summary\n",
    "\n",
    "In this case, Data Summary consist of:\n",
    "1. Loading data\n",
    "2. Checking use case data\n",
    "3. Checking the data types\n",
    "4. Checking for missing or null values"
   ]
  },
  {
   "cell_type": "markdown",
   "id": "5d86c3da-3699-4113-8129-7407aa876605",
   "metadata": {},
   "source": [
    "### 1. Load Data:"
   ]
  },
  {
   "cell_type": "code",
   "execution_count": 404,
   "id": "745d9383-38f8-4f5a-a6d2-bda93e3460fc",
   "metadata": {},
   "outputs": [
    {
     "data": {
      "text/html": [
       "<div>\n",
       "<style scoped>\n",
       "    .dataframe tbody tr th:only-of-type {\n",
       "        vertical-align: middle;\n",
       "    }\n",
       "\n",
       "    .dataframe tbody tr th {\n",
       "        vertical-align: top;\n",
       "    }\n",
       "\n",
       "    .dataframe thead th {\n",
       "        text-align: right;\n",
       "    }\n",
       "</style>\n",
       "<table border=\"1\" class=\"dataframe\">\n",
       "  <thead>\n",
       "    <tr style=\"text-align: right;\">\n",
       "      <th></th>\n",
       "      <th>Unnamed: 0</th>\n",
       "      <th>carat</th>\n",
       "      <th>cut</th>\n",
       "      <th>color</th>\n",
       "      <th>clarity</th>\n",
       "      <th>depth</th>\n",
       "      <th>table</th>\n",
       "      <th>price</th>\n",
       "      <th>x</th>\n",
       "      <th>y</th>\n",
       "      <th>z</th>\n",
       "    </tr>\n",
       "  </thead>\n",
       "  <tbody>\n",
       "    <tr>\n",
       "      <th>0</th>\n",
       "      <td>1</td>\n",
       "      <td>0.23</td>\n",
       "      <td>Ideal</td>\n",
       "      <td>E</td>\n",
       "      <td>SI2</td>\n",
       "      <td>61.5</td>\n",
       "      <td>55.0</td>\n",
       "      <td>326</td>\n",
       "      <td>3.95</td>\n",
       "      <td>3.98</td>\n",
       "      <td>2.43</td>\n",
       "    </tr>\n",
       "    <tr>\n",
       "      <th>1</th>\n",
       "      <td>2</td>\n",
       "      <td>0.21</td>\n",
       "      <td>Premium</td>\n",
       "      <td>E</td>\n",
       "      <td>SI1</td>\n",
       "      <td>59.8</td>\n",
       "      <td>61.0</td>\n",
       "      <td>326</td>\n",
       "      <td>3.89</td>\n",
       "      <td>3.84</td>\n",
       "      <td>2.31</td>\n",
       "    </tr>\n",
       "    <tr>\n",
       "      <th>2</th>\n",
       "      <td>3</td>\n",
       "      <td>0.23</td>\n",
       "      <td>Good</td>\n",
       "      <td>E</td>\n",
       "      <td>VS1</td>\n",
       "      <td>56.9</td>\n",
       "      <td>65.0</td>\n",
       "      <td>327</td>\n",
       "      <td>4.05</td>\n",
       "      <td>4.07</td>\n",
       "      <td>2.31</td>\n",
       "    </tr>\n",
       "    <tr>\n",
       "      <th>3</th>\n",
       "      <td>4</td>\n",
       "      <td>0.29</td>\n",
       "      <td>Premium</td>\n",
       "      <td>I</td>\n",
       "      <td>VS2</td>\n",
       "      <td>62.4</td>\n",
       "      <td>58.0</td>\n",
       "      <td>334</td>\n",
       "      <td>4.20</td>\n",
       "      <td>4.23</td>\n",
       "      <td>2.63</td>\n",
       "    </tr>\n",
       "    <tr>\n",
       "      <th>4</th>\n",
       "      <td>5</td>\n",
       "      <td>0.31</td>\n",
       "      <td>Good</td>\n",
       "      <td>J</td>\n",
       "      <td>SI2</td>\n",
       "      <td>63.3</td>\n",
       "      <td>58.0</td>\n",
       "      <td>335</td>\n",
       "      <td>4.34</td>\n",
       "      <td>4.35</td>\n",
       "      <td>2.75</td>\n",
       "    </tr>\n",
       "  </tbody>\n",
       "</table>\n",
       "</div>"
      ],
      "text/plain": [
       "   Unnamed: 0  carat      cut color clarity  depth  table  price     x     y  \\\n",
       "0           1   0.23    Ideal     E     SI2   61.5   55.0    326  3.95  3.98   \n",
       "1           2   0.21  Premium     E     SI1   59.8   61.0    326  3.89  3.84   \n",
       "2           3   0.23     Good     E     VS1   56.9   65.0    327  4.05  4.07   \n",
       "3           4   0.29  Premium     I     VS2   62.4   58.0    334  4.20  4.23   \n",
       "4           5   0.31     Good     J     SI2   63.3   58.0    335  4.34  4.35   \n",
       "\n",
       "      z  \n",
       "0  2.43  \n",
       "1  2.31  \n",
       "2  2.31  \n",
       "3  2.63  \n",
       "4  2.75  "
      ]
     },
     "execution_count": 404,
     "metadata": {},
     "output_type": "execute_result"
    }
   ],
   "source": [
    "# URL to diamonds.csv file on GitHub\n",
    "filename = \"https://raw.githubusercontent.com/CheliMex/CS381_DataAnalytics/refs/heads/main/Quiz1/diamonds.csv\"\n",
    "\n",
    "# Loading the dataset into a Pandas DataFrame\n",
    "df = pd.read_csv(filename)\n",
    "\n",
    "# Display the first few rows\n",
    "df.head()"
   ]
  },
  {
   "cell_type": "code",
   "execution_count": 405,
   "id": "3001da1a-38b2-4bca-940e-925d331a86b3",
   "metadata": {},
   "outputs": [
    {
     "data": {
      "text/html": [
       "<div>\n",
       "<style scoped>\n",
       "    .dataframe tbody tr th:only-of-type {\n",
       "        vertical-align: middle;\n",
       "    }\n",
       "\n",
       "    .dataframe tbody tr th {\n",
       "        vertical-align: top;\n",
       "    }\n",
       "\n",
       "    .dataframe thead th {\n",
       "        text-align: right;\n",
       "    }\n",
       "</style>\n",
       "<table border=\"1\" class=\"dataframe\">\n",
       "  <thead>\n",
       "    <tr style=\"text-align: right;\">\n",
       "      <th></th>\n",
       "      <th>Unnamed: 0</th>\n",
       "      <th>carat</th>\n",
       "      <th>cut</th>\n",
       "      <th>color</th>\n",
       "      <th>clarity</th>\n",
       "      <th>depth</th>\n",
       "      <th>table</th>\n",
       "      <th>price</th>\n",
       "      <th>x</th>\n",
       "      <th>y</th>\n",
       "      <th>z</th>\n",
       "    </tr>\n",
       "  </thead>\n",
       "  <tbody>\n",
       "    <tr>\n",
       "      <th>53935</th>\n",
       "      <td>53936</td>\n",
       "      <td>0.72</td>\n",
       "      <td>Ideal</td>\n",
       "      <td>D</td>\n",
       "      <td>SI1</td>\n",
       "      <td>60.8</td>\n",
       "      <td>57.0</td>\n",
       "      <td>2757</td>\n",
       "      <td>5.75</td>\n",
       "      <td>5.76</td>\n",
       "      <td>3.50</td>\n",
       "    </tr>\n",
       "    <tr>\n",
       "      <th>53936</th>\n",
       "      <td>53937</td>\n",
       "      <td>0.72</td>\n",
       "      <td>Good</td>\n",
       "      <td>D</td>\n",
       "      <td>SI1</td>\n",
       "      <td>63.1</td>\n",
       "      <td>55.0</td>\n",
       "      <td>2757</td>\n",
       "      <td>5.69</td>\n",
       "      <td>5.75</td>\n",
       "      <td>3.61</td>\n",
       "    </tr>\n",
       "    <tr>\n",
       "      <th>53937</th>\n",
       "      <td>53938</td>\n",
       "      <td>0.70</td>\n",
       "      <td>Very Good</td>\n",
       "      <td>D</td>\n",
       "      <td>SI1</td>\n",
       "      <td>62.8</td>\n",
       "      <td>60.0</td>\n",
       "      <td>2757</td>\n",
       "      <td>5.66</td>\n",
       "      <td>5.68</td>\n",
       "      <td>3.56</td>\n",
       "    </tr>\n",
       "    <tr>\n",
       "      <th>53938</th>\n",
       "      <td>53939</td>\n",
       "      <td>0.86</td>\n",
       "      <td>Premium</td>\n",
       "      <td>H</td>\n",
       "      <td>SI2</td>\n",
       "      <td>61.0</td>\n",
       "      <td>58.0</td>\n",
       "      <td>2757</td>\n",
       "      <td>6.15</td>\n",
       "      <td>6.12</td>\n",
       "      <td>3.74</td>\n",
       "    </tr>\n",
       "    <tr>\n",
       "      <th>53939</th>\n",
       "      <td>53940</td>\n",
       "      <td>0.75</td>\n",
       "      <td>Ideal</td>\n",
       "      <td>D</td>\n",
       "      <td>SI2</td>\n",
       "      <td>62.2</td>\n",
       "      <td>55.0</td>\n",
       "      <td>2757</td>\n",
       "      <td>5.83</td>\n",
       "      <td>5.87</td>\n",
       "      <td>3.64</td>\n",
       "    </tr>\n",
       "  </tbody>\n",
       "</table>\n",
       "</div>"
      ],
      "text/plain": [
       "       Unnamed: 0  carat        cut color clarity  depth  table  price     x  \\\n",
       "53935       53936   0.72      Ideal     D     SI1   60.8   57.0   2757  5.75   \n",
       "53936       53937   0.72       Good     D     SI1   63.1   55.0   2757  5.69   \n",
       "53937       53938   0.70  Very Good     D     SI1   62.8   60.0   2757  5.66   \n",
       "53938       53939   0.86    Premium     H     SI2   61.0   58.0   2757  6.15   \n",
       "53939       53940   0.75      Ideal     D     SI2   62.2   55.0   2757  5.83   \n",
       "\n",
       "          y     z  \n",
       "53935  5.76  3.50  \n",
       "53936  5.75  3.61  \n",
       "53937  5.68  3.56  \n",
       "53938  6.12  3.74  \n",
       "53939  5.87  3.64  "
      ]
     },
     "execution_count": 405,
     "metadata": {},
     "output_type": "execute_result"
    }
   ],
   "source": [
    "# Display the last few rows\n",
    "df.tail()"
   ]
  },
  {
   "cell_type": "markdown",
   "id": "b23011e7-1904-4493-966d-431a83635e8c",
   "metadata": {},
   "source": [
    "### 2. How many use cases your data set provides?"
   ]
  },
  {
   "cell_type": "code",
   "execution_count": 406,
   "id": "c21c9791-d470-47ca-b618-1dd410c8aaf7",
   "metadata": {},
   "outputs": [
    {
     "name": "stdout",
     "output_type": "stream",
     "text": [
      "The dataset provides 53940 use cases/rows.\n"
     ]
    }
   ],
   "source": [
    "# Number of use cases (rows)\n",
    "num_rows, num_cols = df.shape\n",
    "print(f\"The dataset provides {num_rows} use cases/rows.\")"
   ]
  },
  {
   "cell_type": "markdown",
   "id": "29a9b942-aafe-4bbf-b82d-e927228e2418",
   "metadata": {},
   "source": [
    "#### How many attributes are in each use case?"
   ]
  },
  {
   "cell_type": "code",
   "execution_count": 407,
   "id": "321d30cf-a97d-4af5-ad22-403f60dc3dcd",
   "metadata": {},
   "outputs": [
    {
     "name": "stdout",
     "output_type": "stream",
     "text": [
      "There are 11 attributes/columns in each case.\n"
     ]
    }
   ],
   "source": [
    "# Number of attributes (columns)\n",
    "print(f\"There are {num_cols} attributes/columns in each case.\")"
   ]
  },
  {
   "cell_type": "markdown",
   "id": "6bc3dd70-0d9a-4fd0-81d9-ec89657d342c",
   "metadata": {},
   "source": [
    "### 3. What are the data types for each of the attributes?"
   ]
  },
  {
   "cell_type": "code",
   "execution_count": 408,
   "id": "b43e00ae-ba61-4630-9c0d-0f1fa2edda69",
   "metadata": {},
   "outputs": [
    {
     "name": "stdout",
     "output_type": "stream",
     "text": [
      "Count for each Data type:\n",
      "\n"
     ]
    },
    {
     "data": {
      "text/plain": [
       "float64    6\n",
       "object     3\n",
       "int64      2\n",
       "Name: count, dtype: int64"
      ]
     },
     "execution_count": 408,
     "metadata": {},
     "output_type": "execute_result"
    }
   ],
   "source": [
    "# Data types for each attribute\n",
    "print(\"Count for each Data type:\\n\")\n",
    "# Checking the data type\n",
    "df.dtypes.value_counts()"
   ]
  },
  {
   "cell_type": "markdown",
   "id": "0f4a1ee2-63ad-46d8-bbee-532d942894e0",
   "metadata": {},
   "source": [
    "### 4. Are there any missing or null values?"
   ]
  },
  {
   "cell_type": "code",
   "execution_count": 409,
   "id": "12ca00ef-17c4-47d8-8a82-1386f8eb9f81",
   "metadata": {},
   "outputs": [
    {
     "name": "stdout",
     "output_type": "stream",
     "text": [
      "Null data for each attribute:\n",
      "\n"
     ]
    },
    {
     "data": {
      "text/plain": [
       "Unnamed: 0    0\n",
       "carat         0\n",
       "cut           0\n",
       "color         0\n",
       "clarity       0\n",
       "depth         0\n",
       "table         0\n",
       "price         0\n",
       "x             0\n",
       "y             0\n",
       "z             0\n",
       "dtype: int64"
      ]
     },
     "execution_count": 409,
     "metadata": {},
     "output_type": "execute_result"
    }
   ],
   "source": [
    "# Nulls for each attribute\n",
    "print(\"Null data for each attribute:\\n\")\n",
    "df.isnull().sum()"
   ]
  },
  {
   "cell_type": "markdown",
   "id": "568e0ae2-6d5a-4955-b7d7-d5bd55ef3873",
   "metadata": {},
   "source": [
    "### Recap:\n",
    "\n",
    "* Number of Use Cases and Attributes:\n",
    "    > The diamonds dataset contains 53940 individual diamond records, each representing a unique use case. For each of these records, 10 distinct attributes are provided but if we include the first column then there a total of 11 attributes/rows.\n",
    "\n",
    "* Attribute Data Types:\n",
    "    > The data types for each attribute that consist mostly of numbers are:<br>\n",
    "         > - 2 int64 attributes<br>\n",
    "         > - 6 float64 attributes\n",
    "\n",
    "    > Data types that describe the diamond's quality are: <br>\n",
    "        > - 3 Object attributes\n",
    "\n",
    "    > Opinion on changes to data types:\n",
    "        > - Price should be a float instead int\n",
    "\n",
    "  \n",
    "* Missing Values:\n",
    "    > If any column shows a count more than 0, it would indicates that there are missing values. For the diamonds dataset, we observe that there are no missing values based on above data shown in section 4.\n",
    "\n",
    "*** "
   ]
  },
  {
   "cell_type": "markdown",
   "id": "3cd00188-6629-4277-a77c-528eac7fd69f",
   "metadata": {},
   "source": [
    "## Part 2: Exploratory Data Analysis (EDA)\n",
    "\n",
    "In this case, the procedures of Exploratory Data Analysis consist of:\n",
    "\n",
    "1. Description of data\n",
    "2. Rename the columns\n",
    "3. Detect and remove Outliers\n",
    "4. Check distribution\n",
    "5. Analyze relationships between variables"
   ]
  },
  {
   "cell_type": "markdown",
   "id": "2ee71348-a3eb-443f-aeeb-0e234d7b5e3a",
   "metadata": {},
   "source": [
    "### 1. Description of data - Summary Statistics:"
   ]
  },
  {
   "cell_type": "code",
   "execution_count": 410,
   "id": "2435ddbb-2618-45b5-81e4-e225e23ef035",
   "metadata": {},
   "outputs": [
    {
     "name": "stdout",
     "output_type": "stream",
     "text": [
      "--- Summary Statistics for Numerical Attributes ---\n",
      "         Unnamed: 0         carat         depth         table         price  \\\n",
      "count  53940.000000  53940.000000  53940.000000  53940.000000  53940.000000   \n",
      "mean   26970.500000      0.797940     61.749405     57.457184   3932.799722   \n",
      "std    15571.281097      0.474011      1.432621      2.234491   3989.439738   \n",
      "min        1.000000      0.200000     43.000000     43.000000    326.000000   \n",
      "25%    13485.750000      0.400000     61.000000     56.000000    950.000000   \n",
      "50%    26970.500000      0.700000     61.800000     57.000000   2401.000000   \n",
      "75%    40455.250000      1.040000     62.500000     59.000000   5324.250000   \n",
      "max    53940.000000      5.010000     79.000000     95.000000  18823.000000   \n",
      "\n",
      "                  x             y             z  \n",
      "count  53940.000000  53940.000000  53940.000000  \n",
      "mean       5.731157      5.734526      3.538734  \n",
      "std        1.121761      1.142135      0.705699  \n",
      "min        0.000000      0.000000      0.000000  \n",
      "25%        4.710000      4.720000      2.910000  \n",
      "50%        5.700000      5.710000      3.530000  \n",
      "75%        6.540000      6.540000      4.040000  \n",
      "max       10.740000     58.900000     31.800000  \n"
     ]
    }
   ],
   "source": [
    "#Summary Statistics for Numerical Attributes\n",
    "print(\"--- Summary Statistics for Numerical Attributes ---\")\n",
    "print(df.describe())"
   ]
  },
  {
   "cell_type": "code",
   "execution_count": 411,
   "id": "4f7062cf-856d-4094-b8b6-777affa84981",
   "metadata": {},
   "outputs": [
    {
     "name": "stdout",
     "output_type": "stream",
     "text": [
      "--- Summary Statistics for Categorical Attributes ---\n",
      "          cut  color clarity\n",
      "count   53940  53940   53940\n",
      "unique      5      7       8\n",
      "top     Ideal      G     SI1\n",
      "freq    21551  11292   13065\n"
     ]
    }
   ],
   "source": [
    "print(\"--- Summary Statistics for Categorical Attributes ---\")\n",
    "# For categorical columns shows count, unique, top, and freq for object type\n",
    "print(df.describe(include='object'))\n"
   ]
  },
  {
   "cell_type": "markdown",
   "id": "20b80b63-dbdf-4973-b60f-2a1b43b20e0c",
   "metadata": {},
   "source": [
    "**Reminder**\n",
    "- Cut = quality of the cut\n",
    ">- Fair\n",
    ">- Good\n",
    ">- Very Good\n",
    ">- Premium\n",
    ">- Ideal\n",
    "- Color = diamond color\n",
    ">- D (best) to J (worst)\n",
    "- Clarity = a measurement of how clear the diamond is\n",
    ">- I1 (worst)\n",
    ">-  SI2, SI1, VS2, VS1, VVS2, VVS1\n",
    ">-  IF (best)\n"
   ]
  },
  {
   "cell_type": "code",
   "execution_count": 412,
   "id": "d66e96ed-f694-48fb-8d04-6f2c0f339051",
   "metadata": {},
   "outputs": [
    {
     "name": "stdout",
     "output_type": "stream",
     "text": [
      "--- Value Counts for Categorical Attributes ---\n",
      "\n",
      "Value counts for:\n",
      "cut\n",
      "Ideal        21551\n",
      "Premium      13791\n",
      "Very Good    12082\n",
      "Good          4906\n",
      "Fair          1610\n",
      "Name: count, dtype: int64\n",
      "\n",
      "Value counts for:\n",
      "color\n",
      "G    11292\n",
      "E     9797\n",
      "F     9542\n",
      "H     8304\n",
      "D     6775\n",
      "I     5422\n",
      "J     2808\n",
      "Name: count, dtype: int64\n",
      "\n",
      "Value counts for:\n",
      "clarity\n",
      "SI1     13065\n",
      "VS2     12258\n",
      "SI2      9194\n",
      "VS1      8171\n",
      "VVS2     5066\n",
      "VVS1     3655\n",
      "IF       1790\n",
      "I1        741\n",
      "Name: count, dtype: int64\n"
     ]
    }
   ],
   "source": [
    "# Unique values and their counts for categorical columns\n",
    "print(\"--- Value Counts for Categorical Attributes ---\")\n",
    "for col in df.select_dtypes(include='object'):\n",
    "    print(\"\\nValue counts for:\")\n",
    "    print(df[col].value_counts())"
   ]
  },
  {
   "cell_type": "markdown",
   "id": "4c2a1145-a037-4ee3-8dd2-995c1a68fa5f",
   "metadata": {},
   "source": [
    "#### Explanation of the output:"
   ]
  },
  {
   "cell_type": "markdown",
   "id": "0401c48a-0ab1-4596-97dc-d738157f40cf",
   "metadata": {},
   "source": [
    "* **For Numerical Attributes (`df.describe()`):**\n",
    "    * `count`: Number of non-null observations.\n",
    "    * `mean`: The average value.\n",
    "    * `std`: The standard deviation, which measures the amount of variation or dispersion.\n",
    "    * `min`: The minimum value.\n",
    "    * `25%, 50% (median), 75%`: The quartiles, which divide the data into four equal parts.\n",
    "    * `max`: The maximum value.\n",
    "\n",
    "* **For Categorical Attributes (`df.describe(include='object')`):**\n",
    "    * `count`: Number of non-null observations if < 53940\n",
    "    * `unique`: Number of distinct categories.\n",
    "    * `top`: The most frequent category.\n",
    "    * `freq`: The frequency of the top category.\n",
    "\n",
    "* **For Categorical Attributes (`.value_counts()`):**\n",
    "    * This shows each unique category within a column and how many times it appears in the dataset, which is very useful for understanding the distribution of categorical data."
   ]
  },
  {
   "cell_type": "markdown",
   "id": "7743ef39-8b6e-4ca1-9c7f-dc277ce09e4f",
   "metadata": {},
   "source": [
    "### 2. Renaming the columns"
   ]
  },
  {
   "cell_type": "code",
   "execution_count": 413,
   "id": "c8b65bbe-7f57-463f-8293-51fc0c256943",
   "metadata": {},
   "outputs": [
    {
     "data": {
      "text/html": [
       "<div>\n",
       "<style scoped>\n",
       "    .dataframe tbody tr th:only-of-type {\n",
       "        vertical-align: middle;\n",
       "    }\n",
       "\n",
       "    .dataframe tbody tr th {\n",
       "        vertical-align: top;\n",
       "    }\n",
       "\n",
       "    .dataframe thead th {\n",
       "        text-align: right;\n",
       "    }\n",
       "</style>\n",
       "<table border=\"1\" class=\"dataframe\">\n",
       "  <thead>\n",
       "    <tr style=\"text-align: right;\">\n",
       "      <th></th>\n",
       "      <th>Item #</th>\n",
       "      <th>Carat</th>\n",
       "      <th>Cut</th>\n",
       "      <th>Color</th>\n",
       "      <th>Clarity</th>\n",
       "      <th>Total_Depth</th>\n",
       "      <th>Widest_Point</th>\n",
       "      <th>Price</th>\n",
       "      <th>Length</th>\n",
       "      <th>Width</th>\n",
       "      <th>Depth</th>\n",
       "    </tr>\n",
       "  </thead>\n",
       "  <tbody>\n",
       "    <tr>\n",
       "      <th>0</th>\n",
       "      <td>1</td>\n",
       "      <td>0.23</td>\n",
       "      <td>Ideal</td>\n",
       "      <td>E</td>\n",
       "      <td>SI2</td>\n",
       "      <td>61.5</td>\n",
       "      <td>55.0</td>\n",
       "      <td>326</td>\n",
       "      <td>3.95</td>\n",
       "      <td>3.98</td>\n",
       "      <td>2.43</td>\n",
       "    </tr>\n",
       "    <tr>\n",
       "      <th>1</th>\n",
       "      <td>2</td>\n",
       "      <td>0.21</td>\n",
       "      <td>Premium</td>\n",
       "      <td>E</td>\n",
       "      <td>SI1</td>\n",
       "      <td>59.8</td>\n",
       "      <td>61.0</td>\n",
       "      <td>326</td>\n",
       "      <td>3.89</td>\n",
       "      <td>3.84</td>\n",
       "      <td>2.31</td>\n",
       "    </tr>\n",
       "    <tr>\n",
       "      <th>2</th>\n",
       "      <td>3</td>\n",
       "      <td>0.23</td>\n",
       "      <td>Good</td>\n",
       "      <td>E</td>\n",
       "      <td>VS1</td>\n",
       "      <td>56.9</td>\n",
       "      <td>65.0</td>\n",
       "      <td>327</td>\n",
       "      <td>4.05</td>\n",
       "      <td>4.07</td>\n",
       "      <td>2.31</td>\n",
       "    </tr>\n",
       "    <tr>\n",
       "      <th>3</th>\n",
       "      <td>4</td>\n",
       "      <td>0.29</td>\n",
       "      <td>Premium</td>\n",
       "      <td>I</td>\n",
       "      <td>VS2</td>\n",
       "      <td>62.4</td>\n",
       "      <td>58.0</td>\n",
       "      <td>334</td>\n",
       "      <td>4.20</td>\n",
       "      <td>4.23</td>\n",
       "      <td>2.63</td>\n",
       "    </tr>\n",
       "    <tr>\n",
       "      <th>4</th>\n",
       "      <td>5</td>\n",
       "      <td>0.31</td>\n",
       "      <td>Good</td>\n",
       "      <td>J</td>\n",
       "      <td>SI2</td>\n",
       "      <td>63.3</td>\n",
       "      <td>58.0</td>\n",
       "      <td>335</td>\n",
       "      <td>4.34</td>\n",
       "      <td>4.35</td>\n",
       "      <td>2.75</td>\n",
       "    </tr>\n",
       "  </tbody>\n",
       "</table>\n",
       "</div>"
      ],
      "text/plain": [
       "   Item #  Carat      Cut Color Clarity  Total_Depth  Widest_Point  Price  \\\n",
       "0       1   0.23    Ideal     E     SI2         61.5          55.0    326   \n",
       "1       2   0.21  Premium     E     SI1         59.8          61.0    326   \n",
       "2       3   0.23     Good     E     VS1         56.9          65.0    327   \n",
       "3       4   0.29  Premium     I     VS2         62.4          58.0    334   \n",
       "4       5   0.31     Good     J     SI2         63.3          58.0    335   \n",
       "\n",
       "   Length  Width  Depth  \n",
       "0    3.95   3.98   2.43  \n",
       "1    3.89   3.84   2.31  \n",
       "2    4.05   4.07   2.31  \n",
       "3    4.20   4.23   2.63  \n",
       "4    4.34   4.35   2.75  "
      ]
     },
     "execution_count": 413,
     "metadata": {},
     "output_type": "execute_result"
    }
   ],
   "source": [
    "# Renaming the column names\n",
    "new_df = df.rename(columns={\n",
    "    'Unnamed: 0': 'Item #',\n",
    "    'carat': 'Carat',\n",
    "    'cut': 'Cut',\n",
    "    'color': 'Color',\n",
    "    'clarity': 'Clarity',\n",
    "    'table': 'Widest_Point',\n",
    "    'price': 'Price',\n",
    "    'x': 'Length',\n",
    "    'y': 'Width',\n",
    "    'z': 'Depth',\n",
    "    'depth': 'Total_Depth'\n",
    "})\n",
    "\n",
    "new_df.head(5)"
   ]
  },
  {
   "cell_type": "markdown",
   "id": "96c563b6-d395-4fcf-8683-1c56a4d6bdd1",
   "metadata": {},
   "source": [
    "### 3. Graphs/Plots:\n",
    "    1. Using Matpltlib\n",
    "    2. Using Seaborn\n",
    "    3. Explanation of the Graphs/Plots"
   ]
  },
  {
   "cell_type": "markdown",
   "id": "19bcca3a-ca65-4573-a121-4a5223cf7c4c",
   "metadata": {},
   "source": [
    "#### 1. Using Matplotlib:"
   ]
  },
  {
   "cell_type": "code",
   "execution_count": 414,
   "id": "7ac380dd-f0c2-4bd4-8007-cf7eb1b8e1c2",
   "metadata": {},
   "outputs": [
    {
     "name": "stdout",
     "output_type": "stream",
     "text": [
      "\n",
      "--- Bar Plot of Diamond Color (Matplotlib) ---\n"
     ]
    },
    {
     "data": {
      "image/png": "[encoded data removed]",
      "text/plain": [
       "<Figure size 500x300 with 1 Axes>"
      ]
     },
     "metadata": {},
     "output_type": "display_data"
    }
   ],
   "source": [
    "print(\"\\n--- Bar Plot of Diamond Color (Matplotlib) ---\")\n",
    "\n",
    "# Set the figure size\n",
    "plt.figure(figsize=(5, 3))\n",
    "\n",
    "# Define the order for categorical plots to follow diamond grading best to worst\n",
    "color_order = ['D', 'E', 'F', 'G', 'H', 'I', 'J']\n",
    "color_counts = new_df['Color'].value_counts().reindex(color_order)\n",
    "\n",
    "plt.bar(color_counts.index, color_counts.values, edgecolor='black', alpha=0.7)\n",
    "\n",
    "plt.title('Distribution of Diamond Color (Matplotlib)')\n",
    "plt.xlabel('Color Grade')\n",
    "plt.ylabel('Number of Diamonds')\n",
    "plt.grid(axis='y', alpha=0.75)"
   ]
  },
  {
   "cell_type": "code",
   "execution_count": 415,
   "id": "220b1050-2d96-4be9-9280-6fcaed0bc304",
   "metadata": {},
   "outputs": [
    {
     "name": "stdout",
     "output_type": "stream",
     "text": [
      "\n",
      "--- Bar Plot of Diamond Clarity (Matplotlib) ---\n"
     ]
    },
    {
     "data": {
      "image/png": "[encoded data removed]",
      "text/plain": [
       "<Figure size 500x300 with 1 Axes>"
      ]
     },
     "metadata": {},
     "output_type": "display_data"
    }
   ],
   "source": [
    "print(\"\\n--- Bar Plot of Diamond Clarity (Matplotlib) ---\")\n",
    "\n",
    "# Set the figure size\n",
    "plt.figure(figsize=(5, 3))\n",
    "\n",
    "# Define the order for clarity grades from best to worst\n",
    "clarity_order = ['IF', 'VVS1', 'VVS2', 'VS1', 'VS2', 'SI1', 'SI2', 'I1']\n",
    "clarity_counts = new_df['Clarity'].value_counts().reindex(clarity_order)\n",
    "\n",
    "plt.bar(clarity_counts.index, clarity_counts.values, edgecolor='black', alpha=0.7)\n",
    "\n",
    "plt.title('Distribution of Diamond Clarity (Matplotlib)')\n",
    "plt.xlabel('Clarity Grade')\n",
    "plt.ylabel('Number of Diamonds')\n",
    "plt.grid(axis='y', alpha=0.75)"
   ]
  },
  {
   "cell_type": "markdown",
   "id": "1302482b-c961-4900-a0e5-fd31780475c4",
   "metadata": {},
   "source": [
    "#### 2. Using Seaborn:"
   ]
  },
  {
   "cell_type": "code",
   "execution_count": 416,
   "id": "22bf8308-bcd9-4609-9add-8cc13031472b",
   "metadata": {},
   "outputs": [
    {
     "name": "stdout",
     "output_type": "stream",
     "text": [
      "\n",
      "--- Bar Plot of Diamond Color (Seaborn) ---\n"
     ]
    },
    {
     "data": {
      "image/png": "[encoded data removed]",
      "text/plain": [
       "<Figure size 500x300 with 1 Axes>"
      ]
     },
     "metadata": {},
     "output_type": "display_data"
    }
   ],
   "source": [
    "print(\"\\n--- Bar Plot of Diamond Color (Seaborn) ---\")\n",
    "\n",
    "# Set the figure size\n",
    "plt.figure(figsize=(5, 3))\n",
    "color_order = ['D', 'E', 'F', 'G', 'H', 'I', 'J']\n",
    "\n",
    "sns.countplot(x='Color', data=new_df, order=color_order, edgecolor='black', alpha=0.7)\n",
    "\n",
    "plt.title('Distribution of Diamond Color (Seaborn)')\n",
    "plt.xlabel('Color Grade')\n",
    "plt.ylabel('Number of Diamonds')\n",
    "plt.grid(axis='y', alpha=0.75) # Add grid for better readability\n"
   ]
  },
  {
   "cell_type": "code",
   "execution_count": 417,
   "id": "57c4c321-66eb-4e6c-a617-b9597b337bb7",
   "metadata": {},
   "outputs": [
    {
     "name": "stdout",
     "output_type": "stream",
     "text": [
      "\n",
      "--- Histogram of Carat (Seaborn) ---\n"
     ]
    },
    {
     "data": {
      "image/png": "[encoded data removed]",
      "text/plain": [
       "<Figure size 500x300 with 1 Axes>"
      ]
     },
     "metadata": {},
     "output_type": "display_data"
    }
   ],
   "source": [
    "print(\"\\n--- Histogram of Carat (Seaborn) ---\")\n",
    "\n",
    "# Set the figure size\n",
    "plt.figure(figsize=(5, 3))\n",
    "\n",
    "# Define the order for clarity grades from best to worst\n",
    "clarity_order = ['IF', 'VVS1', 'VVS2', 'VS1', 'VS2', 'SI1', 'SI2', 'I1']\n",
    "\n",
    "sns.countplot(x='Clarity', data=new_df, order=clarity_order, edgecolor='black', alpha=0.7)\n",
    "\n",
    "plt.title('Distribution of Diamond Clarity (Seaborn)')\n",
    "plt.xlabel('Clarity Grade')\n",
    "plt.ylabel('Number of Diamonds')\n",
    "plt.grid(axis='y', alpha=0.75)"
   ]
  },
  {
   "cell_type": "markdown",
   "id": "a7803816-10d0-4c6e-9ac0-5455ef8cd58a",
   "metadata": {},
   "source": [
    "#### 3. Explanation of the plots:\n",
    "\n",
    "* These bar plots show the absolute frequency of each diamond color grade and diamond clarity grade..\n",
    "    *  You'll be able to see which color grades are most common in the dataset and which are less frequent.\n",
    "    *  The order parameter helps in presenting the categories logically (from best 'D' to worst 'J' color).\n",
    "    *  You'll be able to quickly see which clarity grades are most abundant in the dataset and how the counts change across the different purity levels."
   ]
  },
  {
   "cell_type": "markdown",
   "id": "8db4eac9-00a7-4e9e-bba6-527be51b8f76",
   "metadata": {},
   "source": [
    "## Part 3: Inferences"
   ]
  },
  {
   "cell_type": "markdown",
   "id": "b4e5b4c9-4976-460a-a349-008eb04f5bb2",
   "metadata": {},
   "source": [
    "### 1. What proportion of diamonds are between .30 and 1.08 carats?\n",
    "\n",
    "- To determine the proportion of diamonds with a carat value between 0.30 and 1.08, we first filtered the dataset to and  then count the number of diamonds. We then dividie this count by the total number of diamonds."
   ]
  },
  {
   "cell_type": "code",
   "execution_count": 418,
   "id": "e4d8f762-2bb2-4472-95ab-f037e3d65832",
   "metadata": {},
   "outputs": [
    {
     "name": "stdout",
     "output_type": "stream",
     "text": [
      "Proportion of diamonds between 0.30 and 1.08 carats: 0.7468298109010011\n",
      "Number of diamonds between 0.30 and 1.08 carats: 40284\n",
      "Total number of diamonds: 53940\n"
     ]
    }
   ],
   "source": [
    "# Filter diamonds within the specified carat range\n",
    "diamonds_in_range = new_df[(new_df['Carat'] >= 0.30) & (new_df['Carat'] <= 1.08)]\n",
    "\n",
    "# Count the number of diamonds in the range\n",
    "count_in_range = len(diamonds_in_range)\n",
    "\n",
    "# Get the total number of diamonds\n",
    "total_diamonds = len(new_df)\n",
    "\n",
    "# Calculate the proportion\n",
    "proportion = count_in_range / total_diamonds\n",
    "\n",
    "print(f\"Proportion of diamonds between 0.30 and 1.08 carats: {proportion}\")\n",
    "print(f\"Number of diamonds between 0.30 and 1.08 carats: {count_in_range}\")\n",
    "print(f\"Total number of diamonds: {total_diamonds}\")\n"
   ]
  },
  {
   "cell_type": "markdown",
   "id": "ec81005b-2d2d-49bd-b40d-4d788d9d6aae",
   "metadata": {},
   "source": [
    "**Findings:**\n",
    "- The analysis shows that `40,284` diamonds out of a total of `53,940` fall within this carat range.\n",
    "- This results in a proportion of approximately `0.7468`.\n",
    "- This indicates that a significant of diamonds are within this common size category."
   ]
  },
  {
   "cell_type": "markdown",
   "id": "f16b6f00-e454-49d0-a587-c977786647f2",
   "metadata": {},
   "source": [
    "### 2. How many of the diamonds have equal x and y dimensions?\n",
    "- To find out how many diamonds have equal `x` and `y` dimensions, now known as `Length` and `Width`, we performed a direct comparison between the dataset.\n",
    "- We filtered the DataFrame to include only those rows where the value in the x column was identical to the value in the y column."
   ]
  },
  {
   "cell_type": "code",
   "execution_count": 419,
   "id": "b1669950-eff4-4ffb-a93d-eb3ca8cb29d3",
   "metadata": {},
   "outputs": [
    {
     "name": "stdout",
     "output_type": "stream",
     "text": [
      "Number of diamonds with equal x and y dimensions: 17\n"
     ]
    }
   ],
   "source": [
    "# Filter for diamonds where x dimension equals y dimension\n",
    "equal_dimension = new_df[new_df['Length'] == new_df['Width']]\n",
    "\n",
    "# Count the number of such diamonds\n",
    "count_diamonds = len(equal_dimension)\n",
    "\n",
    "print(f\"Number of diamonds with equal x and y dimensions: {count_diamonds}\")"
   ]
  },
  {
   "cell_type": "markdown",
   "id": "1a2bebe9-be11-4cb7-9335-049c5ac628d3",
   "metadata": {},
   "source": [
    "**Findings:**\n",
    "\n",
    "- The analysis reveals that `17` diamonds have identical x and y dimensions. \n",
    "- If 'x' or 'y' dimensions are zero, this would mean that there are missing or invalid data points, but that is not our case with the dataset I have."
   ]
  },
  {
   "cell_type": "markdown",
   "id": "ef6a29b5-11ed-4844-8288-1b5db6cb037c",
   "metadata": {},
   "source": [
    "### 3. How many of the diamonds have a carat value that is less than the mean carat value?\n",
    "- To determine the number of diamonds with a carat value less than the mean carat value, we first nned to calculate the overall average carat of all diamonds in the dataset."
   ]
  },
  {
   "cell_type": "code",
   "execution_count": 420,
   "id": "7e69548c-f92a-4bef-8502-32371a0a5240",
   "metadata": {},
   "outputs": [
    {
     "name": "stdout",
     "output_type": "stream",
     "text": [
      "Mean carat value: 0.7979397478680014\n",
      "Number of diamonds with carat value less than the mean: 31127\n"
     ]
    }
   ],
   "source": [
    "# Calculate the mean carat value\n",
    "mean_carat = new_df['Carat'].mean()\n",
    "\n",
    "# Filter for diamonds with carat value less than the mean\n",
    "less_mean_carat = new_df[new_df['Carat'] < mean_carat]\n",
    "\n",
    "# Count the number of such diamonds\n",
    "count_less_mean_carat = len(less_mean_carat)\n",
    "\n",
    "print(f\"Mean carat value: {mean_carat}\")\n",
    "print(f\"Number of diamonds with carat value less than the mean: {count_less_mean_carat}\")"
   ]
  },
  {
   "cell_type": "markdown",
   "id": "13864e40-03f5-484c-8af6-969c7f31a776",
   "metadata": {},
   "source": [
    "**Findings:**\n",
    "- The mean carat value was found to be approximately `0.7979`.\n",
    "- We filtered the DataFrame to select only those diamonds whose carat attribute was strictly less than this calculated mean. The count of these diamonds provides the answer to the question.\n",
    "\n",
    "- The analysis shows that `31,127` diamonds have a carat value that is less than the mean carat value of the dataset.\n",
    "- Given that carat distributions usually have more smaller diamonds than larger ones, it's common to find more data points below the mean than above it."
   ]
  },
  {
   "cell_type": "markdown",
   "id": "f5f82047-dafa-4ed7-9d62-38db3dced928",
   "metadata": {},
   "source": [
    "### 4. How many diamonds have a Premium cut or better?\n",
    "\n",
    "* To determine the amount of diamonds with a 'Premium' cut or better, we first remember the cut categories based on the following:\n",
    "    *  Fair\n",
    "    *  Good\n",
    "    *  Very Good\n",
    "    *  Premium\n",
    "    *  Ideal\n"
   ]
  },
  {
   "cell_type": "code",
   "execution_count": 421,
   "id": "319f071d-faa6-48a1-a6d8-ee87dd2b64cc",
   "metadata": {},
   "outputs": [
    {
     "data": {
      "image/png": "[encoded data removed]",
      "text/plain": [
       "<Figure size 640x480 with 1 Axes>"
      ]
     },
     "metadata": {},
     "output_type": "display_data"
    }
   ],
   "source": [
    "bplt = new_df['Cut'].value_counts().plot.bar(title = \"Diamond Cut Count\")"
   ]
  },
  {
   "cell_type": "code",
   "execution_count": 422,
   "id": "93675739-3f62-4125-a58d-bb1d55b6532b",
   "metadata": {},
   "outputs": [
    {
     "name": "stdout",
     "output_type": "stream",
     "text": [
      "Number of diamonds with a Premium cut or better: 35342\n"
     ]
    }
   ],
   "source": [
    "# Define the cut qualities that are \"Premium or better\"\n",
    "premium_or_better = ['Premium', 'Ideal']\n",
    "\n",
    "# Filter for diamonds with 'cut' quality that is Premium or Ideal\n",
    "premium_or_better_cut = df[df['cut'].isin(premium_or_better)]\n",
    "\n",
    "# Count the number of such diamonds\n",
    "count_premium_or_better_cut = len(premium_or_better_cut)\n",
    "\n",
    "print(f\"Number of diamonds with a Premium cut or better: {count_premium_or_better_cut}\")"
   ]
  },
  {
   "cell_type": "markdown",
   "id": "f6d45d98-de6c-47b9-8b38-b1450356d56e",
   "metadata": {},
   "source": [
    "**Findings:**\n",
    "- The analysis reveals that `35,342` diamonds have a `Premium` cut or better.\n",
    "- This show that a considerable amount of the diamonds are of high cut quality, which usually means better brilliance and sparkle."
   ]
  },
  {
   "cell_type": "markdown",
   "id": "863095d6-7b51-4d1d-b0f6-c3d0cbdd7fb4",
   "metadata": {},
   "source": [
    "### 5. Which diamond has the highest price per carat? What is its value?\n",
    "- To find which diamond has the highest price per carat, we first need to calculate a new attribute. I will call it price_per_carat.\n",
    "- This will be done by dividing the price of each diamond by its carat value.\n",
    "- Once this new attribute is created, we can then find the max value and then we can find the diamond(s) associated with that max"
   ]
  },
  {
   "cell_type": "code",
   "execution_count": 423,
   "id": "235524f6-fb92-4534-80ab-893636d9d443",
   "metadata": {},
   "outputs": [
    {
     "name": "stdout",
     "output_type": "stream",
     "text": [
      "The highest price per carat value is: 17828.846153846152\n",
      "\n",
      "Diamond(s) with the highest price per carat:\n",
      "       Item #  Carat        Cut Color Clarity  Total_Depth  Widest_Point  \\\n",
      "27635   27636   1.04  Very Good     D      IF         61.3          56.0   \n",
      "\n",
      "       Price  Length  Width  Depth  price_per_carat  \n",
      "27635  18542    6.53   6.55   4.01     17828.846154  \n"
     ]
    }
   ],
   "source": [
    "# Calculate price per carat\n",
    "new_df['price_per_carat'] = new_df['Price'] / new_df['Carat']\n",
    "\n",
    "# Find the maximum price per carat\n",
    "max_price_per_carat_value = new_df['price_per_carat'].max()\n",
    "\n",
    "# Find the row(s) corresponding to the highest price per carat\n",
    "highest_price_per_carat_diamond = new_df[new_df['price_per_carat'] == max_price_per_carat_value]\n",
    "\n",
    "print(f\"The highest price per carat value is: {max_price_per_carat_value}\")\n",
    "print(\"\\nDiamond(s) with the highest price per carat:\")\n",
    "# Display all columns for the diamond(s) with the highest price per carat\n",
    "print(highest_price_per_carat_diamond)"
   ]
  },
  {
   "cell_type": "markdown",
   "id": "afd324f3-a13f-49a4-a6db-d69c266318f8",
   "metadata": {},
   "source": [
    "**Findings:**\n",
    "\n",
    "- The analysis shows that the highest price per carat observed in the dataset is `17,828.846`. The diamonds corresponding to this value has the following characteristics:\n",
    "\n",
    "    * Item Number = 27636\n",
    "    * Max Price = 17828.84\n",
    "    * Carat = 1.04\n",
    "    * Cut = Very Good\n",
    "    * Color = D\n",
    "    * clarity = IF\n",
    "    * Price = 18542\n",
    "    * Price_per_carat = 17,828.84\n",
    "\n",
    "- This diamond represents the most expensive per unit of weight within this dataset, which can be influenced by a combination of high quality attributes (cut, color, clarity)"
   ]
  },
  {
   "cell_type": "markdown",
   "id": "81c6ae01-f163-4344-8a74-b3ebe28f6789",
   "metadata": {},
   "source": [
    "### 6. Using both Matplolib and Seaborn, make boxplots of the diamond price for each distinct cut value and discuss any conclusions you can draw from the appearance of the boxplots.\n",
    "-  These plots allow us to examine the distribution of prices across each distinct cut category.\n"
   ]
  },
  {
   "cell_type": "code",
   "execution_count": 424,
   "id": "539c89fc-247c-4b98-b831-041f5406a777",
   "metadata": {},
   "outputs": [
    {
     "name": "stdout",
     "output_type": "stream",
     "text": [
      "\n",
      "--- Box Plot of Price by Cut (Matplotlib) ---\n"
     ]
    },
    {
     "data": {
      "image/png": "[encoded data removed]",
      "text/plain": [
       "<Figure size 500x300 with 1 Axes>"
      ]
     },
     "metadata": {},
     "output_type": "display_data"
    }
   ],
   "source": [
    "print(\"\\n--- Box Plot of Price by Cut (Matplotlib) ---\")\n",
    "# A more direct way \n",
    "new_df.boxplot(column='Price', by='Cut', figsize=(5, 3))\n",
    "\n",
    "plt.title('Diamond Price Distribution by Cut Quality (Matplotlib)')\n",
    "plt.suptitle('') # Suppress the default suptitle created by .boxplot()\n",
    "plt.xlabel('Cut Quality')\n",
    "plt.ylabel('Price')\n",
    "plt.grid(axis='y', alpha=0.75)"
   ]
  },
  {
   "cell_type": "code",
   "execution_count": 425,
   "id": "c92da95d-7fc7-48e6-ae90-d65c4ab1934c",
   "metadata": {},
   "outputs": [
    {
     "name": "stdout",
     "output_type": "stream",
     "text": [
      "\n",
      "--- Box Plot of Price by Cut (Seaborn) ---\n"
     ]
    },
    {
     "data": {
      "image/png": "[encoded data removed]",
      "text/plain": [
       "<Figure size 500x300 with 1 Axes>"
      ]
     },
     "metadata": {},
     "output_type": "display_data"
    }
   ],
   "source": [
    "print(\"\\n--- Box Plot of Price by Cut (Seaborn) ---\")\n",
    "\n",
    "# Set the figure size\n",
    "plt.figure(figsize=(5, 3))\n",
    "\n",
    "sns.boxplot(x='Cut', y='Price', data=new_df, order=['Fair', 'Good', 'Very Good', 'Premium', 'Ideal'])\n",
    "\n",
    "plt.title('Diamond Price Distribution by Cut Quality (Seaborn)')\n",
    "plt.xlabel('Cut Quality')\n",
    "plt.ylabel('Price')\n",
    "plt.grid(axis='y', alpha=0.75)"
   ]
  },
  {
   "cell_type": "markdown",
   "id": "b7282e54-95f1-4dde-b13c-ea7b7c60ecae",
   "metadata": {},
   "source": [
    "**Findings:**\n",
    "\n",
    "* **By comparing the box plots for different cut qualities, you can observe:**\n",
    "    * How the median price varies across different cuts.\n",
    "    * The spread of prices within each cut quality (by the length of the box).\n",
    "    * The presence and extent of outliers (extremely high or low prices for a given cut).\n",
    "    * Can see whether higher quality cuts tend to have higher prices or a wider range of prices.\n",
    "\n",
    "* **Median Price Trend:**\n",
    "    * We can observe that the median line within each box the median `price` generally increase, as the cut quality improves from `Fair` to `Ideal`.\n",
    "\n",
    "* **Overall Price Distribution:**\n",
    "    * We can observe that the wiskers go from long to short as the cut quality improves.\n",
    "\n",
    "* **Outliers:**\n",
    "    * We can observe that there is a lot of outliers in all cut but more there are more outliers in 'Fair' and 'Ideal' cuts.\n",
    "    * We see unusually high-priced outliers in the `Fair` cut category, this suggests that despite having a poor cut quality, these specific diamonds command a much higher price. Which could be due to its weight, color or clarity.\n",
    "    * We see high-priced outliers in the `Ideal` cut category, where its likely that they are large diamonds or almost perfect diamonds. Meaning it has the better standard for all attributes.\n",
    "    * If I removing the outliers then it would mean I'm losing information.\n",
    "\n",
    "* **General Observation:**\n",
    "    * We can observe that while the median price tends to increase with cut quality, there's a significant overlap in the price ranges, especially for very high-quality cuts."
   ]
  },
  {
   "cell_type": "markdown",
   "id": "5cd49a76-18e2-4b66-8827-ff5f2d0c4622",
   "metadata": {},
   "source": [
    "### 7. Using both Matplolib and Seaborn, make a scatter plot of price vs. carat. What can we say about the relationship between those two attributes?"
   ]
  },
  {
   "cell_type": "code",
   "execution_count": 426,
   "id": "bbec4dd0-21fe-41ac-8788-be093760fd8d",
   "metadata": {},
   "outputs": [
    {
     "name": "stdout",
     "output_type": "stream",
     "text": [
      "\n",
      "--- Scatter Plot of Price vs. Carat (Matplotlib) ---\n"
     ]
    },
    {
     "data": {
      "image/png": "[encoded data removed]",
      "text/plain": [
       "<Figure size 500x300 with 1 Axes>"
      ]
     },
     "metadata": {},
     "output_type": "display_data"
    }
   ],
   "source": [
    "print(\"\\n--- Scatter Plot of Price vs. Carat (Matplotlib) ---\")\n",
    "\n",
    "# Set the figure size\n",
    "plt.figure(figsize=(5, 3))\n",
    "\n",
    "# s for size of points\n",
    "plt.scatter(new_df['Carat'], new_df['Price'], alpha=0.75, s=10) \n",
    "\n",
    "plt.title('Diamond Price vs. Carat (Matplotlib)')\n",
    "plt.xlabel('Carat')\n",
    "plt.ylabel('Price')\n",
    "plt.grid(True, alpha=0.6)"
   ]
  },
  {
   "cell_type": "code",
   "execution_count": 427,
   "id": "6178e255-18a8-40e1-9469-10a256015cd6",
   "metadata": {},
   "outputs": [
    {
     "name": "stdout",
     "output_type": "stream",
     "text": [
      "\n",
      "--- Scatter Plot of Price vs. Carat (Seaborn) ---\n"
     ]
    },
    {
     "data": {
      "image/png": "[encoded data removed]",
      "text/plain": [
       "<Figure size 500x300 with 1 Axes>"
      ]
     },
     "metadata": {},
     "output_type": "display_data"
    }
   ],
   "source": [
    "print(\"\\n--- Scatter Plot of Price vs. Carat (Seaborn) ---\")\n",
    "\n",
    "# Set the figure size\n",
    "plt.figure(figsize=(5, 3))\n",
    "\n",
    "sns.scatterplot(x='Carat', y='Price', data=new_df, alpha=0.75, s=10) \n",
    "plt.title('Diamond Price vs. Carat (Seaborn)')\n",
    "plt.xlabel('Carat')\n",
    "plt.ylabel('Price')\n",
    "plt.grid(True, alpha=0.6)"
   ]
  },
  {
   "cell_type": "markdown",
   "id": "a4bb1314-8c4f-44a5-8b73-3cc62cd2547e",
   "metadata": {},
   "source": [
    "**Findings:**\n",
    "\n",
    " \n",
    "* **Direction of Relationship (Correlation):**\n",
    "    * We can observe that the plots start from bottom left in a small cluster branch up and to the right.\n",
    "    * This indicates a positive correlation, meaning as carat increases, price also tends to increase.\n",
    "\n",
    "* **Strength of Relationship:**\n",
    "    * We can observe that the points cluster between 1 and 2 ranginf from price 5000 to 15000. It started as a tight band, meaning there was a strong correlation, but then it started to widely scattered, making it weaker.\n",
    "    * We can observe a relatively strong relationship, even though its not perfectly linear.\n",
    "\n",
    "* **Form of Relationship:**\n",
    "    * The relationship appear to be a mix of linear and curved.\n",
    "    * I would says it curvilinear due to price increases at an accelerating rate with carat.\n",
    "\n",
    "* **Presence of Outliers or Clusters:**\n",
    "    * We can observe that there are a few point that deviate from the main trend, that start at Carat >3 with price >15000.\n",
    "\n",
    "* **Overall Conclusion for the relationship:**\n",
    "    * There's a strong, positive relationship between diamond price and carat, this means that the carat weight is a primary driver of a diamond's price."
   ]
  },
  {
   "cell_type": "markdown",
   "id": "34280db3-fca4-4647-981c-8896f3791f76",
   "metadata": {},
   "source": [
    "## Part 4: Conclusion"
   ]
  },
  {
   "cell_type": "markdown",
   "id": "4451fe32-739e-412d-8fc5-a850a86504b1",
   "metadata": {},
   "source": [
    "This project aimed to perform an exploratory data analysis on a dataset of nearly 54,000 diamonds.\n",
    "\n",
    "Our initial data summary revealed a comprehensive dataset of 53,940 diamonds with 11 attributes with no missing values.\n",
    "\n",
    "Through exploratory data analysis, we observed several key characteristics of the diamond attributes. \n",
    "For example, the distribution of `Carat` was found to be right-skewed, indicating a higher frequency of smaller diamonds.\n",
    "\n",
    "The analysis of categorical attributes like `cut`, `color`, and `clarity` revealed that `Ideal` was the most common cut, while `G` was the most common color grade.\n",
    "Our box plots of `price` by `cut` demonstrated a clear positive trend where the median price generally increased with the cut quality, although we saw how price ranges and outliers were observed particularly in `Fair` and `Ideal` cuts.\n",
    "\n",
    "Our specific inferences further solidified these observations. We found that a good amount of diamonds fell within the 0.30 to 1.08 carat range. Furthermore, the scatter plot of `price` versus `carat` clearly showed a strong, positive, and non-linear correlation, showing `carat` as a dominant factor in determining the price of a diamond.\n",
    "\n",
    "In conclusion, this analysis shows that the `color`, `clarity` and other factors are indeed crucial for the pricing of diamonds using the provided dataset in this document."
   ]
  },
  {
   "cell_type": "markdown",
   "id": "120b0861-cc1d-4445-9c3f-148bc54eefbf",
   "metadata": {},
   "source": [
    "## Part 5: References"
   ]
  },
  {
   "cell_type": "markdown",
   "id": "40b0e460-9710-4a21-b35c-f279dea0e2fc",
   "metadata": {},
   "source": [
    "* **Diamonds Dataset Description:**\n",
    "    * https://ggplot2.tidyverse.org/reference/diamonds.html\n",
    "* https://keyzarjewelry.com/blogs/diamonds-education/sparkle\n",
    "* https://www.diamonds.pro/education/cuts/\n",
    "  * https://www.diamonds.pro/education/cuts/#Diamond-Cut-Grade-Chart \n",
    "  * https://www.diamonds.pro/education/cuts/#Prices-for-Different-Diamond-Cuts\n",
    "  * https://www.diamonds.pro/education/cuts/#Factors-that-Affect-a-Diamonds-Cut\n",
    "- https://diamondbuzz.blog/diamond-fire-brilliance-and-scintillation/\n",
    "\n",
    "\n",
    "* **Pandas Documentation:**\n",
    "    * https://pandas.pydata.org/pandas-docs/stable/](https://pandas.pydata.org/pandas-docs/stable/\n",
    "\n",
    "* **Matplotlib Documentation:**\n",
    "    * https://matplotlib.org/stable/](https://matplotlib.org/stable/\n",
    "\n",
    "* **Seaborn Documentation (if used):**\n",
    "    * https://seaborn.pydata.org/](https://seaborn.pydata.org/"
   ]
  }
 ],
 "metadata": {
  "kernelspec": {
   "display_name": "Python 3 (ipykernel)",
   "language": "python",
   "name": "python3"
  },
  "language_info": {
   "codemirror_mode": {
    "name": "ipython",
    "version": 3
   },
   "file_extension": ".py",
   "mimetype": "text/x-python",
   "name": "python",
   "nbconvert_exporter": "python",
   "pygments_lexer": "ipython3",
   "version": "3.13.3"
  }
 },
 "nbformat": 4,
 "nbformat_minor": 5
}
