{
 "cells": [
  {
   "cell_type": "code",
   "execution_count": null,
   "id": "7f10229b-dc6e-4914-80cc-e17b9caaaa9c",
   "metadata": {},
   "outputs": [],
   "source": []
  }
 ],
 "metadata": {
  "kernelspec": {
   "display_name": "",
   "name": ""
  },
  "language_info": {
   "name": ""
  }
 },
 "nbformat": 4,
 "nbformat_minor": 5
}
