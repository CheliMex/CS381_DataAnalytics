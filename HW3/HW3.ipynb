{
 "cells": [
  {
   "cell_type": "markdown",
   "id": "0bb796ad-7e42-4d41-8635-697852733bf7",
   "metadata": {},
   "source": [
    "# Instructions\n",
    "For the first eight questions, use cars-sample35.txt. The seven distinct values represent attributes of a single type of automobile. Specifically we have the following:\n",
    "- Price\n",
    "- Maintenance cost\n",
    "- Number of doors\n",
    "- Number of passengers\n",
    "- Luggage capacity\n",
    "- Safety rating\n",
    "- Classification of vehicle\n",
    "\n",
    "1. Upload the data to github. Upload the data to python using Pandas and give it headers.\n",
    "2. Extract these seven attributes from each line of the file and create seven distinct Python list objects comprised solely of the values you extracted for a given attribute. In other words, you should have lists of prices, maintenance costs, number of doors, etc.\n",
    "3. Find the list index values of each automobile having a “price” rating of \"med\". Create a new list object with your result. HINT: you can accomplish this task by searching the list of price values you created earlier. Be sure to print your results.\n",
    "4. Find the \"number of passengers\" value for each auto having a \"price\" value of \"med\". Create a new list to store your findings and be sure to print your results.\n",
    "5. Find the index value for each automobile having a “price” value of \"high\" and a “maintenance” value that is not \"low\". Create a new list to store your findings and be sure to print your results.\n",
    "6. Find the list index values of each automobile having a price rating of \"med using a list comprehension instead of a basic for or while loop. The list comprehension should create a new list containing your result. Be sure to print your results to the screen.\n",
    "7. Find the \"number of passengers\" value for each auto having a \"price\" value of \"med\" using a list comprehension instead of a basic for or while loop. The list comprehension should create a new list containing your findings. Be sure to print your results to the screen.\n",
    "8. Find the index value for each automobile having a price value of \"high\" and a maintenance value that is not \"low\" using a list comprehension. The list comprehension should create a new list containing your findings. Be sure to print your results to the screen.\n",
    "\n",
    "Nested List Comprehension (no file needed):\n",
    "1. Consider the following list of lists: nlist = [ [1, 2, 3], [‘A’, ‘B’, ‘C’], [4, 5], [‘D’, ‘E’] ]. Extract each individual element of the component lists contained within nlist and add them to a new list.  Do NOT use a nested for loop, use a list comprehension."
   ]
  },
  {
   "cell_type": "code",
   "execution_count": 9,
   "id": "0bc029bb-42c8-42fe-a2ff-4dba41303e0f",
   "metadata": {},
   "outputs": [],
   "source": [
    "import pandas as pd\n",
    "import numpy as np"
   ]
  },
  {
   "cell_type": "markdown",
   "id": "7a5e11a6-7b0b-4a22-ac1a-a53146c57445",
   "metadata": {},
   "source": [
    "## 1. Upload the data to github. Upload the data to python using Pandas and give it headers."
   ]
  },
  {
   "cell_type": "code",
   "execution_count": 20,
   "id": "ed3c25c6-efb1-4d92-a1f2-779dc93b796f",
   "metadata": {},
   "outputs": [
    {
     "name": "stdout",
     "output_type": "stream",
     "text": [
      "Data with headers:\n",
      "   Price Maintenance_Cost Number_of_Doors Number_of_Passengers  \\\n",
      "0   high             high               2                    4   \n",
      "1   high             high               4                 more   \n",
      "2   high             high               4                 more   \n",
      "3   high              low               2                 more   \n",
      "4  vhigh              low               3                    2   \n",
      "\n",
      "  Luggage_Capacity Safety_Rating Classification_of_Vehicle  \n",
      "0              med           low                     unacc  \n",
      "1            small          high                       acc  \n",
      "2              big           low                     unacc  \n",
      "3              big          high                       acc  \n",
      "4              med           med                     unacc  \n"
     ]
    }
   ],
   "source": [
    "# File path\n",
    "url = \"https://raw.githubusercontent.com/CheliMex/CS381_DataAnalytics/refs/heads/main/HW3/cars-sample35.txt\"\n",
    "#file_path = pd.read_csv(url)\n",
    "#file_path = 'cars-sample35.txt'\n",
    "\n",
    "# Define the headers\n",
    "headers = [\n",
    "    \"Price\",\n",
    "    \"Maintenance_Cost\",\n",
    "    \"Number_of_Doors\",\n",
    "    \"Number_of_Passengers\",\n",
    "    \"Luggage_Capacity\",\n",
    "    \"Safety_Rating\",\n",
    "    \"Classification_of_Vehicle\"\n",
    "]\n",
    "\n",
    "try:\n",
    "    df = pd.read_csv(url, header=None, names=headers)\n",
    "    print(\"Data with headers:\")\n",
    "    print(df.head())\n",
    "except FileNotFoundError:\n",
    "    print(f\"Error: The file '{url}' was not found.\")"
   ]
  },
  {
   "cell_type": "markdown",
   "id": "59836909-a8a0-41ef-ac45-b8b600670e63",
   "metadata": {},
   "source": [
    "## 2. Extract these seven attributes from each line of the file and create seven distinct Python list objects comprised solely of the values you extracted for a given attribute. In other words, you should have lists of prices, maintenance costs, number of doors, etc."
   ]
  },
  {
   "cell_type": "code",
   "execution_count": 3,
   "id": "0fb2f659-c17b-430a-bfcc-10e1c7e58de0",
   "metadata": {},
   "outputs": [
    {
     "name": "stdout",
     "output_type": "stream",
     "text": [
      "--- Extracted Attributes to Python Lists ---\n",
      "\n",
      "Price List: ['high', 'high', 'high', 'high', 'vhigh', 'low', 'med', 'low', 'vhigh', 'vhigh', 'low', 'vhigh', 'high', 'low', 'high', 'vhigh', 'med', 'high', 'low', 'low', 'med', 'low', 'vhigh', 'med', 'low', 'vhigh', 'med', 'high', 'low', 'med', 'high', 'high', 'low', 'vhigh', 'high']\n",
      "\n",
      "Maintenance Cost List: ['high', 'high', 'high', 'low', 'low', 'high', 'med', 'low', 'low', 'high', 'low', 'low', 'low', 'vhigh', 'low', 'high', 'med', 'low', 'low', 'low', 'high', 'low', 'high', 'vhigh', 'vhigh', 'low', 'vhigh', 'high', 'high', 'high', 'low', 'vhigh', 'low', 'vhigh', 'low']\n",
      "\n",
      "Number of Doors List: ['2', '4', '4', '2', '3', '2', '4', '3', '2', '4', '2', '4', '2', '3', '5more', '2', '2', '5more', '3', '2', '4', '2', '5more', '2', '4', '3', '3', '3', '5more', '5more', '3', '5more', '5more', '4', '3']\n",
      "\n",
      "Number of Passengers List: ['4', 'more', 'more', 'more', '2', '2', 'more', '2', '2', '4', '2', 'more', '4', 'more', '2', 'more', '2', '4', 'more', '2', '2', '2', '4', '2', '4', 'more', '4', '4', '2', '2', '4', '4', '2', '2', '2']\n",
      "\n",
      "Luggage Capacity List: ['med', 'small', 'big', 'big', 'med', 'small', 'med', 'big', 'small', 'med', 'med', 'small', 'big', 'big', 'big', 'med', 'small', 'med', 'med', 'big', 'big', 'small', 'med', 'big', 'big', 'big', 'small', 'med', 'big', 'med', 'med', 'med', 'med', 'big', 'big']\n",
      "\n",
      "Safety Rating List: ['low', 'high', 'low', 'high', 'med', 'low', 'high', 'med', 'low', 'low', 'med', 'high', 'med', 'low', 'med', 'high', 'low', 'high', 'high', 'med', 'high', 'high', 'med', 'low', 'low', 'low', 'low', 'med', 'low', 'med', 'high', 'med', 'low', 'high', 'high']\n",
      "\n",
      "Classification List: ['unacc', 'acc', 'unacc', 'acc', 'unacc', 'unacc', 'vgood', 'unacc', 'unacc', 'unacc', 'unacc', 'acc', 'acc', 'unacc', 'unacc', 'unacc', 'unacc', 'acc', 'vgood', 'unacc', 'unacc', 'unacc', 'unacc', 'unacc', 'unacc', 'unacc', 'unacc', 'unacc', 'unacc', 'unacc', 'acc', 'unacc', 'unacc', 'unacc', 'unacc']\n"
     ]
    }
   ],
   "source": [
    "# Extracting attributes into 7 distinct list objects\n",
    "price_list = df['Price'].tolist()\n",
    "maintenance_cost_list = df['Maintenance_Cost'].tolist()\n",
    "number_of_doors_list = df['Number_of_Doors'].tolist()\n",
    "number_of_passengers_list = df['Number_of_Passengers'].tolist()\n",
    "luggage_capacity_list = df['Luggage_Capacity'].tolist()\n",
    "safety_rating_list = df['Safety_Rating'].tolist()\n",
    "classification_list = df['Classification_of_Vehicle'].tolist()\n",
    "\n",
    "print(\"--- Extracted Attributes to Python Lists ---\")\n",
    "print(f\"\\nPrice List: {price_list}\")\n",
    "print(f\"\\nMaintenance Cost List: {maintenance_cost_list}\")\n",
    "print(f\"\\nNumber of Doors List: {number_of_doors_list}\")\n",
    "print(f\"\\nNumber of Passengers List: {number_of_passengers_list}\")\n",
    "print(f\"\\nLuggage Capacity List: {luggage_capacity_list}\")\n",
    "print(f\"\\nSafety Rating List: {safety_rating_list}\")\n",
    "print(f\"\\nClassification List: {classification_list}\")"
   ]
  },
  {
   "cell_type": "markdown",
   "id": "076cd1d1-461d-4894-8953-9fe4a73029ba",
   "metadata": {},
   "source": [
    "## 3. Find the list index values of each automobile having a “price” rating of \"med\". Create a new list object with your result. HINT: you can accomplish this task by searching the list of price values you created earlier. Be sure to print your results."
   ]
  },
  {
   "cell_type": "code",
   "execution_count": 4,
   "id": "0b9ecb6e-6693-443a-a114-88eacffaeed5",
   "metadata": {},
   "outputs": [
    {
     "name": "stdout",
     "output_type": "stream",
     "text": [
      "Index value with 'med' price:\n",
      "[6, 16, 20, 23, 26, 29]\n"
     ]
    }
   ],
   "source": [
    "# Initialize an empty list to store the indices\n",
    "med_price = []\n",
    "\n",
    "# Using enumerate to get both index and value\n",
    "for index, price in enumerate(price_list):\n",
    "    # Check if the current price value is \"med\"\n",
    "    if price == \"med\":\n",
    "        med_price.append(index)\n",
    "\n",
    "# Printing the index with med price\n",
    "print(\"Index value with 'med' price:\")\n",
    "print(med_price)"
   ]
  },
  {
   "cell_type": "markdown",
   "id": "07c23ced-86d4-494c-89b1-94527c9f6213",
   "metadata": {},
   "source": [
    "## 4. Find the \"number of passengers\" value for each auto having a \"price\" value of \"med\". Create a new list to store your findings and be sure to print your results."
   ]
  },
  {
   "cell_type": "code",
   "execution_count": 5,
   "id": "1bd42558-ecf3-468e-97c3-e3c45cd4a284",
   "metadata": {},
   "outputs": [
    {
     "name": "stdout",
     "output_type": "stream",
     "text": [
      "'Number of passengers' for autos with 'med' price:\n",
      "['more', '2', '2', '2', '4', '2']\n"
     ]
    }
   ],
   "source": [
    "# Initialize an empty list to store the passenger counts\n",
    "num_passengers = []\n",
    "\n",
    "# Use the index to retrieve 'Number_of_Passengers' from its list\n",
    "for index in med_price:\n",
    "    num_passengers.append(number_of_passengers_list[index])\n",
    "\n",
    "# Printing the value for autos with med price\n",
    "print(\"'Number of passengers' for autos with 'med' price:\")\n",
    "print(num_passengers)"
   ]
  },
  {
   "cell_type": "markdown",
   "id": "c1d1168e-1018-4b63-a82c-c2c0cdcbee37",
   "metadata": {},
   "source": [
    "## 5. Find the index value for each automobile having a “price” value of \"high\" and a “maintenance” value that is not \"low\". Create a new list to store your findings and be sure to print your results."
   ]
  },
  {
   "cell_type": "code",
   "execution_count": 6,
   "id": "da339b0d-ee4a-4120-ab26-f9abce3568e0",
   "metadata": {},
   "outputs": [
    {
     "name": "stdout",
     "output_type": "stream",
     "text": [
      "Indices of autos with 'high' price AND maintenance NOT 'low':\n",
      "[0, 1, 2, 27, 31]\n"
     ]
    }
   ],
   "source": [
    "# Initialize an empty list to store the indices\n",
    "high_price_not_low_maintenance = []\n",
    "\n",
    "# Iterate using a range to get indices, as we need to access two lists at the same time\n",
    "for i in range(len(price_list)):\n",
    "    # Check both conditions: price is \"high\" AND maintenance is NOT \"low\"\n",
    "    if price_list[i] == \"high\" and maintenance_cost_list[i] != \"low\":\n",
    "        high_price_not_low_maintenance.append(i)\n",
    "\n",
    "# Printing the indices of autos with 'high' price AND maintenance value NOT 'low\n",
    "print(\"Indices of autos with 'high' price AND maintenance NOT 'low':\")\n",
    "print(high_price_not_low_maintenance)"
   ]
  },
  {
   "cell_type": "markdown",
   "id": "547af499-bf8e-4001-9e24-f27c72f5b9c4",
   "metadata": {},
   "source": [
    "## 6. Find the list index values of each automobile having a price rating of \"med\" using a list comprehension instead of a basic for or while loop. The list comprehension should create a new list containing your result. Be sure to print your results to the screen."
   ]
  },
  {
   "cell_type": "code",
   "execution_count": 7,
   "id": "cd5c922f-118e-4bee-9b2e-fdd0e23b8e21",
   "metadata": {},
   "outputs": [
    {
     "name": "stdout",
     "output_type": "stream",
     "text": [
      "Indices of automobiles with 'med' price:\n",
      "[6, 16, 20, 23, 26, 29]\n"
     ]
    }
   ],
   "source": [
    "# This iterates through (index, price) pairs from enumerate(price_list)\n",
    "# and includes 'index' in the new list only if 'price' is \"med\".\n",
    "index_med_price_list_comp = [\n",
    "    index for index, price in enumerate(price_list) if price == \"med\"]\n",
    "\n",
    "# Printing the indices of automobiles with 'med' price\n",
    "print(\"Indices of automobiles with 'med' price:\")\n",
    "print(index_med_price_list_comp)"
   ]
  },
  {
   "cell_type": "markdown",
   "id": "71a1ed82-482c-4e58-ba69-81bd0bac6829",
   "metadata": {},
   "source": [
    "## 7. Find the \"number of passengers\" value for each auto having a \"price\" value of \"med\" using a list comprehension instead of a basic for or while loop. The list comprehension should create a new list containing your findings. Be sure to print your results to the screen."
   ]
  },
  {
   "cell_type": "code",
   "execution_count": 8,
   "id": "985dd438-1975-4dbd-9b55-c9d708e956dd",
   "metadata": {},
   "outputs": [
    {
     "name": "stdout",
     "output_type": "stream",
     "text": [
      "'Number of passengers' for autos with 'med' price:\n",
      "['more', '2', '2', '2', '4', '2']\n"
     ]
    }
   ],
   "source": [
    "# This gets the 'number_of_passengers_list[index]' for each (index, price) pair\n",
    "# where 'price' is \"med\".\n",
    "num_passengers_med_price_list_comp = [\n",
    "    number_of_passengers_list[index] for index, price in enumerate(price_list) if price == \"med\"]\n",
    "\n",
    "# Printing the number of passengers for autos with price value of 'med'\n",
    "print(\"'Number of passengers' for autos with 'med' price:\")\n",
    "print(num_passengers_med_price_list_comp)"
   ]
  },
  {
   "cell_type": "markdown",
   "id": "8e5a61d3-06f6-4905-84b6-653709c99566",
   "metadata": {},
   "source": [
    "## 8. Find the index value for each automobile having a price value of \"high\" and a maintenance value that is not \"low\" using a list comprehension. The list comprehension should create a new list containing your findings. Be sure to print your results to the screen."
   ]
  },
  {
   "cell_type": "code",
   "execution_count": 9,
   "id": "109a97bf-c849-47ba-a59f-1ea94a5700ec",
   "metadata": {},
   "outputs": [
    {
     "name": "stdout",
     "output_type": "stream",
     "text": [
      "Indices of autos with 'high' price AND maintenance NOT 'low':\n",
      "[0, 1, 2, 27, 31]\n"
     ]
    }
   ],
   "source": [
    "# This uses zip to iterate through (index, price, maintenance) 3 things simultaneously.\n",
    "# 'i' (the index) is included only if 'price' is \"high\" AND 'maintenance' is NOT \"low\".\n",
    "\n",
    "high_price_not_low_maintenance_list_comp = [\n",
    "    i for i, (price, maintenance) in enumerate(zip(price_list, maintenance_cost_list))\n",
    "    if price == \"high\" and maintenance != \"low\"\n",
    "]\n",
    "\n",
    "# Printing the indices of autos with 'high' price AND maintenance value NOT 'low'\n",
    "print(\"Indices of autos with 'high' price AND maintenance NOT 'low':\")\n",
    "print(high_price_not_low_maintenance_list_comp)"
   ]
  },
  {
   "cell_type": "markdown",
   "id": "23dfce1c-a061-4a8e-82a1-f9645956fb5b",
   "metadata": {},
   "source": [
    "## 1. Consider the following list of lists: nlist = [ [1, 2, 3], [‘A’, ‘B’, ‘C’], [4, 5], [‘D’, ‘E’] ]. Extract each individual element of the component lists contained within nlist and add them to a new list. Do NOT use a nested for loop, use a list comprehension."
   ]
  },
  {
   "cell_type": "code",
   "execution_count": 10,
   "id": "dfb7a0f9-8f39-48b2-98f4-9f0f31a4f9e4",
   "metadata": {},
   "outputs": [
    {
     "name": "stdout",
     "output_type": "stream",
     "text": [
      "Flattened list (using list comprehension): [1, 2, 3, 'A', 'B', 'C', 4, 5, 'D', 'E']\n"
     ]
    }
   ],
   "source": [
    "# Initialize a list to store the data list\n",
    "nlist = [ \n",
    "    [1, 2, 3], \n",
    "    ['A', 'B', 'C'], \n",
    "    [4, 5], \n",
    "    ['D', 'E'] \n",
    "]\n",
    "\n",
    "# Flattens the list of lists into a single list\n",
    "flattened_list = [item for sublist in nlist for item in sublist]\n",
    "\n",
    "# Print each individual element of the component lists\n",
    "print(f\"Flattened list (using list comprehension): {flattened_list}\")"
   ]
  }
 ],
 "metadata": {
  "kernelspec": {
   "display_name": "Python 3 (ipykernel)",
   "language": "python",
   "name": "python3"
  },
  "language_info": {
   "codemirror_mode": {
    "name": "ipython",
    "version": 3
   },
   "file_extension": ".py",
   "mimetype": "text/x-python",
   "name": "python",
   "nbconvert_exporter": "python",
   "pygments_lexer": "ipython3",
   "version": "3.13.3"
  }
 },
 "nbformat": 4,
 "nbformat_minor": 5
}
