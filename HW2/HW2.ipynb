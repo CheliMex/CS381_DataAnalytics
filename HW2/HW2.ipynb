{
 "cells": [
  {
   "cell_type": "markdown",
   "id": "05fc596a-1511-4090-acd4-6b5223599f31",
   "metadata": {},
   "source": [
    "## Problem 1:\n",
    "\n",
    "    Write a Python/NumPy code block that finds the distinct/unique common items between these two arrays:\n",
    "    a = np.array([1, 2, 3, 2, 3, 4, 3, 4, 5, 6])\n",
    "    b = np.array([7, 2, 10, 2, 7, 4, 9, 4, 9, 8])\n",
    "    Your output should contain only the distinct overlapping values. For example, if a 2 is found in both array a and array b, your output should contain only one 2 even if array a contains more than one 2 within it."
   ]
  },
  {
   "cell_type": "code",
   "execution_count": 57,
   "id": "35471fee-30a1-46ad-a356-0d169fc16792",
   "metadata": {},
   "outputs": [],
   "source": [
    "import numpy as np\n",
    "import pandas as pd"
   ]
  },
  {
   "cell_type": "code",
   "execution_count": 58,
   "id": "1065edfc-65e8-4ac2-951a-b3642a27d016",
   "metadata": {},
   "outputs": [
    {
     "name": "stdout",
     "output_type": "stream",
     "text": [
      "Common Elements:\n",
      "[2 4]\n"
     ]
    }
   ],
   "source": [
    "# Given the two arrays\n",
    "a = np.array([1, 2, 3, 2, 3, 4, 3, 4, 5, 6])\n",
    "b = np.array([7, 2, 10, 2, 7, 4, 9, 4, 9, 8])\n",
    "\n",
    "# Using np.intersect1d to find the distinct common elements \n",
    "unique_items = np.intersect1d(a, b)\n",
    "\n",
    "# Print the result\n",
    "print(\"Common Elements:\")\n",
    "print(unique_items)"
   ]
  },
  {
   "cell_type": "markdown",
   "id": "0d493208-af91-4181-9f04-6b13049cd05b",
   "metadata": {},
   "source": [
    "## Problem 2:\n",
    "\n",
    "    Create the following 5x3 array using knowledge you have of Python’s / NumPy’s sequencing functionality\n",
    "    so that you do not need to explicitly key in every integer value.\n",
    "    1   6    11\n",
    "    2   7    12\n",
    "    3   8    13\n",
    "    4   9    14\n",
    "    5   10   15"
   ]
  },
  {
   "cell_type": "code",
   "execution_count": 59,
   "id": "84b2d9be-67ab-4f01-87e6-08a1c39e15f7",
   "metadata": {},
   "outputs": [
    {
     "name": "stdout",
     "output_type": "stream",
     "text": [
      "5x3 Array:\n",
      "[[ 1  6 11]\n",
      " [ 2  7 12]\n",
      " [ 3  8 13]\n",
      " [ 4  9 14]\n",
      " [ 5 10 15]]\n"
     ]
    }
   ],
   "source": [
    "# Create a sequence of numbers from 1 to 15 (inclusive)\n",
    "# np.arange(start, stop)\n",
    "sequence = np.arange(1, 16)\n",
    "\n",
    "# Reshape into a 5x3 array.\n",
    "# By default, reshape fills row by row ( 1  2  3).\n",
    "# To fill column by column as per your example, we use 'order='F'' (for Fortran-style order).\n",
    "result_array = sequence.reshape((5, 3), order='F')\n",
    "\n",
    "# Print the resulting array\n",
    "print(\"5x3 Array:\")\n",
    "print(result_array)"
   ]
  },
  {
   "cell_type": "markdown",
   "id": "d9185283-6d37-4d9b-bf83-86153d4f90f8",
   "metadata": {},
   "source": [
    "## Problem 3:\n",
    "\n",
    "    The process of transforming a multidimensional array into a unidimensional array is referred to as “flattening”. \n",
    "    Transform the 5x3 array shown above in Problem 2 into a unidimensional array such that the sequence of values contained within the array is as follows:\n",
    "    1, 2, 3, 4, 5, 6, 7, 8, 9, 10, 11, 12, 13, 14, 15"
   ]
  },
  {
   "cell_type": "code",
   "execution_count": 60,
   "id": "45d42a0e-82b7-4de5-a386-665b5c337ea3",
   "metadata": {},
   "outputs": [
    {
     "name": "stdout",
     "output_type": "stream",
     "text": [
      "Unidimensional Array:\n",
      "[ 1  2  3  4  5  6  7  8  9 10 11 12 13 14 15]\n"
     ]
    }
   ],
   "source": [
    "# Transform result_array into a unidimensional array (flattening)\n",
    "# We use order='F' agin to do (column-major) order\n",
    "unidimensional_array = result_array.flatten(order='F')\n",
    "\n",
    "# Print the flattened array\n",
    "print(\"Unidimensional Array:\")\n",
    "print(unidimensional_array)"
   ]
  },
  {
   "cell_type": "markdown",
   "id": "9e876de1-d3fc-4557-830c-d2274e131fc0",
   "metadata": {},
   "source": [
    "## Problem 4:\n",
    "\n",
    "    Transform the 2-D array shown in Problem 2 into a 3 dimensional array such that the first column becomes the first dimension of the 3-D array, \n",
    "    the second column becomes the second dimension of the 3-D array, and the third column becomes the third dimension of the 3-D array."
   ]
  },
  {
   "cell_type": "code",
   "execution_count": 61,
   "id": "e6800d3b-044e-429d-9204-e6308e55e31c",
   "metadata": {},
   "outputs": [
    {
     "name": "stdout",
     "output_type": "stream",
     "text": [
      "3D Array:\n",
      "[[[ 1]\n",
      "  [ 2]\n",
      "  [ 3]\n",
      "  [ 4]\n",
      "  [ 5]]\n",
      "\n",
      " [[ 6]\n",
      "  [ 7]\n",
      "  [ 8]\n",
      "  [ 9]\n",
      "  [10]]\n",
      "\n",
      " [[11]\n",
      "  [12]\n",
      "  [13]\n",
      "  [14]\n",
      "  [15]]]\n"
     ]
    }
   ],
   "source": [
    "# Reshape unidimensional_array into a 3-dimensional array\n",
    "# use reshape into 3 col with 5 rows with 1 element each\n",
    "into_3d_array = unidimensional_array.reshape((3, 5, 1))\n",
    "\n",
    "# Print the 3D array\n",
    "print(\"3D Array:\")\n",
    "print(into_3d_array)"
   ]
  },
  {
   "cell_type": "markdown",
   "id": "7664bfc7-3319-46ed-83fc-de8883a8f439",
   "metadata": {},
   "source": [
    "## Problem 5:\n",
    "\n",
    "    Transform the 3-D array you created in Problem 4 back to the 2-dimensional format shown in Problem 2.\n"
   ]
  },
  {
   "cell_type": "code",
   "execution_count": 62,
   "id": "0ca15cf7-657b-4cca-aaf1-764e8af172c5",
   "metadata": {},
   "outputs": [
    {
     "name": "stdout",
     "output_type": "stream",
     "text": [
      "2D Array:\n",
      "[[ 1  6 11]\n",
      " [ 2  7 12]\n",
      " [ 3  8 13]\n",
      " [ 4  9 14]\n",
      " [ 5 10 15]]\n"
     ]
    }
   ],
   "source": [
    "# Flatten the 3-D array into a 2-D sequence\n",
    "flat_sequence = into_3d_array.flatten()\n",
    "flat_2d_array = flat_sequence.reshape((5, 3), order='F')\n",
    "\n",
    "# Print 2D Array\n",
    "print(\"2D Array:\")\n",
    "print(flat_2d_array)"
   ]
  },
  {
   "cell_type": "markdown",
   "id": "0794783b-1475-4011-87a7-c07da2583e80",
   "metadata": {},
   "source": [
    "## Problem 6:\n",
    "\n",
    "    You are given the following two arrays:\n",
    "    a = np.array([12, 5, 7, 15, 3, 1, 8])\n",
    "    b = np.array([14, 6, 3, 11, 19, 12, 5])\n",
    "    Write a Python/Numpy code block that removes from array a any items that are also present in array b."
   ]
  },
  {
   "cell_type": "code",
   "execution_count": 63,
   "id": "7f09f0ad-b65b-4f78-9fac-51aeac34dbca",
   "metadata": {},
   "outputs": [
    {
     "name": "stdout",
     "output_type": "stream",
     "text": [
      "Unqiue array:\n",
      "[ 1  7  8 15]\n"
     ]
    }
   ],
   "source": [
    "# Given two arrays\n",
    "a = np.array([12, 5, 7, 15, 3, 1, 8])\n",
    "b = np.array([14, 6, 3, 11, 19, 12, 5])\n",
    "\n",
    "# Using np.setdiff1d to find elements in 'a' that are NOT in 'b'\n",
    "remove_array = np.setdiff1d(a, b)\n",
    "\n",
    "# Print the resulting array\n",
    "print(\"Unqiue array:\")\n",
    "print(remove_array)"
   ]
  },
  {
   "cell_type": "markdown",
   "id": "4e8f502f-44d2-4bca-be86-d4f0a0926ddf",
   "metadata": {},
   "source": [
    "## Problem 7:\n",
    "    Answer the following questions about the accompanying data file.\n",
    "\n",
    "    What is the maximum yearly NYC consumption of water in millions of gallons per day?\n",
    "    How many calendar years are represented within this data set? NumPy's shape command is one way to find out.\n",
    "    What is the mean and the standard deviation of the per capita daily water consumption?\n",
    "    What is the increase or decrease in population from year to year? Use NumPy's `diff` function to create an array of differences and save that to a variable called \"pop_diff\", then print that variable to the screen."
   ]
  },
  {
   "cell_type": "code",
   "execution_count": 64,
   "id": "512e1902-8a65-4ac1-a1e4-baa7a173cbc4",
   "metadata": {},
   "outputs": [
    {
     "name": "stdout",
     "output_type": "stream",
     "text": [
      "    Year  New York City Population  NYC Consumption(Million gallons per day)  \\\n",
      "0   1979                 7102100.0                                    1512.0   \n",
      "1   1980                 7071639.0                                    1506.0   \n",
      "2   1981                 7089241.0                                    1309.0   \n",
      "3   1982                 7109105.0                                    1382.0   \n",
      "4   1983                 7181224.0                                    1424.0   \n",
      "5   1984                 7234514.0                                    1465.0   \n",
      "6   1985                 7274054.0                                    1326.0   \n",
      "7   1986                 7319246.0                                    1351.0   \n",
      "8   1987                 7342476.0                                    1447.0   \n",
      "9   1988                 7353719.0                                    1484.0   \n",
      "10  1989                 7344175.0                                    1402.0   \n",
      "11  1990                 7335650.0                                    1424.0   \n",
      "12  1991                 7374501.0                                    1469.0   \n",
      "13  1992                 7428944.0                                    1369.0   \n",
      "14  1993                 7506166.0                                    1368.5   \n",
      "15  1994                 7570458.0                                    1357.7   \n",
      "16  1995                 7633040.0                                    1325.7   \n",
      "17  1996                 7697812.0                                    1297.9   \n",
      "18  1997                 7773443.0                                    1205.5   \n",
      "19  1998                 7858259.0                                    1219.5   \n",
      "20  1999                 7947660.0                                    1237.2   \n",
      "21  2000                 8008278.0                                    1240.4   \n",
      "22  2001                 8024963.5                                    1184.0   \n",
      "23  2002                 8041649.0                                    1135.6   \n",
      "24  2003                 8058334.5                                    1093.7   \n",
      "25  2004                 8075020.0                                    1099.5   \n",
      "26  2005                 8091705.5                                    1138.0   \n",
      "27  2006                 8108391.0                                    1069.0   \n",
      "28  2007                 8125076.5                                    1114.0   \n",
      "29  2008                 8141762.0                                    1098.0   \n",
      "30  2009                 8158447.5                                    1007.5   \n",
      "31  2010                 8175133.0                                    1039.0   \n",
      "32  2011                 8284098.0                                    1021.0   \n",
      "33  2012                 8361179.0                                    1009.1   \n",
      "34  2013                 8422460.0                                    1006.1   \n",
      "35  2014                 8471990.0                                     996.0   \n",
      "36  2015                 8516502.0                                    1009.0   \n",
      "37  2016                 8537673.0                                    1002.0   \n",
      "38  2017                 8622698.0                                     990.2   \n",
      "\n",
      "    Per Capita(Gallons per person per day)  \n",
      "0                                      213  \n",
      "1                                      213  \n",
      "2                                      185  \n",
      "3                                      194  \n",
      "4                                      198  \n",
      "5                                      203  \n",
      "6                                      182  \n",
      "7                                      185  \n",
      "8                                      197  \n",
      "9                                      202  \n",
      "10                                     191  \n",
      "11                                     194  \n",
      "12                                     199  \n",
      "13                                     184  \n",
      "14                                     182  \n",
      "15                                     179  \n",
      "16                                     174  \n",
      "17                                     169  \n",
      "18                                     155  \n",
      "19                                     155  \n",
      "20                                     156  \n",
      "21                                     155  \n",
      "22                                     148  \n",
      "23                                     141  \n",
      "24                                     136  \n",
      "25                                     136  \n",
      "26                                     141  \n",
      "27                                     132  \n",
      "28                                     137  \n",
      "29                                     135  \n",
      "30                                     123  \n",
      "31                                     127  \n",
      "32                                     123  \n",
      "33                                     121  \n",
      "34                                     119  \n",
      "35                                     118  \n",
      "36                                     118  \n",
      "37                                     117  \n",
      "38                                     115  \n"
     ]
    }
   ],
   "source": [
    "file_path = 'Module6_Data.csv'\n",
    "# Import the data into a pandas DataFrame\n",
    "try:\n",
    "    df = pd.read_csv(file_path)\n",
    "    print(df)\n",
    "except FileNotFoundError:\n",
    "    print(f\"Error: The file '{file_path}' was not found.\")"
   ]
  },
  {
   "cell_type": "markdown",
   "id": "063cedec-1b15-4d0d-8e06-128e9a44ce7b",
   "metadata": {},
   "source": [
    "### What is the `maximum` yearly NYC consumption of water in millions of gallons per day?\n"
   ]
  },
  {
   "cell_type": "code",
   "execution_count": 65,
   "id": "2c1c5310-07c5-4c01-9f0f-9b469c75cc5f",
   "metadata": {},
   "outputs": [
    {
     "name": "stdout",
     "output_type": "stream",
     "text": [
      "Maximum yearly NYC consumption of water: 1512.00 Million Gallons per Day\n"
     ]
    }
   ],
   "source": [
    "nyc_consumption = 'NYC Consumption(Million gallons per day)'\n",
    "\n",
    "# Finding the maximum consumption\n",
    "max_consumption = df[nyc_consumption].max()\n",
    "\n",
    "print(f\"Maximum yearly NYC consumption of water: {max_consumption:.2f} Million Gallons per Day\")"
   ]
  },
  {
   "cell_type": "markdown",
   "id": "8500a884-4aee-432d-88fc-aa3b8b81b568",
   "metadata": {},
   "source": [
    "### How many `calendar years` are represented within this data set? NumPy's shape command is one way to find out.\n"
   ]
  },
  {
   "cell_type": "code",
   "execution_count": 66,
   "id": "31169f39-0575-41e1-8e3f-011ec36506ab",
   "metadata": {},
   "outputs": [
    {
     "name": "stdout",
     "output_type": "stream",
     "text": [
      "Number of calendar years represented in the data set: 39\n"
     ]
    }
   ],
   "source": [
    "# Getting the number of rows which represents the number of years\n",
    "num_years = df.shape[0]\n",
    "\n",
    "print(f\"Number of calendar years represented in the data set: {num_years}\")"
   ]
  },
  {
   "cell_type": "markdown",
   "id": "c6f6ec7b-55d0-4a36-acf1-0b1e4b497736",
   "metadata": {},
   "source": [
    "### What is the mean and the `standard deviation` of the per capita daily water consumption?\n"
   ]
  },
  {
   "cell_type": "code",
   "execution_count": 67,
   "id": "70c73985-cf60-47eb-9963-79579fe78329",
   "metadata": {},
   "outputs": [
    {
     "name": "stdout",
     "output_type": "stream",
     "text": [
      "Mean per capita daily water consumption: 160.31 Gallons\n",
      "Standard deviation of per capita daily water consumption: 31.93 Gallons\n"
     ]
    }
   ],
   "source": [
    "per_capita_col = 'Per Capita(Gallons per person per day)'\n",
    "# Calculate the mean\n",
    "mean_per_capita = df[per_capita_col].mean()\n",
    "\n",
    "# Calculate the standard deviation\n",
    "std_dev_per_capita = df[per_capita_col].std()\n",
    "\n",
    "print(f\"Mean per capita daily water consumption: {mean_per_capita:.2f} Gallons\")\n",
    "print(f\"Standard deviation of per capita daily water consumption: {std_dev_per_capita:.2f} Gallons\")"
   ]
  },
  {
   "cell_type": "markdown",
   "id": "43c92aa6-e270-4761-bedf-6472af029d88",
   "metadata": {},
   "source": [
    "### What is the increase or decrease in population from year to year? Use NumPy's `diff` function to create an array of differences and save that to a variable called \"pop_diff\", then print that variable to the screen."
   ]
  },
  {
   "cell_type": "code",
   "execution_count": 68,
   "id": "4864e3fd-f8cd-4e35-a551-0acf8513b7c3",
   "metadata": {},
   "outputs": [
    {
     "name": "stdout",
     "output_type": "stream",
     "text": [
      "Increase or decrease in population from year to year:\n",
      "[-30461.   17602.   19864.   72119.   53290.   39540.   45192.   23230.\n",
      "  11243.   -9544.   -8525.   38851.   54443.   77222.   64292.   62582.\n",
      "  64772.   75631.   84816.   89401.   60618.   16685.5  16685.5  16685.5\n",
      "  16685.5  16685.5  16685.5  16685.5  16685.5  16685.5  16685.5 108965.\n",
      "  77081.   61281.   49530.   44512.   21171.   85025. ]\n"
     ]
    }
   ],
   "source": [
    "nyc_population = 'New York City Population'\n",
    "\n",
    "# Use NumPy's diff function to calculate the year-to-year differences in population\n",
    "pop_diff = np.diff(df[nyc_population])\n",
    "\n",
    "print(\"Increase or decrease in population from year to year:\")\n",
    "print(pop_diff)"
   ]
  }
 ],
 "metadata": {
  "kernelspec": {
   "display_name": "Python 3 (ipykernel)",
   "language": "python",
   "name": "python3"
  },
  "language_info": {
   "codemirror_mode": {
    "name": "ipython",
    "version": 3
   },
   "file_extension": ".py",
   "mimetype": "text/x-python",
   "name": "python",
   "nbconvert_exporter": "python",
   "pygments_lexer": "ipython3",
   "version": "3.13.3"
  }
 },
 "nbformat": 4,
 "nbformat_minor": 5
}
