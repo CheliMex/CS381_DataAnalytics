{
 "cells": [
  {
   "cell_type": "markdown",
   "metadata": {
    "id": "95Shdyy0LNSC"
   },
   "source": [
    "## Project 2: Classifying Mortality Categories\n",
    "\n",
    "## Introduction\n",
    "**Research Question:** Can we accurately categorize leading causes of death in New York City into **high-mortality** and **low-mortality** groups using demographic features (year, sex, race/ethnicity) and cause-of-death codes?\n",
    "\n",
    "## Dataset Overview\n",
    "We leverage the **New York City Leading Causes of Death** dataset, which compiles annual mortality records by cause, demographic group, and rate measures. This rich dataset allows us to examine how mortality patterns shift over time and across different populations.\n",
    "\n",
    "## Key Variables\n",
    "- **Year:** Calendar year when the death occurred.  \n",
    "- **Leading Cause:** Standardized medical classification for the underlying cause of death.  \n",
    "- **Sex:** Biological sex of the deceased (“Male” or “Female”).  \n",
    "- **Race/Ethnicity:** Self-reported or recorded race and ethnicity category.  \n",
    "- **Deaths:** Total count of fatalities for each combination of variables.  \n",
    "- **Death Rate:** Unadjusted number of deaths per 100,000 residents.  \n",
    "- **Age-Adjusted Death Rate:** Mortality rate standardized to a reference population to account for age distribution differences, enabling fair comparisons across groups and years.\n",
    "\n",
    "## Dataset Source\n",
    "**Source:** New York City Department of Health & Mental Hygiene  \n",
    "“New York City Leading Causes of Death” (updated June 23, 2025)  \n",
    "<https://data.cityofnewyork.us/Health/New-York-City-Leading-Causes-of-Death/jb7j-dtam>\n",
    "\n",
    "## Project Roadmap\n",
    "1. **Data Loading & Initial Exploration**  \n",
    "   - Read the CSV, inspect schema, check for missing values, and view basic summaries.  \n",
    "2. **Data Cleaning & Preprocessing**  \n",
    "   - Impute or remove missing entries, convert data types, filter outliers, and encode categorical variables.  \n",
    "3. **Exploratory Data Analysis (EDA)**  \n",
    "   - Visualize distributions of causes, demographic breakdowns, and trends in mortality rates.  \n",
    "4. **Feature Engineering & Selection**  \n",
    "   - Create additional predictors, perform statistical tests (e.g., Chi-square, correlation), and apply methods like RFE to identify top features.  \n",
    "5. **Model Development**  \n",
    "   - Train and tune classification algorithms (e.g., Logistic Regression, SVM, KNN) to label causes as high or low mortality.  \n",
    "6. **Model Evaluation**  \n",
    "   - Assess models using metrics such as accuracy, precision, recall, F1-score, and ROC-AUC; compare performance to select the best approach.\n"
   ]
  },
  {
   "cell_type": "markdown",
   "metadata": {
    "id": "KQJD4TVFwEDV"
   },
   "source": [
    "## 1. Data Loading and Initial Inspection\n",
    "\n",
    "In this section, we load the NYC Leading Causes of Death dataset, take a first look at its structure, and quantify any missing or malformed entries. These steps will guide our cleaning and preprocessing strategy.\n"
   ]
  },
  {
   "cell_type": "markdown",
   "metadata": {
    "id": "QBS6adBV0HGT"
   },
   "source": [
    "### 1.0 Import Libraries"
   ]
  },
  {
   "cell_type": "code",
   "execution_count": 1,
   "metadata": {
    "id": "hcIveLWJeLut"
   },
   "outputs": [],
   "source": [
    "import pandas as pd\n",
    "import numpy as np\n",
    "import matplotlib.pyplot as plt\n",
    "import missingno as msno\n",
    "import seaborn as sns\n",
    "from sklearn.metrics import confusion_matrix, classification_report, accuracy_score, recall_score, precision_score, f1_score, roc_auc_score, roc_curve\n",
    "from yellowbrick.classifier import ROCAUC\n",
    "from sklearn.feature_selection import RFE, chi2, SelectKBest\n",
    "from sklearn.linear_model import LogisticRegression\n",
    "from sklearn.model_selection import train_test_split\n",
    "from sklearn.preprocessing import StandardScaler\n",
    "from sklearn.impute import KNNImputer\n",
    "from sklearn.preprocessing import KBinsDiscretizer\n",
    "from scipy.stats import pearsonr\n",
    "from sklearn.svm import SVC\n",
    "from sklearn.ensemble import VotingClassifier\n",
    "from sklearn.tree import DecisionTreeClassifier\n",
    "from sklearn.model_selection import KFold\n",
    "from imblearn.over_sampling import SMOTE\n",
    "from sklearn.neighbors import KNeighborsClassifier\n",
    "from sklearn.linear_model import LinearRegression\n",
    "from sklearn.metrics import r2_score, ConfusionMatrixDisplay, classification_report\n",
    "from sklearn.preprocessing import LabelEncoder\n",
    "from sklearn.preprocessing import StandardScaler\n",
    "from sklearn.preprocessing import MinMaxScaler"
   ]
  },
  {
   "cell_type": "code",
   "execution_count": 2,
   "metadata": {
    "colab": {
     "base_uri": "https://localhost:8080/",
     "height": 442
    },
    "id": "Ri12et0nebHB",
    "outputId": "3454651d-00f6-4bb0-bfdd-c6ce3f721770"
   },
   "outputs": [
    {
     "name": "stdout",
     "output_type": "stream",
     "text": [
      "Observations: 1094\n"
     ]
    },
    {
     "data": {
      "text/html": [
       "<div>\n",
       "<style scoped>\n",
       "    .dataframe tbody tr th:only-of-type {\n",
       "        vertical-align: middle;\n",
       "    }\n",
       "\n",
       "    .dataframe tbody tr th {\n",
       "        vertical-align: top;\n",
       "    }\n",
       "\n",
       "    .dataframe thead th {\n",
       "        text-align: right;\n",
       "    }\n",
       "</style>\n",
       "<table border=\"1\" class=\"dataframe\">\n",
       "  <thead>\n",
       "    <tr style=\"text-align: right;\">\n",
       "      <th></th>\n",
       "      <th>Year</th>\n",
       "      <th>Leading Cause</th>\n",
       "      <th>Sex</th>\n",
       "      <th>Race Ethnicity</th>\n",
       "      <th>Deaths</th>\n",
       "      <th>Death Rate</th>\n",
       "      <th>Age Adjusted Death Rate</th>\n",
       "    </tr>\n",
       "  </thead>\n",
       "  <tbody>\n",
       "    <tr>\n",
       "      <th>0</th>\n",
       "      <td>2007</td>\n",
       "      <td>Diabetes Mellitus (E10-E14)</td>\n",
       "      <td>M</td>\n",
       "      <td>Other Race/ Ethnicity</td>\n",
       "      <td>11</td>\n",
       "      <td>.</td>\n",
       "      <td>.</td>\n",
       "    </tr>\n",
       "    <tr>\n",
       "      <th>1</th>\n",
       "      <td>2010</td>\n",
       "      <td>Diseases of Heart (I00-I09, I11, I13, I20-I51)</td>\n",
       "      <td>F</td>\n",
       "      <td>Not Stated/Unknown</td>\n",
       "      <td>70</td>\n",
       "      <td>.</td>\n",
       "      <td>.</td>\n",
       "    </tr>\n",
       "    <tr>\n",
       "      <th>2</th>\n",
       "      <td>2007</td>\n",
       "      <td>Cerebrovascular Disease (Stroke: I60-I69)</td>\n",
       "      <td>M</td>\n",
       "      <td>Black Non-Hispanic</td>\n",
       "      <td>213</td>\n",
       "      <td>25</td>\n",
       "      <td>33</td>\n",
       "    </tr>\n",
       "    <tr>\n",
       "      <th>3</th>\n",
       "      <td>2007</td>\n",
       "      <td>Atherosclerosis (I70)</td>\n",
       "      <td>F</td>\n",
       "      <td>Other Race/ Ethnicity</td>\n",
       "      <td>.</td>\n",
       "      <td>.</td>\n",
       "      <td>.</td>\n",
       "    </tr>\n",
       "    <tr>\n",
       "      <th>4</th>\n",
       "      <td>2014</td>\n",
       "      <td>Malignant Neoplasms (Cancer: C00-C97)</td>\n",
       "      <td>F</td>\n",
       "      <td>Black Non-Hispanic</td>\n",
       "      <td>1852</td>\n",
       "      <td>176.5</td>\n",
       "      <td>148.4</td>\n",
       "    </tr>\n",
       "    <tr>\n",
       "      <th>...</th>\n",
       "      <td>...</td>\n",
       "      <td>...</td>\n",
       "      <td>...</td>\n",
       "      <td>...</td>\n",
       "      <td>...</td>\n",
       "      <td>...</td>\n",
       "      <td>...</td>\n",
       "    </tr>\n",
       "    <tr>\n",
       "      <th>95</th>\n",
       "      <td>2010</td>\n",
       "      <td>Viral Hepatitis (B15-B19)</td>\n",
       "      <td>M</td>\n",
       "      <td>Not Stated/Unknown</td>\n",
       "      <td>.</td>\n",
       "      <td>.</td>\n",
       "      <td>.</td>\n",
       "    </tr>\n",
       "    <tr>\n",
       "      <th>96</th>\n",
       "      <td>2009</td>\n",
       "      <td>Chronic Lower Respiratory Diseases (J40-J47)</td>\n",
       "      <td>F</td>\n",
       "      <td>White Non-Hispanic</td>\n",
       "      <td>458</td>\n",
       "      <td>31.9</td>\n",
       "      <td>19.1</td>\n",
       "    </tr>\n",
       "    <tr>\n",
       "      <th>97</th>\n",
       "      <td>2009</td>\n",
       "      <td>All Other Causes</td>\n",
       "      <td>M</td>\n",
       "      <td>White Non-Hispanic</td>\n",
       "      <td>1818</td>\n",
       "      <td>135.1</td>\n",
       "      <td>118.5</td>\n",
       "    </tr>\n",
       "    <tr>\n",
       "      <th>98</th>\n",
       "      <td>2010</td>\n",
       "      <td>Accidents Except Drug Posioning (V01-X39, X43,...</td>\n",
       "      <td>F</td>\n",
       "      <td>Hispanic</td>\n",
       "      <td>58</td>\n",
       "      <td>4.8</td>\n",
       "      <td>5.2</td>\n",
       "    </tr>\n",
       "    <tr>\n",
       "      <th>99</th>\n",
       "      <td>2013</td>\n",
       "      <td>All Other Causes</td>\n",
       "      <td>F</td>\n",
       "      <td>Hispanic</td>\n",
       "      <td>1082</td>\n",
       "      <td>86.7</td>\n",
       "      <td>94</td>\n",
       "    </tr>\n",
       "  </tbody>\n",
       "</table>\n",
       "<p>100 rows × 7 columns</p>\n",
       "</div>"
      ],
      "text/plain": [
       "    Year                                      Leading Cause Sex  \\\n",
       "0   2007                        Diabetes Mellitus (E10-E14)   M   \n",
       "1   2010     Diseases of Heart (I00-I09, I11, I13, I20-I51)   F   \n",
       "2   2007          Cerebrovascular Disease (Stroke: I60-I69)   M   \n",
       "3   2007                              Atherosclerosis (I70)   F   \n",
       "4   2014              Malignant Neoplasms (Cancer: C00-C97)   F   \n",
       "..   ...                                                ...  ..   \n",
       "95  2010                          Viral Hepatitis (B15-B19)   M   \n",
       "96  2009       Chronic Lower Respiratory Diseases (J40-J47)   F   \n",
       "97  2009                                   All Other Causes   M   \n",
       "98  2010  Accidents Except Drug Posioning (V01-X39, X43,...   F   \n",
       "99  2013                                   All Other Causes   F   \n",
       "\n",
       "           Race Ethnicity Deaths Death Rate Age Adjusted Death Rate  \n",
       "0   Other Race/ Ethnicity     11          .                       .  \n",
       "1      Not Stated/Unknown     70          .                       .  \n",
       "2      Black Non-Hispanic    213         25                      33  \n",
       "3   Other Race/ Ethnicity      .          .                       .  \n",
       "4      Black Non-Hispanic   1852      176.5                   148.4  \n",
       "..                    ...    ...        ...                     ...  \n",
       "95     Not Stated/Unknown      .          .                       .  \n",
       "96     White Non-Hispanic    458       31.9                    19.1  \n",
       "97     White Non-Hispanic   1818      135.1                   118.5  \n",
       "98               Hispanic     58        4.8                     5.2  \n",
       "99               Hispanic   1082       86.7                      94  \n",
       "\n",
       "[100 rows x 7 columns]"
      ]
     },
     "execution_count": 2,
     "metadata": {},
     "output_type": "execute_result"
    }
   ],
   "source": [
    "filename='https://raw.githubusercontent.com/ChristianDLT2004/DataForCSCI381/refs/heads/main/New_York_City_Leading_Causes_of_Death_20250621.csv'\n",
    "df = pd.read_csv(filename)\n",
    "df_original=df.copy()\n",
    "print(\"Observations: {}\".format(df.shape[0]))\n",
    "df.head(100)"
   ]
  },
  {
   "cell_type": "markdown",
   "metadata": {
    "id": "5BHq5-5zGxcZ"
   },
   "source": [
    "### 1.1 Handling Non-Standard Missing Values\n",
    "\n",
    "To ensure all missing entries are treated consistently, we replace various placeholder strings with `np.nan`:\n",
    "\n",
    "- Convert `'.'` in numeric columns to `np.nan`.  \n",
    "- Convert `'Other Race/Ethnicity'` and `'Not Stated/Unknown'` in the **Race/Ethnicity** column to `np.nan`.  \n",
    "\n",
    "This uniform representation of missing data is essential for reliable downstream processing (e.g., imputation or filtering).\n"
   ]
  },
  {
   "cell_type": "code",
   "execution_count": 3,
   "metadata": {
    "id": "rbQ6Ne1l0es0"
   },
   "outputs": [],
   "source": [
    "df.replace({'Race Ethnicity': {'Other Race/ Ethnicity': np.nan}}, regex=False,inplace=True)\n",
    "df.replace({'Race Ethnicity': {'Not Stated/Unknown': np.nan}}, regex=False,inplace=True)\n",
    "df = df.replace('.', np.nan)"
   ]
  },
  {
   "cell_type": "markdown",
   "metadata": {
    "id": "E16iDmzxG_IY"
   },
   "source": [
    "### 1.2 Verifying Data Types and Non-Null Counts\n",
    "\n",
    "Use `df.info()` to get a concise summary of each column’s data type and non-null count. This check confirms that our placeholder replacements succeeded and highlights any columns—such as **Deaths**, **Death Rate**, or **Age Adjusted Death Rate**—that remain as `object` and will need to be converted to numeric."
   ]
  },
  {
   "cell_type": "code",
   "execution_count": 4,
   "metadata": {
    "colab": {
     "base_uri": "https://localhost:8080/"
    },
    "id": "9cfapPOc16Sa",
    "outputId": "5c692543-6acf-414b-8096-c41c4eb1c602"
   },
   "outputs": [
    {
     "name": "stdout",
     "output_type": "stream",
     "text": [
      "<class 'pandas.core.frame.DataFrame'>\n",
      "RangeIndex: 1094 entries, 0 to 1093\n",
      "Data columns (total 7 columns):\n",
      " #   Column                   Non-Null Count  Dtype \n",
      "---  ------                   --------------  ----- \n",
      " 0   Year                     1094 non-null   int64 \n",
      " 1   Leading Cause            1094 non-null   object\n",
      " 2   Sex                      1094 non-null   object\n",
      " 3   Race Ethnicity           708 non-null    object\n",
      " 4   Deaths                   956 non-null    object\n",
      " 5   Death Rate               708 non-null    object\n",
      " 6   Age Adjusted Death Rate  708 non-null    object\n",
      "dtypes: int64(1), object(6)\n",
      "memory usage: 60.0+ KB\n"
     ]
    }
   ],
   "source": [
    "df.info()"
   ]
  },
  {
   "cell_type": "markdown",
   "metadata": {
    "id": "xG2oP25qGMhC"
   },
   "source": [
    "#### Insight\n",
    "- We have examined data types and non-null counts for each column. We detected that some numerical columns (Deaths, Death Rate, Age Adjusted Death Rate) are still stored as `object` types, indicating further cleaning is needed before analysis.\n",
    "- After inspecting `df.info()`, we see that **Deaths**, **Death Rate**, and **Age-Adjusted Death Rate** remain as `object` types, which will prevent any numerical analysis. We need to convert these columns to `float`, coercing any non-numeric remnants to `NaN`.\n"
   ]
  },
  {
   "cell_type": "markdown",
   "metadata": {
    "id": "069RZEYGGZeh"
   },
   "source": []
  },
  {
   "cell_type": "markdown",
   "metadata": {
    "id": "UZY9KQD-HO7U"
   },
   "source": [
    "### 1.3 Converting Key Numerical Columns to Numeric Type\n",
    "\n",
    "* This essential step explicitly converts the 'Deaths', 'Death Rate', and 'Age Adjusted Death Rate' columns from their current `object` (string) data type to a `float` numeric type.\n",
    "* This conversion is fundamental for enabling accurate mathematical operations, statistical analyses, and for these features to be correctly utilized in machine learning models."
   ]
  },
  {
   "cell_type": "code",
   "execution_count": 5,
   "metadata": {
    "id": "7HnEBFo3daK5"
   },
   "outputs": [],
   "source": [
    "# Convert from object to float\n",
    "df[['Deaths','Death Rate','Age Adjusted Death Rate']] = df[['Deaths','Death Rate','Age Adjusted Death Rate']].apply(pd.to_numeric)"
   ]
  },
  {
   "cell_type": "markdown",
   "metadata": {
    "id": "v9_HKNBpHYE6"
   },
   "source": [
    "### 1.4 Summarizing Missing Values Across Columns\n",
    "\n",
    "* After initial data cleaning and type conversions, this command provides a count of remaining missing values for each column in the DataFrame.\n",
    "* This summary helps to quickly identify which features still contain `NaN` values and require specific imputation strategies before the data can be used for model training."
   ]
  },
  {
   "cell_type": "code",
   "execution_count": 6,
   "metadata": {
    "colab": {
     "base_uri": "https://localhost:8080/",
     "height": 303
    },
    "id": "I2a9-jYAmp5p",
    "outputId": "c28c7583-0aa9-4b2a-c866-9851419abd2b"
   },
   "outputs": [
    {
     "data": {
      "text/plain": [
       "Year                         0\n",
       "Leading Cause                0\n",
       "Sex                          0\n",
       "Race Ethnicity             386\n",
       "Deaths                     138\n",
       "Death Rate                 386\n",
       "Age Adjusted Death Rate    386\n",
       "dtype: int64"
      ]
     },
     "execution_count": 6,
     "metadata": {},
     "output_type": "execute_result"
    }
   ],
   "source": [
    "# reveals columns with missing values, which will need to be addressed before modeling.\n",
    "df.isnull().sum()"
   ]
  },
  {
   "cell_type": "markdown",
   "metadata": {
    "id": "HjweQkjEHdHX"
   },
   "source": [
    "### 1.5 Visualizing Missing Data Patterns\n",
    "\n",
    "* This plot generates a visual matrix of the dataset's missing values using the `missingno` library.\n",
    "* The matrix provides a clear graphical representation of where `NaN` values exist across columns and rows, allowing for quick identification of patterns or relationships in missingness that might not be apparent from simple counts."
   ]
  },
  {
   "cell_type": "code",
   "execution_count": 7,
   "metadata": {
    "colab": {
     "base_uri": "https://localhost:8080/",
     "height": 727
    },
    "id": "3lQk4yEqnppr",
    "outputId": "ec87f12f-9632-4bd5-c03b-c9139032d918"
   },
   "outputs": [
    {
     "data": {
      "image/png": "[encoded data removed]",
      "text/plain": [
       "<Figure size 2500x1000 with 2 Axes>"
      ]
     },
     "metadata": {},
     "output_type": "display_data"
    }
   ],
   "source": [
    "# See a matrix of all the missing data\n",
    "ax = msno.matrix(df)"
   ]
  },
  {
   "cell_type": "markdown",
   "metadata": {
    "id": "J_yLml2ba8eD"
   },
   "source": [
    "#### Insight\n",
    "\n",
    "- We observe that missing data is primarily concentrated in the `Race Ethnicity`, `Deaths`, `Death Rate`, and `Age Adjusted Death Rate` columns.\n",
    "- This pattern suggests that whenever `Race Ethnicity` is not reported, the associated death statistics are also missing.\n",
    "- As a result, we may need to carefully consider how we handle these missing entries—either through imputation or by dropping rows—to ensure our analysis remains reliable.\n"
   ]
  },
  {
   "cell_type": "markdown",
   "metadata": {
    "id": "Kx-JF9aDksub"
   },
   "source": [
    "## 2. Exploratory Data Analysis(EDA)\n",
    "In this section, we explore the dataset to gain insight into its structure and the distribution of the target variable. We'll examine:\n",
    "- Dataset structure and statistics\n",
    "- Class imbalance in the target variable\n",
    "- How different features relate to the target classes"
   ]
  },
  {
   "cell_type": "markdown",
   "metadata": {
    "id": "EvKxsgTy2ceP"
   },
   "source": [
    "### 2.1 Dataset Overview and Descriptive Statistics\n",
    "\n",
    "This subsection uses `df.info()` and `df.describe()` to examine the dataset’s structure, data types, and summary statistics. This provides a baseline understanding of feature distributions and potential anomalies.\n"
   ]
  },
  {
   "cell_type": "code",
   "execution_count": 8,
   "metadata": {
    "colab": {
     "base_uri": "https://localhost:8080/"
    },
    "id": "IyRQwPry1WAs",
    "outputId": "820053b7-d1db-41a4-a7cc-291ea2bc548e"
   },
   "outputs": [
    {
     "name": "stdout",
     "output_type": "stream",
     "text": [
      "<class 'pandas.core.frame.DataFrame'>\n",
      "RangeIndex: 1094 entries, 0 to 1093\n",
      "Data columns (total 7 columns):\n",
      " #   Column                   Non-Null Count  Dtype  \n",
      "---  ------                   --------------  -----  \n",
      " 0   Year                     1094 non-null   int64  \n",
      " 1   Leading Cause            1094 non-null   object \n",
      " 2   Sex                      1094 non-null   object \n",
      " 3   Race Ethnicity           708 non-null    object \n",
      " 4   Deaths                   956 non-null    float64\n",
      " 5   Death Rate               708 non-null    float64\n",
      " 6   Age Adjusted Death Rate  708 non-null    float64\n",
      "dtypes: float64(3), int64(1), object(3)\n",
      "memory usage: 60.0+ KB\n"
     ]
    }
   ],
   "source": [
    "# Show column data types and non-null values\n",
    "df.info()"
   ]
  },
  {
   "cell_type": "code",
   "execution_count": 9,
   "metadata": {
    "colab": {
     "base_uri": "https://localhost:8080/",
     "height": 300
    },
    "id": "8Ds5qn9aaVgS",
    "outputId": "fb744321-b47d-42b4-d56b-bd52ffac0a55"
   },
   "outputs": [
    {
     "data": {
      "text/html": [
       "<div>\n",
       "<style scoped>\n",
       "    .dataframe tbody tr th:only-of-type {\n",
       "        vertical-align: middle;\n",
       "    }\n",
       "\n",
       "    .dataframe tbody tr th {\n",
       "        vertical-align: top;\n",
       "    }\n",
       "\n",
       "    .dataframe thead th {\n",
       "        text-align: right;\n",
       "    }\n",
       "</style>\n",
       "<table border=\"1\" class=\"dataframe\">\n",
       "  <thead>\n",
       "    <tr style=\"text-align: right;\">\n",
       "      <th></th>\n",
       "      <th>Year</th>\n",
       "      <th>Deaths</th>\n",
       "      <th>Death Rate</th>\n",
       "      <th>Age Adjusted Death Rate</th>\n",
       "    </tr>\n",
       "  </thead>\n",
       "  <tbody>\n",
       "    <tr>\n",
       "      <th>count</th>\n",
       "      <td>1094.000000</td>\n",
       "      <td>956.000000</td>\n",
       "      <td>708.000000</td>\n",
       "      <td>708.000000</td>\n",
       "    </tr>\n",
       "    <tr>\n",
       "      <th>mean</th>\n",
       "      <td>2010.477148</td>\n",
       "      <td>444.558577</td>\n",
       "      <td>53.438842</td>\n",
       "      <td>53.462288</td>\n",
       "    </tr>\n",
       "    <tr>\n",
       "      <th>std</th>\n",
       "      <td>2.293419</td>\n",
       "      <td>880.107843</td>\n",
       "      <td>76.524700</td>\n",
       "      <td>69.100734</td>\n",
       "    </tr>\n",
       "    <tr>\n",
       "      <th>min</th>\n",
       "      <td>2007.000000</td>\n",
       "      <td>5.000000</td>\n",
       "      <td>2.400000</td>\n",
       "      <td>2.500000</td>\n",
       "    </tr>\n",
       "    <tr>\n",
       "      <th>25%</th>\n",
       "      <td>2008.000000</td>\n",
       "      <td>36.000000</td>\n",
       "      <td>11.600000</td>\n",
       "      <td>12.150000</td>\n",
       "    </tr>\n",
       "    <tr>\n",
       "      <th>50%</th>\n",
       "      <td>2010.000000</td>\n",
       "      <td>148.500000</td>\n",
       "      <td>18.350000</td>\n",
       "      <td>20.350000</td>\n",
       "    </tr>\n",
       "    <tr>\n",
       "      <th>75%</th>\n",
       "      <td>2012.000000</td>\n",
       "      <td>307.250000</td>\n",
       "      <td>64.625000</td>\n",
       "      <td>77.550000</td>\n",
       "    </tr>\n",
       "    <tr>\n",
       "      <th>max</th>\n",
       "      <td>2014.000000</td>\n",
       "      <td>7050.000000</td>\n",
       "      <td>491.400000</td>\n",
       "      <td>350.700000</td>\n",
       "    </tr>\n",
       "  </tbody>\n",
       "</table>\n",
       "</div>"
      ],
      "text/plain": [
       "              Year       Deaths  Death Rate  Age Adjusted Death Rate\n",
       "count  1094.000000   956.000000  708.000000               708.000000\n",
       "mean   2010.477148   444.558577   53.438842                53.462288\n",
       "std       2.293419   880.107843   76.524700                69.100734\n",
       "min    2007.000000     5.000000    2.400000                 2.500000\n",
       "25%    2008.000000    36.000000   11.600000                12.150000\n",
       "50%    2010.000000   148.500000   18.350000                20.350000\n",
       "75%    2012.000000   307.250000   64.625000                77.550000\n",
       "max    2014.000000  7050.000000  491.400000               350.700000"
      ]
     },
     "execution_count": 9,
     "metadata": {},
     "output_type": "execute_result"
    }
   ],
   "source": [
    "# show summary statistics of numeric columns\n",
    "df.describe()"
   ]
  },
  {
   "cell_type": "markdown",
   "metadata": {
    "id": "9ZJM_BKS1jtU"
   },
   "source": [
    "### 2.2 Target Class Distribution\n",
    "\n",
    "Let's inspect the distribution of the target classes (`High_Mortality`) to determine if the dataset is imbalanced. This insight is important for selecting appropriate evaluation metrics and modeling strategies.\n"
   ]
  },
  {
   "cell_type": "code",
   "execution_count": 10,
   "metadata": {
    "id": "4bKBZnpexXcw"
   },
   "outputs": [],
   "source": [
    "df_numerical= df[['Deaths', 'Death Rate',\t'Age Adjusted Death Rate']]"
   ]
  },
  {
   "cell_type": "code",
   "execution_count": 11,
   "metadata": {
    "colab": {
     "base_uri": "https://localhost:8080/"
    },
    "id": "9wA_0Yetam2v",
    "outputId": "c319ca27-8b9b-4ba6-a217-cb7376d8cddf"
   },
   "outputs": [
    {
     "name": "stdout",
     "output_type": "stream",
     "text": [
      "<class 'pandas.core.frame.DataFrame'>\n"
     ]
    }
   ],
   "source": [
    "print(type(df_numerical))"
   ]
  },
  {
   "cell_type": "markdown",
   "metadata": {
    "id": "nNiKZyGz2k_X"
   },
   "source": [
    "### 2.3 Numerical Feature Distributions\n",
    "\n",
    "Histogram plots for key numerical variables (`Deaths`, `Death Rate`, `Age Adjusted Death Rate`) help us understand their spread, skewness, and presence of outliers.\n"
   ]
  },
  {
   "cell_type": "code",
   "execution_count": null,
   "metadata": {
    "colab": {
     "base_uri": "https://localhost:8080/",
     "height": 34
    },
    "id": "UnMpoUnVi43E",
    "outputId": "ed6e1357-30cb-462c-baa7-3a2d2c7fe386"
   },
   "outputs": [],
   "source": [
    "fig, axes = plt.subplots(1, len(df_numerical), figsize=(6 * len(df_numerical), 5))\n",
    "\n",
    "for idx, col in enumerate(df_numerical):\n",
    "    axes[idx].hist(df[col].dropna(), bins=20, alpha=0.7)\n",
    "    axes[idx].set_title(f'Freq Dist of {col}')\n",
    "    axes[idx].set_xlabel(col)\n",
    "    axes[idx].set_ylabel('Frequency')\n",
    "\n",
    "plt.tight_layout()\n",
    "plt.show()"
   ]
  },
  {
   "cell_type": "markdown",
   "metadata": {
    "id": "-F9REBLERKEZ"
   },
   "source": [
    "#### Insight\n",
    "\n",
    "- We notice that all three distributions—`Deaths`, `Death Rate`, and `Age Adjusted Death Rate`—are heavily right-skewed.\n",
    "-This means that while most records cluster at the lower end, there are a few cases with very high values that pull the mean upward.\n",
    "-These outliers could reflect certain years, demographic groups, or causes with especially high mortality, and we may want to keep this skewness in mind for both statistical analysis and modeling."
   ]
  },
  {
   "cell_type": "markdown",
   "metadata": {
    "id": "q2D2Eyr-3L4e"
   },
   "source": [
    "### 2.4 Boxplots of Numeric Features\n",
    "\n",
    "Boxplots provide a visual summary of the central tendency, variability, and potential outliers within the numerical features. They help to highlight the presence of extreme values.\n"
   ]
  },
  {
   "cell_type": "code",
   "execution_count": null,
   "metadata": {
    "colab": {
     "base_uri": "https://localhost:8080/",
     "height": 407
    },
    "id": "UiSsDhA0xDKE",
    "outputId": "aff05360-b138-4f1f-b906-2bb940697d4c"
   },
   "outputs": [],
   "source": [
    "# for col_name in df_numerical:\n",
    "\n",
    "fig, axes = plt.subplots(1, 3, figsize=(18, 5))\n",
    "\n",
    "for idx, col in enumerate(df_numerical):\n",
    "    df.boxplot(column=col, ax=axes[idx])\n",
    "    axes[idx].set_title(f'Boxplot of {col}')\n",
    "\n",
    "plt.tight_layout()\n",
    "plt.show()"
   ]
  },
  {
   "cell_type": "markdown",
   "metadata": {
    "id": "-BgoHQSYRVbu"
   },
   "source": [
    "#### Insight\n",
    "\n",
    "- We can see that all three numerical features—`Deaths`, `Death Rate`, and `Age Adjusted Death Rate`—have a large number of outliers, with most data points concentrated at the lower end of each scale.\n",
    "- These boxplots reinforce what we saw in the histograms: most groups have relatively low values, but a few groups experience much higher mortality rates or counts.\n",
    "- This strong right skew and prevalence of outliers suggest that some causes or demographic groups stand out dramatically from the majority, which could be important for our analysis.\n"
   ]
  },
  {
   "cell_type": "markdown",
   "metadata": {
    "id": "dQdEhtmR3W3z"
   },
   "source": [
    "### 2.5 Frequency of Records by Year\n",
    "\n",
    "This bar plot shows how records are distributed over time, which can reveal any inconsistencies or trends in reporting across years.\n"
   ]
  },
  {
   "cell_type": "code",
   "execution_count": null,
   "metadata": {
    "colab": {
     "base_uri": "https://localhost:8080/",
     "height": 366
    },
    "id": "rx-Zmklz1h-O",
    "outputId": "93a1e5f0-111d-4e3e-bb60-2b51cb9b3d53"
   },
   "outputs": [],
   "source": [
    "# Count the number of occurrences of each Year\n",
    "df['Year'].value_counts()"
   ]
  },
  {
   "cell_type": "markdown",
   "metadata": {
    "id": "xkaxXcIH3d3l"
   },
   "source": [
    "### 2.6 Distribution of Leading Causes of Death\n",
    "\n",
    "A horizontal bar chart showing how frequently each cause of death appears in the dataset. This helps to identify dominant causes that may influence mortality classification."
   ]
  },
  {
   "cell_type": "code",
   "execution_count": null,
   "metadata": {
    "colab": {
     "base_uri": "https://localhost:8080/",
     "height": 559
    },
    "id": "mmW-ReLLevnK",
    "outputId": "8de63ae4-a348-4adb-b4f7-e74a1c85b6e3"
   },
   "outputs": [],
   "source": [
    "bplt2 = df['Year'].value_counts().plot.bar(title = \"Freq Dist of Year\")\n",
    "bplt2"
   ]
  },
  {
   "cell_type": "markdown",
   "metadata": {
    "id": "Wse7jkmDJoNs"
   },
   "source": [
    "#### Insight\n",
    "\n",
    "- We see that the number of records is fairly consistent across all years in the dataset.\n",
    "- This balanced distribution suggests that our analysis and modeling will not be biased toward any specific year.\n",
    "- Consistent year-to-year reporting also increases our confidence in any trends or temporal patterns we may observe later.\n"
   ]
  },
  {
   "cell_type": "code",
   "execution_count": null,
   "metadata": {
    "colab": {
     "base_uri": "https://localhost:8080/",
     "height": 462
    },
    "id": "h07ujvpMfqC0",
    "outputId": "ae7c7618-2847-40d2-fdfb-a365b92cb9da"
   },
   "outputs": [],
   "source": [
    "df['Leading Cause'].value_counts().plot(kind='barh', fontsize = 8, rot=0, figsize=(20, 8),title = \"Freq Dist of Causes of Death\")"
   ]
  },
  {
   "cell_type": "markdown",
   "metadata": {
    "id": "NL7ED76GJq0Q"
   },
   "source": [
    "#### Insight\n",
    "\n",
    "- We observe that a small number of causes account for the majority of records in the dataset.\n",
    "- Diseases of the heart, malignant neoplasms (cancers), and \"all other causes\" are the most frequently recorded, making up the bulk of the data.\n",
    "- There are several causes—like Parkinson’s Disease and Tuberculosis—that appear much less frequently.\n",
    "- This uneven distribution suggests that our models may be influenced more by the most common causes, so we should be mindful of this imbalance during analysis and when interpreting feature importance.\n"
   ]
  },
  {
   "cell_type": "code",
   "execution_count": null,
   "metadata": {
    "colab": {
     "base_uri": "https://localhost:8080/",
     "height": 930
    },
    "id": "0YgPKzVXhFYu",
    "outputId": "130bec73-02f7-45fc-cd1f-4f002433c975"
   },
   "outputs": [],
   "source": [
    "df['Leading Cause'].value_counts().sort_values(ascending=False)"
   ]
  },
  {
   "cell_type": "markdown",
   "metadata": {
    "id": "H67rbXH3KMSD"
   },
   "source": [
    "#### Insight\n",
    "\n",
    "- We can see that a handful of causes, such as Diseases of Heart, Malignant Neoplasms, \"All Other Causes,\" and Influenza/Pneumonia, each appear 96 times, making them the most prevalent categories in the dataset.\n",
    "- There is a steep drop-off in frequency after the top few causes, with many other causes having less than 20 records, and a few as low as 1 or 3.\n",
    "- This pronounced class imbalance reinforces what we observed in the bar chart and suggests that any model we build may be heavily influenced by the most frequent causes.\n",
    "- We should keep this distribution in mind when evaluating model performance or feature importance, since rare categories could be underrepresented in the results."
   ]
  },
  {
   "cell_type": "markdown",
   "metadata": {
    "id": "ApAqjRCraKrP"
   },
   "source": [
    "### 2.7 Distribution of Categorical Features\n",
    "\n",
    "Bar charts showing the distributions of **Sex** and **Race/Ethnicity** providing a demographic breakdown of the dataset."
   ]
  },
  {
   "cell_type": "code",
   "execution_count": null,
   "metadata": {
    "colab": {
     "base_uri": "https://localhost:8080/",
     "height": 601
    },
    "id": "djQ_ytkZhKxh",
    "outputId": "156a2ce1-409b-4d99-fa46-7f01c82665cf"
   },
   "outputs": [],
   "source": [
    "fig, ax = plt.subplots(figsize=(7, 6))  # Adjust figsize as you like\n",
    "df['Sex'].value_counts().plot(kind='bar', ax=ax)\n",
    "ax.set_title('Distribution of Sex')\n",
    "ax.set_xlabel('Sex')\n",
    "ax.set_ylabel('Count')\n",
    "ax.set_xticklabels(ax.get_xticklabels(), rotation=0)  # <-- Makes F and M straight\n",
    "plt.tight_layout()\n",
    "plt.show()\n"
   ]
  },
  {
   "cell_type": "markdown",
   "metadata": {
    "id": "GGITLKiZ43UO"
   },
   "source": [
    "#### Insight\n",
    "\n",
    "- We notice that the counts of male and female individuals in the dataset are very similar.\n",
    "- This near balance in the distribution of sex means that our analyses and models are unlikely to be affected by sex-based bias.\n",
    "- With both groups well represented, we can more confidently compare outcomes or patterns between males and females."
   ]
  },
  {
   "cell_type": "code",
   "execution_count": null,
   "metadata": {
    "colab": {
     "base_uri": "https://localhost:8080/",
     "height": 601
    },
    "id": "TcubEEkeY6v6",
    "outputId": "921280f2-7e56-4f4b-ec06-d103b100a867"
   },
   "outputs": [],
   "source": [
    "fig, ax = plt.subplots(figsize=(8, 6))\n",
    "df['Race Ethnicity'].value_counts().plot(kind='bar', ax=ax, color='royalblue')\n",
    "ax.set_title('Distribution of Race Ethnicity')\n",
    "ax.set_xlabel('Race Ethnicity')\n",
    "ax.set_ylabel('Count')\n",
    "ax.set_xticklabels(ax.get_xticklabels(), rotation=30, ha='right')  # angled for readability\n",
    "\n",
    "plt.tight_layout()\n",
    "plt.show()"
   ]
  },
  {
   "cell_type": "markdown",
   "metadata": {
    "id": "Zld3KBchMZT8"
   },
   "source": [
    "#### Insight\n",
    "\n",
    "- We observe that the major race/ethnicity groups are represented in nearly equal numbers in the dataset.\n",
    "- This balance is valuable because it allows us to explore differences between groups without worrying about one group dominating the analysis.\n",
    "- With this even representation, any disparities we find across race/ethnicity are more likely to reflect true patterns rather than sampling bias."
   ]
  },
  {
   "cell_type": "markdown",
   "metadata": {
    "id": "__RC5qUR4Axe"
   },
   "source": [
    "### 2.8 Relationship Between Sex and Race/Ethnicity\n",
    "\n",
    "This visualization shows how **Sex** is distributed across different **Race/Ethnicity** groups. It reveals possible demographic imbalances or patterns that could influence mortality outcomes."
   ]
  },
  {
   "cell_type": "code",
   "execution_count": null,
   "metadata": {
    "colab": {
     "base_uri": "https://localhost:8080/",
     "height": 683
    },
    "id": "yKMzov6F3yxn",
    "outputId": "69bd6d01-85d3-4ed2-bd12-2295c64efccc"
   },
   "outputs": [],
   "source": [
    "# Countplot showing how Sex is distributed across Race Ethnicity\n",
    "plt.figure(figsize=(15, 7)) # Increased figure width to provide more space\n",
    "\n",
    "sns.set_palette(\"Set3\") # Using a lighter palette\n",
    "\n",
    "sns.countplot(data=df, x='Sex', hue='Race Ethnicity')\n",
    "plt.title('Sex Distribution by Race Ethnicity')\n",
    "plt.xlabel('Sex')\n",
    "plt.ylabel('Count')\n",
    "\n",
    "# Place the legend outside the plot area, to the right\n",
    "plt.legend(title='Race Ethnicity', fontsize='large', bbox_to_anchor=(1.05, 1), loc='upper left')\n",
    "\n",
    "plt.tight_layout() # Adjust layout to prevent labels from being cut off\n",
    "plt.show()"
   ]
  },
  {
   "cell_type": "markdown",
   "metadata": {
    "id": "G1a-bpMah2CR"
   },
   "source": [
    "#### Insight\n",
    "\n",
    "- We see that both male and female groups are very evenly distributed across all four major race/ethnicity categories.\n",
    "- This balance means our dataset is well suited for analyzing interactions between sex and race/ethnicity, since no group is under- or over-represented.\n",
    "- Having similar counts for each subgroup should help ensure that any differences we find are due to real patterns, not sampling bias."
   ]
  },
  {
   "cell_type": "markdown",
   "metadata": {
    "id": "OpKLrh-J36Xs"
   },
   "source": [
    "### 2.9 Correlation Between Numerical Features\n",
    "\n",
    "A heatmap displaying Pearson correlation coefficients among numerical features such as `Year`, `Deaths`, `Death Rate`, and `Age Adjusted Death Rate`. This informs decisions about feature selection by identifying highly correlated variables."
   ]
  },
  {
   "cell_type": "code",
   "execution_count": null,
   "metadata": {
    "colab": {
     "base_uri": "https://localhost:8080/",
     "height": 605
    },
    "id": "yIG77hjHlUUz",
    "outputId": "335ed55d-ceed-49b3-b5bd-315cfae0c10d"
   },
   "outputs": [],
   "source": [
    "corrMatrix = df[['Year','Deaths', 'Death Rate',\t'Age Adjusted Death Rate']].corr()\n",
    "plt.figure(figsize=(10,7))\n",
    "sns.heatmap(corrMatrix, annot=True)\n",
    "plt.show()"
   ]
  },
  {
   "cell_type": "markdown",
   "metadata": {
    "id": "miL111qy527v"
   },
   "source": [
    "#### Insight\n",
    "\n",
    "- We observe an extremely strong positive correlation between `Deaths` and `Death Rate` (0.97), as well as between `Death Rate` and `Age Adjusted Death Rate` (0.92).\n",
    "- `Deaths` is also highly correlated with `Age Adjusted Death Rate` (0.83).\n",
    "- The correlations with `Year` are nearly zero, indicating that these mortality measures don’t change much with time in this dataset.\n",
    "- Because these features are so highly correlated, we should be cautious about multicollinearity in our models. It may be a good idea to drop one or more of these variables during feature selection.\n"
   ]
  },
  {
   "cell_type": "markdown",
   "metadata": {
    "id": "amHF7sxYk798"
   },
   "source": [
    "## 3. Data Preparation\n",
    "* Since Race and Ethnicity determine such a large part of our dataset and an importnat part of our research question, data will have to be dropped that is missing, since it is much harder to impute.\n",
    "* In order to go through with our research question, High mortality(our response variable) will be decided on the median of Age Adjusted Death Rate as 0(below median) or 1(above median).\n",
    "* Deaths and Death Rate will be dropped as they are too close to our response variable. The main goal is to encode categorical data like Sex, Race Ethnicity, and Leading Causes using either labelencoder or one hot vector encoding. * Scaling will also be done on the leftover numerical variables."
   ]
  },
  {
   "cell_type": "markdown",
   "metadata": {
    "id": "yqthmp2948-z"
   },
   "source": [
    "### 3.1 Removing Rows with Excessive Missing Data\n",
    "\n",
    "To ensure data quality, we drop rows with more than 5% missing values. This step helps maintain reliable patterns for modeling."
   ]
  },
  {
   "cell_type": "code",
   "execution_count": null,
   "metadata": {
    "id": "672uO8edoJMO"
   },
   "outputs": [],
   "source": [
    "drop_threshold = df.copy()\n",
    "drop_threshold.dropna(thresh = int(drop_threshold.shape[1]*.95), axis = 0,inplace = True)\n",
    "drop_threshold.head()\n",
    "#For analysis later\n",
    "df_with_all_nan_dropped=drop_threshold.copy()"
   ]
  },
  {
   "cell_type": "code",
   "execution_count": null,
   "metadata": {
    "colab": {
     "base_uri": "https://localhost:8080/"
    },
    "id": "n5d6ygiho-Mo",
    "outputId": "4dae1abd-46de-4ff2-9e3b-cb94acf29483"
   },
   "outputs": [],
   "source": [
    "#All nan values have been dropped\n",
    "drop_threshold.info()"
   ]
  },
  {
   "cell_type": "markdown",
   "metadata": {
    "id": "c8WOMjnH1n74"
   },
   "source": [
    "#### Insight:\n",
    "This approach caused us to lose about 386 observations, but since our research question requires the Age Adjusted Death Rate, we will not be able to use it for our purposes."
   ]
  },
  {
   "cell_type": "markdown",
   "metadata": {
    "id": "Mqbg5UeR5Fyc"
   },
   "source": [
    "### 3.2 Visualizing Missing Data After Cleaning\n",
    "\n",
    "Use `missingno.matrix()` to confirm that most missing data has been removed before modeling."
   ]
  },
  {
   "cell_type": "code",
   "execution_count": null,
   "metadata": {
    "colab": {
     "base_uri": "https://localhost:8080/",
     "height": 733
    },
    "id": "FhczeKDmU-aE",
    "outputId": "fb85eacb-7133-4945-eff3-5a68b7dea43c"
   },
   "outputs": [],
   "source": [
    "ax1 = msno.matrix(drop_threshold)"
   ]
  },
  {
   "cell_type": "markdown",
   "metadata": {
    "id": "FUwd_1NYMxPR"
   },
   "source": [
    "#### Insight\n",
    "\n",
    "- We can see that after applying our threshold for missing data, all remaining columns are now completely filled—there are no more missing values.\n",
    "- This clean dataset gives us a strong foundation for further analysis and modeling, since we won't need to worry about imputation or incomplete records at this stage.\n",
    "- Although we lost some data during this process, we prioritized data quality and consistency for our downstream tasks.\n"
   ]
  },
  {
   "cell_type": "markdown",
   "metadata": {
    "id": "aLHOKcAZ5Kq5"
   },
   "source": [
    "### 3.3 Creating the Target Variable: High Mortality\n",
    "\n",
    "We define a binary target variable `High_Mortality` using the median of the `Age Adjusted Death Rate`. Values above the median are labeled 1 (high), below as 0 (low)."
   ]
  },
  {
   "cell_type": "code",
   "execution_count": null,
   "metadata": {
    "colab": {
     "base_uri": "https://localhost:8080/"
    },
    "id": "jSbu1jWc5hbb",
    "outputId": "9376dcdf-f3a7-4d73-d46d-ad4ffdff4c6e"
   },
   "outputs": [],
   "source": [
    "#create our response variable for high and low mortality by the median of 'Age Adjusted Death Rate'\n",
    "threshold = drop_threshold['Age Adjusted Death Rate'].median()\n",
    "print(threshold)\n",
    "drop_threshold['High_Mortality'] = (drop_threshold['Age Adjusted Death Rate'] > threshold).astype(int)"
   ]
  },
  {
   "cell_type": "markdown",
   "metadata": {
    "id": "82z65m_u5NJz"
   },
   "source": [
    "### 3.4 Dropping Highly Correlated Features\n",
    "\n",
    "We remove `Deaths` and `Death Rate` since they are strongly correlated with `Age Adjusted Death Rate`, our primary outcome variable.\n"
   ]
  },
  {
   "cell_type": "code",
   "execution_count": null,
   "metadata": {
    "id": "0zzFH1glCBwR"
   },
   "outputs": [],
   "source": [
    "#I am dropping Death and Death Rate because they are highly correlated with Age Adjusted Death Rate\n",
    "drop_threshold = drop_threshold.drop(['Deaths', 'Death Rate', 'Age Adjusted Death Rate'], axis=1)"
   ]
  },
  {
   "cell_type": "markdown",
   "metadata": {
    "id": "zNDsnt9g6uC_"
   },
   "source": [
    "### 3.5 Encoding the Sex Feature\n",
    "\n",
    "Using `LabelEncoder`, we transform the categorical `Sex` column into binary numeric format for compatibility with machine learning models."
   ]
  },
  {
   "cell_type": "code",
   "execution_count": null,
   "metadata": {
    "id": "mClJyJx4qXFo"
   },
   "outputs": [],
   "source": [
    "#Create a new columns that indicates if it is male with 1 or female with 0 under male column\n",
    "le = LabelEncoder()\n",
    "\n",
    "drop_threshold['Male'] = le.fit_transform(drop_threshold['Sex'])\n",
    "drop_threshold = drop_threshold.drop('Sex', axis=1)"
   ]
  },
  {
   "cell_type": "code",
   "execution_count": null,
   "metadata": {
    "colab": {
     "base_uri": "https://localhost:8080/",
     "height": 206
    },
    "id": "XoQGpr7kq7Ec",
    "outputId": "1f38313c-2470-4084-cfbe-0e7e60983be9"
   },
   "outputs": [],
   "source": [
    "drop_threshold.head()"
   ]
  },
  {
   "cell_type": "markdown",
   "metadata": {
    "id": "qc5tZupTNPnh"
   },
   "source": [
    "#### Insight\n",
    "\n",
    "- We see that each row now contains complete information for all key variables, including year, leading cause, race/ethnicity, and the new features for high mortality and sex (encoded as 'Male').\n",
    "- The `High_Mortality` column successfully divides records into high and low mortality groups, setting us up for our binary classification task.\n",
    "- With this cleaned and well-structured dataset, we’re ready to proceed with encoding categorical variables and scaling as needed for modeling.\n"
   ]
  },
  {
   "cell_type": "markdown",
   "metadata": {
    "id": "hNHN3Gwq5XVY"
   },
   "source": [
    "### 3.6 One-Hot Encoding for Leading Cause\n",
    "\n",
    "We apply one-hot encoding to the `Leading Cause` column to convert it into a format suitable for model input."
   ]
  },
  {
   "cell_type": "code",
   "execution_count": null,
   "metadata": {
    "id": "Rl5epww9rEN2"
   },
   "outputs": [],
   "source": [
    "# Get dummies only for 'Leading Cause'\n",
    "leading_causes_dummies = pd.get_dummies(drop_threshold['Leading Cause'], prefix='Leading Cause',drop_first=True)\n",
    "\n",
    "# Drop original column and concatenate the dummy variables\n",
    "drop_threshold = drop_threshold.drop('Leading Cause', axis=1)\n",
    "drop_threshold = pd.concat([drop_threshold, leading_causes_dummies], axis=1)"
   ]
  },
  {
   "cell_type": "code",
   "execution_count": null,
   "metadata": {
    "colab": {
     "base_uri": "https://localhost:8080/",
     "height": 585
    },
    "id": "l_5eFPnnsKe9",
    "outputId": "b24a03cc-d92e-4f03-f2e7-0ff135fa4e74"
   },
   "outputs": [],
   "source": [
    "drop_threshold.head()"
   ]
  },
  {
   "cell_type": "markdown",
   "metadata": {
    "id": "spCXRNCCNjKI"
   },
   "source": [
    "#### Insight\n",
    "\n",
    "- We have successfully transformed the `Leading Cause` column into multiple binary columns, each representing a specific cause of death.\n",
    "- This one-hot encoding approach allows our models to use categorical information without imposing any artificial order or hierarchy on the causes.\n",
    "- Dropping the original `Leading Cause` column and keeping only the dummy variables ensures that all inputs are numeric and compatible with most machine learning algorithms.\n"
   ]
  },
  {
   "cell_type": "markdown",
   "metadata": {
    "id": "ogwZEN8c5hmt"
   },
   "source": [
    "### 3.7 One-Hot Encoding for Race/Ethnicity\n",
    "\n",
    "Similarly, we one-hot encode the `Race Ethnicity` column to retain categorical detail in numeric form."
   ]
  },
  {
   "cell_type": "code",
   "execution_count": null,
   "metadata": {
    "id": "qurqkjRftUzt"
   },
   "outputs": [],
   "source": [
    "# Get dummies only for 'Race Ethnicity'\n",
    "Race_Ethnicity_dummies = pd.get_dummies(drop_threshold['Race Ethnicity'], prefix='Race Ethnicity',drop_first=True)\n",
    "\n",
    "# Drop original column and concatenate the dummy variables\n",
    "drop_threshold = drop_threshold.drop('Race Ethnicity', axis=1)\n",
    "drop_threshold = pd.concat([drop_threshold, Race_Ethnicity_dummies], axis=1)"
   ]
  },
  {
   "cell_type": "code",
   "execution_count": null,
   "metadata": {
    "colab": {
     "base_uri": "https://localhost:8080/",
     "height": 498
    },
    "id": "BY0jotertqls",
    "outputId": "ede9dd21-60e4-4afc-b2b0-7eb34be73555"
   },
   "outputs": [],
   "source": [
    "drop_threshold.head()"
   ]
  },
  {
   "cell_type": "markdown",
   "metadata": {
    "id": "OI6Ib26pN0lD"
   },
   "source": [
    "#### Insight\n",
    "\n",
    "- We have converted the `Race Ethnicity` column into separate binary columns for each group, allowing us to retain important categorical information in a numeric format.\n",
    "- By dropping the original `Race Ethnicity` column and using these dummy variables, we make the dataset fully numeric and ready for model input.\n",
    "- This step ensures that our models can independently assess the contribution of each race/ethnicity group without assuming any ranking or order.\n"
   ]
  },
  {
   "cell_type": "markdown",
   "metadata": {
    "id": "aLS4u-zn5mJE"
   },
   "source": [
    "### 3.8 Converting Boolean Columns to Integers\n",
    "\n",
    "Any boolean columns (True/False) are converted to integers (1/0) to ensure numerical consistency for modeling."
   ]
  },
  {
   "cell_type": "code",
   "execution_count": null,
   "metadata": {
    "id": "KaK_Xy0LucmE"
   },
   "outputs": [],
   "source": [
    "#Convert true or false to 0 or 1\n",
    "bool_cols = drop_threshold.select_dtypes(include='bool').columns\n",
    "drop_threshold[bool_cols] = drop_threshold[bool_cols].astype(int)"
   ]
  },
  {
   "cell_type": "code",
   "execution_count": null,
   "metadata": {
    "colab": {
     "base_uri": "https://localhost:8080/",
     "height": 498
    },
    "id": "eAwKzEzpv2vY",
    "outputId": "68978f3f-145c-4282-e858-3abd2d144f39"
   },
   "outputs": [],
   "source": [
    "drop_threshold.head()"
   ]
  },
  {
   "cell_type": "markdown",
   "metadata": {
    "id": "K2tXhaAkN8X4"
   },
   "source": [
    "#### Insight\n",
    "\n",
    "- We have converted all boolean (True/False) columns to integers (1/0), ensuring consistency across our entire dataset.\n",
    "- This step is important because most machine learning algorithms require purely numerical input, and it avoids potential errors during model training.\n",
    "- Our dataset is now fully numeric, making it ready for scaling and input into classification models.\n"
   ]
  },
  {
   "cell_type": "markdown",
   "metadata": {
    "id": "lT-frTx05pyt"
   },
   "source": [
    "### 3.9 Scaling the Year Feature\n",
    "\n",
    "The `Year` column is standardized using `StandardScaler` to normalize its values, ensuring fair weight during model training."
   ]
  },
  {
   "cell_type": "code",
   "execution_count": null,
   "metadata": {
    "id": "mSECUUoC4N2Y"
   },
   "outputs": [],
   "source": [
    "#Scaling the numerical data for machine learning algorithms\n",
    "scaler = StandardScaler()\n",
    "drop_threshold[['Year']] = scaler.fit_transform(drop_threshold[['Year']])"
   ]
  },
  {
   "cell_type": "code",
   "execution_count": null,
   "metadata": {
    "colab": {
     "base_uri": "https://localhost:8080/",
     "height": 498
    },
    "id": "I5kuA3eWCYuF",
    "outputId": "7147c755-aae8-47e6-e519-426ee6fbb1a7"
   },
   "outputs": [],
   "source": [
    "drop_threshold.head()"
   ]
  },
  {
   "cell_type": "markdown",
   "metadata": {
    "id": "OEOVPzH1OC1I"
   },
   "source": [
    "#### Insight\n",
    "\n",
    "- We have standardized the `Year` column using `StandardScaler`, which centers the data to have a mean of zero and a standard deviation of one.\n",
    "- This scaling ensures that the `Year` feature is on the same scale as the other variables, preventing it from disproportionately influencing the model due to its larger numeric values.\n",
    "- By treating all features equally in terms of scale, we help our models learn more effectively and avoid issues related to feature dominance.\n"
   ]
  },
  {
   "cell_type": "markdown",
   "metadata": {
    "id": "9eGIrUi35roi"
   },
   "source": [
    "### 3.10 Final Encoded and Scaled Dataset\n",
    "\n",
    "- We have created a final copy of our fully cleaned, encoded, and scaled dataset, naming it `df_noNan_encoded_scaled` for clarity.\n",
    "- This dataset is now fully preprocessed and ready for exploratory analysis, feature selection, and model building.\n",
    "- Having a clearly named and well-prepared dataset helps us avoid confusion and makes the next steps in our workflow more organized and efficient.\n"
   ]
  },
  {
   "cell_type": "code",
   "execution_count": null,
   "metadata": {
    "id": "YRCQ9Z7fG4Dq"
   },
   "outputs": [],
   "source": [
    "#Create our dataframe with a better name\n",
    "df_noNan_encoded_scaled=drop_threshold.copy()"
   ]
  },
  {
   "cell_type": "markdown",
   "metadata": {
    "id": "5L33pSxLudBb"
   },
   "source": [
    "## 4. Post Data Prepared EDA"
   ]
  },
  {
   "cell_type": "markdown",
   "metadata": {
    "id": "7ube-ktA6BiP"
   },
   "source": [
    "### 4.1 Rechecking Dataset Summary Statistics\n",
    "\n",
    "We re-run `describe()` on the cleaned dataset to confirm that the statistical properties remain stable after removing rows with missing values."
   ]
  },
  {
   "cell_type": "code",
   "execution_count": null,
   "metadata": {
    "colab": {
     "base_uri": "https://localhost:8080/",
     "height": 300
    },
    "id": "MD4dg176xpUB",
    "outputId": "f125e6e6-babd-4e7f-9b7e-ef3a19cf0f73"
   },
   "outputs": [],
   "source": [
    "df_with_all_nan_dropped.describe()"
   ]
  },
  {
   "cell_type": "markdown",
   "metadata": {
    "id": "4yheZKbvOZKe"
   },
   "source": [
    "#### Insight\n",
    "\n",
    "- We can see that the key summary statistics (mean, median, standard deviation, and quartiles) for each variable remain consistent and reasonable after removing rows with missing values.\n",
    "- The distributions are still right-skewed, with means much higher than the medians, which matches what we observed earlier in our visualizations.\n",
    "- This consistency gives us confidence that our cleaning process did not introduce bias or distort the main characteristics of the dataset.\n"
   ]
  },
  {
   "cell_type": "markdown",
   "metadata": {
    "id": "gpCMNW7h6IrC"
   },
   "source": [
    "### 4.2 Rechecking Distribution of Leading Causes\n",
    "\n",
    "We validate whether the frequency of each `Leading Cause` remains consistent after removing missing values."
   ]
  },
  {
   "cell_type": "code",
   "execution_count": null,
   "metadata": {
    "colab": {
     "base_uri": "https://localhost:8080/",
     "height": 742
    },
    "id": "ivA25vWZpP94",
    "outputId": "8abeb8a6-0eff-4dd8-dc27-4e0e0b5819fc"
   },
   "outputs": [],
   "source": [
    "df_with_all_nan_dropped['Leading Cause'].value_counts()"
   ]
  },
  {
   "cell_type": "markdown",
   "metadata": {
    "id": "eya4tiB6Ohib"
   },
   "source": [
    "#### Insight\n",
    "\n",
    "- We see that after removing all rows with missing data, the leading causes of death are now much more evenly represented, with the top six causes each appearing 64 times.\n",
    "- This balanced representation across major causes is likely due to the cleaning process, which may have excluded incomplete or rare categories.\n",
    "- While this makes our dataset less skewed and potentially improves model fairness, we should keep in mind that some less frequent causes are now very rare or almost absent, which could limit our ability to analyze them.\n"
   ]
  },
  {
   "cell_type": "code",
   "execution_count": null,
   "metadata": {
    "colab": {
     "base_uri": "https://localhost:8080/",
     "height": 1000
    },
    "id": "Wo2maU8sDdDC",
    "outputId": "780a0c12-ef89-48ec-86dd-e598cdf24f01"
   },
   "outputs": [],
   "source": [
    "fig, axes = plt.subplots(nrows=1, ncols=2, figsize=(15, 8)) # Adjust figsize as needed\n",
    "df['Leading Cause'].value_counts().plot(kind='bar', ax=axes[0], title='Original Dataframe')\n",
    "df_with_all_nan_dropped['Leading Cause'].value_counts().plot(kind='bar', ax=axes[1], title='All Nan Removed Dataframe', color='orange') # Example: change color\n",
    "plt.show()"
   ]
  },
  {
   "cell_type": "markdown",
   "metadata": {
    "id": "fCEkienUEfMr"
   },
   "source": [
    "#### Insight\n",
    "\n",
    "- By comparing the original dataframe to the version with all NaN values removed, we see that the distribution of leading causes of death becomes much more balanced after cleaning.\n",
    "- In the original data, a few causes dominated the dataset, while others were quite rare. After cleaning, the top causes are nearly equally represented.\n",
    "- This shift is important to recognize: while our cleaned data is now less skewed, we may have lost diversity in some of the rarer categories, which could limit our ability to generalize findings about those causes.\n",
    "- We should keep this trade-off in mind when interpreting our analysis and results.\n"
   ]
  },
  {
   "cell_type": "markdown",
   "metadata": {
    "id": "YrfMg_RE6LrI"
   },
   "source": [
    "### 4.3 Rechecking Year Distribution\n",
    "\n",
    "We check the distribution of the `Year` variable post-cleaning to ensure data completeness across time periods."
   ]
  },
  {
   "cell_type": "code",
   "execution_count": null,
   "metadata": {
    "colab": {
     "base_uri": "https://localhost:8080/",
     "height": 733
    },
    "id": "w2oTICGrEQFv",
    "outputId": "a0652598-bd54-439d-8f7e-2407fc897d70"
   },
   "outputs": [],
   "source": [
    "fig, axes = plt.subplots(nrows=1, ncols=2, figsize=(15, 8)) # Adjust figsize as needed\n",
    "df['Year'].value_counts().plot(kind='bar', ax=axes[0], title='Original Dataframe')\n",
    "df_with_all_nan_dropped['Year'].value_counts().plot(kind='bar', ax=axes[1], title='All Nan Removed Dataframe', color='orange') # Example: change color\n",
    "plt.show()"
   ]
  },
  {
   "cell_type": "markdown",
   "metadata": {
    "id": "jl_ZENbIFJDq"
   },
   "source": [
    "#### Insight\n",
    "\n",
    "- We observe that both before and after removing all rows with missing data, the distribution of records across years remains very consistent.\n",
    "- This means our data cleaning process did not disproportionately impact any particular year, which is important for preserving trends over time.\n",
    "- We can be confident that any time-based analysis or modeling will not be biased by the data cleaning steps we performed.\n"
   ]
  },
  {
   "cell_type": "markdown",
   "metadata": {
    "id": "DAaayrIq6lTJ"
   },
   "source": [
    "### 4.4 Rechecking Boxplots of Numerical Features\n",
    "\n",
    "We recreate boxplots for numeric features to see if the removal of missing values changed their spread or outlier patterns."
   ]
  },
  {
   "cell_type": "code",
   "execution_count": null,
   "metadata": {
    "colab": {
     "base_uri": "https://localhost:8080/"
    },
    "id": "WsHHd87GaVu_",
    "outputId": "1036168b-bd1a-4c76-dc9d-d189ef67ec1b"
   },
   "outputs": [],
   "source": [
    "print(type(df_numerical))"
   ]
  },
  {
   "cell_type": "code",
   "execution_count": null,
   "metadata": {
    "colab": {
     "base_uri": "https://localhost:8080/",
     "height": 507
    },
    "id": "IWr-kC_wFIgO",
    "outputId": "57fcccb3-9562-45b4-9bfc-09cb7f860115"
   },
   "outputs": [],
   "source": [
    "print(\"--- Plotbox of Numerical Features ---\\n\")\n",
    "#df_numerical = ['Deaths', 'Death Rate', 'Age Adjusted Death Rate']\n",
    "\n",
    "fig, axes = plt.subplots(1, len(df_numerical), figsize=(18, 5))\n",
    "\n",
    "for idx, col in enumerate(df_numerical):\n",
    "    df_with_all_nan_dropped.boxplot(column=col, ax=axes[idx])\n",
    "    axes[idx].set_title(f'Boxplot of {col}')\n",
    "plt.show()"
   ]
  },
  {
   "cell_type": "markdown",
   "metadata": {
    "id": "2NHsM_fuQRy1"
   },
   "source": [
    "#### Insight\n",
    "\n",
    "- We notice that all three numerical features—`Deaths`, `Death Rate`, and `Age Adjusted Death Rate`—continue to display a significant number of outliers even after cleaning.\n",
    "- The bulk of the data for each variable remains concentrated at lower values, with a long tail of higher values visible as individual points above the boxes.\n",
    "- This pattern suggests that certain records, perhaps tied to specific years or causes, have much higher mortality figures than the majority, and these outliers could be important drivers in our analysis.\n"
   ]
  },
  {
   "cell_type": "code",
   "execution_count": null,
   "metadata": {
    "colab": {
     "base_uri": "https://localhost:8080/",
     "height": 71
    },
    "id": "g1zoo6RQIudG",
    "outputId": "b68f855c-51e7-460c-d917-e7d8851c3b47"
   },
   "outputs": [],
   "source": [
    "print(\"--- Plotbox of Numerical Features ---\\n\")\n",
    "'''\n",
    "for col in df_numerical:\n",
    "  df_numerical.boxplot(column=col)\n",
    "  plt.show()\n",
    "'''\n",
    "\n",
    "\n",
    "fig, axes = plt.subplots(1, len(df_numerical), figsize=(6 * len(df_numerical), 5))\n",
    "\n",
    "for idx, col in enumerate(df_numerical):\n",
    "    df_with_all_nan_dropped.boxplot(column=col, ax=axes[idx])\n",
    "    axes[idx].set_title(f'Boxplot of {col}')\n",
    "\n",
    "plt.tight_layout()\n",
    "plt.show()"
   ]
  },
  {
   "cell_type": "markdown",
   "metadata": {
    "id": "_JWajvOnJvOr"
   },
   "source": [
    "#### Insight:\n",
    "From comparing all of these distributions, it appears that removing all the missing values will still give us the same distribution."
   ]
  },
  {
   "cell_type": "markdown",
   "metadata": {
    "id": "8_-Dkpel6tY7"
   },
   "source": [
    "### 4.5 Confirming Final Dataset Summary\n",
    "\n",
    "We inspect the fully cleaned, encoded, and scaled dataset (`df_noNan_encoded_scaled`) to confirm readiness for modeling.\n"
   ]
  },
  {
   "cell_type": "code",
   "execution_count": null,
   "metadata": {
    "colab": {
     "base_uri": "https://localhost:8080/",
     "height": 592
    },
    "id": "MVzYI_6BJvA5",
    "outputId": "0deb2111-4096-451a-c7d4-a94ddeedad9a"
   },
   "outputs": [],
   "source": [
    "df_noNan_encoded_scaled.describe()"
   ]
  },
  {
   "cell_type": "markdown",
   "metadata": {
    "id": "QHT-YQsY65Wq"
   },
   "source": [
    "### 4.6 Verifying Class Balance in Target Variable\n",
    "\n",
    "We check that the binary target variable `High_Mortality` remains balanced—important for fair model training and evaluation."
   ]
  },
  {
   "cell_type": "code",
   "execution_count": null,
   "metadata": {
    "colab": {
     "base_uri": "https://localhost:8080/",
     "height": 515
    },
    "id": "vH01RR0pRled",
    "outputId": "10bb28fd-5c09-4798-e22e-da72b082a43d"
   },
   "outputs": [],
   "source": [
    "df_noNan_encoded_scaled['High_Mortality'].value_counts().plot(kind='bar')"
   ]
  },
  {
   "cell_type": "markdown",
   "metadata": {
    "id": "WD-znoIqR_DZ"
   },
   "source": [
    "There is no class imbalance present, which means it should perform well on machine learning algorithm."
   ]
  },
  {
   "cell_type": "markdown",
   "metadata": {
    "id": "-_N6UDFi7BlX"
   },
   "source": [
    "### 4.7 Correlation Heatmap of All Features\n",
    "\n",
    "We generate a heatmap of correlations to observe relationships between features and detect potential multicollinearity."
   ]
  },
  {
   "cell_type": "code",
   "execution_count": null,
   "metadata": {
    "colab": {
     "base_uri": "https://localhost:8080/",
     "height": 1000
    },
    "id": "uTHth9iIKLAk",
    "outputId": "817e7af6-ef4e-40a4-980d-e8d8e8a1183f"
   },
   "outputs": [],
   "source": [
    "corrMatrix1 = df_noNan_encoded_scaled.corr()\n",
    "plt.figure(figsize=(10,7))\n",
    "sns.heatmap(corrMatrix1, annot=True)\n",
    "plt.show()"
   ]
  },
  {
   "cell_type": "markdown",
   "metadata": {
    "id": "5WQsxTj59CY8"
   },
   "source": [
    "### 4.8 Sorting Feature Correlations with Target\n",
    "We print a sorted list of correlation values between each feature and `High_Mortality` to identify variables with the strongest linear associations."
   ]
  },
  {
   "cell_type": "code",
   "execution_count": null,
   "metadata": {
    "colab": {
     "base_uri": "https://localhost:8080/"
    },
    "id": "iVw9H1LiKafv",
    "outputId": "dd31cb41-539e-4ab4-d7c8-0ef14a064800"
   },
   "outputs": [],
   "source": [
    "correlation_with_High_mortality = corrMatrix1['High_Mortality']\n",
    "print(correlation_with_High_mortality)"
   ]
  },
  {
   "cell_type": "code",
   "execution_count": null,
   "metadata": {
    "colab": {
     "base_uri": "https://localhost:8080/"
    },
    "id": "P5SW59deLfyn",
    "outputId": "0e3ef47a-6b05-4c56-af6f-3e1c1a80167f"
   },
   "outputs": [],
   "source": [
    "sorted_correlations = correlation_with_High_mortality.sort_values(ascending=False)\n",
    "print(sorted_correlations)"
   ]
  },
  {
   "cell_type": "markdown",
   "metadata": {
    "id": "sAOkcTiVLBEh"
   },
   "source": [
    "## 5. Feature Selection\n",
    "* Statistical Methods\n",
    "  - Chi Square\n",
    "  - Pearson\n",
    "* Wrapper Methods:\n",
    "  - Recursive Feature Elimination (RFE)"
   ]
  },
  {
   "cell_type": "markdown",
   "metadata": {
    "id": "I05MGLos2qYb"
   },
   "source": [
    "### 5.1 Chi-Square Feature Selection\n",
    "\n",
    "We use the Chi-Square test to evaluate the independence between categorical features (such as one-hot encoded `Leading Cause` and `Race/Ethnicity`) and the binary target variable `High_Mortality`. Features with high Chi2 scores and low p-values are considered important for classification."
   ]
  },
  {
   "cell_type": "code",
   "execution_count": null,
   "metadata": {
    "id": "MO4RSEyk2jI7"
   },
   "outputs": [],
   "source": [
    "encoded_categorical_features = [\n",
    "    'Male', # This is already a binary numerical column\n",
    "    'Leading Cause_All Other Causes',\n",
    "    \"Leading Cause_Alzheimer's Disease (G30)\",\n",
    "    'Leading Cause_Assault (Homicide: Y87.1, X85-Y09)',\n",
    "    'Leading Cause_Cerebrovascular Disease (Stroke: I60-I69)',\n",
    "    'Leading Cause_Certain Conditions originating in the Perinatal Period (P00-P96)',\n",
    "    'Leading Cause_Chronic Liver Disease and Cirrhosis (K70, K73)',\n",
    "    'Leading Cause_Chronic Lower Respiratory Diseases (J40-J47)',\n",
    "    'Leading Cause_Congenital Malformations, Deformations, and Chromosomal Abnormalities (Q00-Q99)',\n",
    "    'Leading Cause_Diabetes Mellitus (E10-E14)',\n",
    "    'Leading Cause_Diseases of Heart (I00-I09, I11, I13, I20-I51)',\n",
    "    'Leading Cause_Essential Hypertension and Renal Diseases (I10, I12)',\n",
    "    'Leading Cause_Human Immunodeficiency Virus Disease (HIV: B20-B24)',\n",
    "    'Leading Cause_Influenza (Flu) and Pneumonia (J09-J18)',\n",
    "    'Leading Cause_Intentional Self-Harm (Suicide: X60-X84, Y87.0)',\n",
    "    'Leading Cause_Malignant Neoplasms (Cancer: C00-C97)',\n",
    "    'Leading Cause_Mental and Behavioral Disorders due to Accidental Poisoning and Other Psychoactive Substance Use (F11-F16, F18-F19, X40-X42, X44)',\n",
    "    'Leading Cause_Nephritis, Nephrotic Syndrome and Nephrisis (N00-N07, N17-N19, N25-N27)',\n",
    "    'Leading Cause_Septicemia (A40-A41)',\n",
    "    'Leading Cause_Viral Hepatitis (B15-B19)',\n",
    "    'Race Ethnicity_Black Non-Hispanic',\n",
    "    'Race Ethnicity_Hispanic',\n",
    "    'Race Ethnicity_White Non-Hispanic'\n",
    "]"
   ]
  },
  {
   "cell_type": "code",
   "execution_count": null,
   "metadata": {
    "colab": {
     "base_uri": "https://localhost:8080/"
    },
    "id": "YpoF-z0D2jVX",
    "outputId": "81d593b9-2e9d-4a9a-d234-53d97f1e0386"
   },
   "outputs": [],
   "source": [
    "# Ensure all these columns are present before proceeding\n",
    "missing_features_check = [f for f in encoded_categorical_features if f not in df_noNan_encoded_scaled.columns]\n",
    "if missing_features_check:\n",
    "    print(f\"\\nError: The following expected one-hot encoded feature columns are missing from df_noNan_encoded_scaled: {missing_features_check}\")\n",
    "    print(\"Please verify the exact column names after one-hot encoding.\")\n",
    "    exit()\n",
    "\n",
    "X = df_noNan_encoded_scaled[encoded_categorical_features]\n",
    "y = df_noNan_encoded_scaled['High_Mortality']\n",
    "\n",
    "print(\"\\nSuccessfully defined X and y using One-Hot Encoded features.\")\n",
    "print(f\"Shape of X: {X.shape}\")\n",
    "print(f\"Shape of y: {y.shape}\")"
   ]
  },
  {
   "cell_type": "code",
   "execution_count": null,
   "metadata": {
    "colab": {
     "base_uri": "https://localhost:8080/"
    },
    "id": "H16r-PMJ2jhM",
    "outputId": "06e8b0c9-e11b-4dfa-a54c-7a4d1036905e"
   },
   "outputs": [],
   "source": [
    "# chi2 returns two arrays: chi2 statistics and p-values\n",
    "chi2_stats, p_values = chi2(X, y)\n",
    "\n",
    "# Display Results\n",
    "print(\"\\n--- Chi-Squared Test Results ---\")\n",
    "print(\"Chi2 Statistics (for each feature):\")\n",
    "for feature, stat in zip(encoded_categorical_features, chi2_stats):\n",
    "    print(f\"- {feature}: {stat:.2f}\")"
   ]
  },
  {
   "cell_type": "code",
   "execution_count": null,
   "metadata": {
    "colab": {
     "base_uri": "https://localhost:8080/"
    },
    "id": "6aPH8oN92y9e",
    "outputId": "9a83fbca-1d8b-4063-ba77-5b0800e1c35a"
   },
   "outputs": [],
   "source": [
    "print(\"\\nP-values (for each feature):\")\n",
    "for feature, p_val in zip(encoded_categorical_features, p_values):\n",
    "    print(f\"- {feature}: {p_val:.4f}\")"
   ]
  },
  {
   "cell_type": "code",
   "execution_count": null,
   "metadata": {
    "colab": {
     "base_uri": "https://localhost:8080/"
    },
    "id": "oijJwmPW2zAV",
    "outputId": "3dbf2891-00be-4c69-e27a-3c9bdec1d9cf"
   },
   "outputs": [],
   "source": [
    "# Create a DataFrame for better readability and sorting\n",
    "feature_scores = pd.DataFrame({\n",
    "    'Feature': encoded_categorical_features,\n",
    "    'Chi2_Statistic': chi2_stats,\n",
    "    'P_Value': p_values\n",
    "})\n",
    "feature_scores = feature_scores.sort_values(by='P_Value', ascending=True).reset_index(drop=True)\n",
    "print(\"\\nFeature Scores (sorted by P-value):\\n\", feature_scores)"
   ]
  },
  {
   "cell_type": "code",
   "execution_count": null,
   "metadata": {
    "colab": {
     "base_uri": "https://localhost:8080/"
    },
    "id": "LIEUBx1021Bj",
    "outputId": "6abcec4e-6c2a-419a-f6b3-a5382db03108"
   },
   "outputs": [],
   "source": [
    "significant_features = feature_scores[feature_scores['P_Value'] < 0.05]\n",
    "print(\"\\nSignificant features with p < 0.05:\")\n",
    "print(significant_features)\n",
    "\n",
    "print(f\"\\nTotal significant features: {significant_features.shape[0]}\")"
   ]
  },
  {
   "cell_type": "markdown",
   "metadata": {
    "id": "mpNVaEyp_ZL6"
   },
   "source": [
    "### 5.2 Visualization of Chi-Square Results\n",
    "\n",
    "We visualize the top 15 features based on the Chi2 statistic using a bar plot, highlighting those with the strongest association to the target variable."
   ]
  },
  {
   "cell_type": "code",
   "execution_count": null,
   "metadata": {
    "colab": {
     "base_uri": "https://localhost:8080/",
     "height": 601
    },
    "id": "47giyZUG21Em",
    "outputId": "10817f5c-6f6a-4914-d0a6-39d6d879d353"
   },
   "outputs": [],
   "source": [
    "top_n = 15\n",
    "top_features = feature_scores.sort_values(by='Chi2_Statistic', ascending=False).head(top_n)\n",
    "\n",
    "plt.figure(figsize=(12, 6))\n",
    "\n",
    "sns.barplot(x='Chi2_Statistic', y='Feature', data=top_features)\n",
    "plt.title(f'Top {top_n} Features by Chi-Square Statistic')\n",
    "plt.xlabel('Chi2 Statistic')\n",
    "plt.ylabel('Feature')\n",
    "plt.tight_layout()\n",
    "plt.show()"
   ]
  },
  {
   "cell_type": "code",
   "execution_count": null,
   "metadata": {
    "colab": {
     "base_uri": "https://localhost:8080/",
     "height": 601
    },
    "id": "wU376kW021L3",
    "outputId": "b6858486-c098-4a7a-b27e-03b69e231e27"
   },
   "outputs": [],
   "source": [
    "plt.figure(figsize=(12, 6))\n",
    "\n",
    "ax = sns.barplot(x='Chi2_Statistic', y='Feature', data=top_features)\n",
    "\n",
    "plt.title(f'Top {top_n} Features by Chi-Square Statistic')\n",
    "plt.xlabel('Chi2 Statistic')\n",
    "plt.ylabel('Feature')\n",
    "\n",
    "# Add p-value annotations\n",
    "for i, row in top_features.iterrows():\n",
    "    ax.text(row['Chi2_Statistic'] + 0.5, i, f\"p={row['P_Value']:.3f}\", color='black', va='center')\n",
    "\n",
    "plt.tight_layout()\n",
    "plt.show()"
   ]
  },
  {
   "cell_type": "markdown",
   "metadata": {
    "id": "FZMd6ZeY25Yo"
   },
   "source": [
    "#### Insight:\n",
    "\n",
    "The Chi-Square test evaluates the independence between categorical features and the target variable `High_Mortality`. It returns:\n",
    "- A Chi2 statistic (larger values indicate stronger association)\n",
    "- A p-value (smaller values indicate statistical significance)\n",
    "- Features with **p < 0.05** are considered statistically significant.\n",
    "- The bar plot below shows the **top 15 features** based on the Chi2 statistic, with p-values annotated.\n",
    "\n",
    "We applied the test to one-hot encoded categorical features such as `Leading Cause` and `Race Ethnicity`."
   ]
  },
  {
   "cell_type": "markdown",
   "metadata": {
    "id": "lVcqY8w228MH"
   },
   "source": [
    "### 5.3 Pearson Correlation Feature Selection\n",
    "\n",
    "We calculate the Pearson correlation between numerical features and `High_Mortality` to assess the strength and direction of linear relationships."
   ]
  },
  {
   "cell_type": "code",
   "execution_count": null,
   "metadata": {
    "colab": {
     "base_uri": "https://localhost:8080/"
    },
    "id": "LcENLcAb2-Dl",
    "outputId": "bded96ae-ebb1-4443-dd85-6c0d0a0e620b"
   },
   "outputs": [],
   "source": [
    "# Make a copy to work with, preserving original df if needed elsewhere\n",
    "df_processed = df.copy()\n",
    "\n",
    "# 2. Handle missing values (replace '.' with NaN and convert to numeric)\n",
    "df_processed = df_processed.replace('.', np.nan)\n",
    "numerical_cols = ['Deaths', 'Death Rate', 'Age Adjusted Death Rate']\n",
    "for col in numerical_cols:\n",
    "    df_processed[col] = pd.to_numeric(df_processed[col])\n",
    "print(\"Missing values replaced and numerical columns converted.\")\n",
    "\n",
    "\n",
    "# A more robust KNN for mixed types might require specific handling.\n",
    "imputer = KNNImputer(n_neighbors=5)\n",
    "\n",
    "# Assuming Race Ethnicity is still object/string type and will be handled by get_dummies later.\n",
    "# Apply KNNImputer only on numerical columns that may have NaNs\n",
    "cols_to_impute = ['Deaths', 'Death Rate', 'Age Adjusted Death Rate']\n",
    "if 'Sex' in df_processed.columns: # If 'Sex' isn't already processed\n",
    "    df_processed['Sex_imputed'] = df_processed['Sex'].astype('category').cat.codes # Convert to numeric for KNN if used\n",
    "    cols_to_impute.append('Sex_imputed')\n",
    "\n",
    "if 'Race Ethnicity' in df_processed.columns:\n",
    "    df_processed['Race Ethnicity_imputed'] = df_processed['Race Ethnicity'].astype('category').cat.codes\n",
    "    cols_to_impute.append('Race Ethnicity_imputed')\n",
    "\n",
    "# Perform imputation on a subset for simplicity, then merge back\n",
    "df_processed[numerical_cols] = imputer.fit_transform(df_processed[numerical_cols])\n",
    "print(\"Numerical columns imputed using KNNImputer.\")"
   ]
  },
  {
   "cell_type": "code",
   "execution_count": null,
   "metadata": {
    "colab": {
     "base_uri": "https://localhost:8080/",
     "height": 196
    },
    "id": "4EJF8goIUzMv",
    "outputId": "fa422caf-8397-487b-927a-231825d2d019"
   },
   "outputs": [],
   "source": [
    "# Drop temporary imputed categorical columns if created\n",
    "df_processed = df_processed.drop(columns=[col for col in df_processed.columns if '_imputed' in col], errors='ignore')\n",
    "\n",
    "\n",
    "# 4. Create the 'High_Mortality' target variable\n",
    "# Bin 'Age Adjusted Death Rate' into 2 bins\n",
    "discretizer = KBinsDiscretizer(n_bins=2, encode='ordinal', strategy='quantile')\n",
    "df_processed['High_Mortality'] = discretizer.fit_transform(df_processed[['Age Adjusted Death Rate']])\n",
    "df_processed['High_Mortality'] = df_processed['High_Mortality'].astype(int) # Ensure it's 0 or 1\n",
    "print(\"'High_Mortality' target variable created.\")\n",
    "df_processed['High_Mortality'].value_counts()\n"
   ]
  },
  {
   "cell_type": "code",
   "execution_count": null,
   "metadata": {
    "colab": {
     "base_uri": "https://localhost:8080/"
    },
    "id": "pKgr1a0eUs3J",
    "outputId": "fdc62a7e-ef25-488a-be72-e44f73f5a2ae"
   },
   "outputs": [],
   "source": [
    "# 5. Handle 'Sex' column: Convert to numerical 'Male'\n",
    "if 'Sex' in df_processed.columns:\n",
    "    df_processed['Male'] = (df_processed['Sex'] == 'Male').astype(int)\n",
    "    df_processed = df_processed.drop(columns=['Sex'])\n",
    "    print(\"'Sex' column converted to numerical 'Male' column and original 'Sex' dropped.\")\n",
    "\n",
    "# 6. Prepare categorical features for one-hot encoding (and fix 'Leading Cause' issue)\n",
    "# Recommended: Clean whitespace from categorical columns FIRST\n",
    "df_processed['Leading Cause'] = df_processed['Leading Cause'].astype(str).str.strip()\n",
    "df_processed['Race Ethnicity'] = df_processed['Race Ethnicity'].astype(str).str.strip()\n",
    "\n",
    "# Explicitly convert 'Leading Cause' to Categorical type with unique categories as the fix for TypeError\n",
    "df_processed['Leading Cause'] = pd.Categorical(df_processed['Leading Cause'], categories=df_processed['Leading Cause'].unique())\n",
    "\n",
    "categorical_features_for_dummies = ['Leading Cause', 'Race Ethnicity']\n",
    "\n",
    "# Verify columns and types before get_dummies\n",
    "print(\"\\n--- df_processed columns just before get_dummies ---\")\n",
    "print(df_processed.columns.tolist())\n",
    "print(\"\\n--- dtypes of categorical columns before get_dummies ---\")\n",
    "print(df_processed[categorical_features_for_dummies].dtypes)"
   ]
  },
  {
   "cell_type": "code",
   "execution_count": null,
   "metadata": {
    "colab": {
     "base_uri": "https://localhost:8080/",
     "height": 335
    },
    "id": "sF6rZB7NToTn",
    "outputId": "280a58db-f31f-4fcd-8fd9-35e6292790fc"
   },
   "outputs": [],
   "source": [
    "df_processed[['Deaths', 'Death Rate', 'Age Adjusted Death Rate']] = imputer.fit_transform(df[['Deaths', 'Death Rate', 'Age Adjusted Death Rate']])\n",
    "df_processed.isnull().sum()"
   ]
  },
  {
   "cell_type": "code",
   "execution_count": null,
   "metadata": {
    "colab": {
     "base_uri": "https://localhost:8080/"
    },
    "id": "qKjCfxl03EE5",
    "outputId": "13ad1e5d-d220-4272-d1bc-65b2e1888198"
   },
   "outputs": [],
   "source": [
    "# 7. Apply One-Hot Encoding\n",
    "df_encoded = pd.get_dummies(df_processed, columns=categorical_features_for_dummies, drop_first=True)\n",
    "print(\"Categorical features one-hot encoded.\")\n",
    "\n",
    "\n",
    "# 8. Scale numerical features (excluding 'High_Mortality' which is the target)\n",
    "numerical_features_for_scaling = ['Year', 'Deaths', 'Death Rate', 'Age Adjusted Death Rate']\n",
    "# Ensure only features that exist in df_encoded and are not the target are scaled\n",
    "features_to_scale_in_encoded = [col for col in numerical_features_for_scaling if col in df_encoded.columns]\n",
    "\n",
    "scaler = StandardScaler()\n",
    "df_encoded[features_to_scale_in_encoded] = scaler.fit_transform(df_encoded[features_to_scale_in_encoded])\n",
    "print(\"Numerical features scaled using StandardScaler.\")\n",
    "\n",
    "# Final DataFrame for analysis\n",
    "df_noNan_encoded_scaled = df_encoded.copy()\n",
    "\n",
    "print(\"\\n--- Final df_noNan_encoded_scaled DataFrame Prepared ---\")\n",
    "print(\"Columns in df_noNan_encoded_scaled:\")\n",
    "print(df_noNan_encoded_scaled.columns.tolist())"
   ]
  },
  {
   "cell_type": "code",
   "execution_count": null,
   "metadata": {
    "colab": {
     "base_uri": "https://localhost:8080/"
    },
    "id": "zAhHBfEB3E2f",
    "outputId": "fd076643-df99-4299-8da7-ef1595f40807"
   },
   "outputs": [],
   "source": [
    "print(\"\\nHead of df_noNan_encoded_scaled:\")\n",
    "print(df_noNan_encoded_scaled.head())\n",
    "print(f\"Shape of final DataFrame: {df_noNan_encoded_scaled.shape}\")"
   ]
  },
  {
   "cell_type": "code",
   "execution_count": null,
   "metadata": {
    "colab": {
     "base_uri": "https://localhost:8080/"
    },
    "id": "VDbKUi-E3HUx",
    "outputId": "abb93539-307f-43b6-f554-eac7e7542cb3"
   },
   "outputs": [],
   "source": [
    "# A. Pearson Correlation Test (for numerical features vs 'High_Mortality')\n",
    "print(\"\\n--- Pearson Correlation with 'High_Mortality' ---\")\n",
    "numerical_features_for_pearson = ['Year', 'Deaths', 'Death Rate', 'Age Adjusted Death Rate']\n",
    "target_variable_pearson = 'High_Mortality'\n",
    "\n",
    "missing_cols_pearson = [col for col in numerical_features_for_pearson + [target_variable_pearson] if col not in df_noNan_encoded_scaled.columns]\n",
    "if missing_cols_pearson:\n",
    "    print(f\"\\nError: The following required columns are missing from df_noNan_encoded_scaled for Pearson correlation: {missing_cols_pearson}\")\n",
    "else:\n",
    "    correlations = df_noNan_encoded_scaled[numerical_features_for_pearson].corrwith(df_noNan_encoded_scaled[target_variable_pearson], method='pearson')\n",
    "    print(correlations)\n",
    "print(\"\\n--- Pearson Complete ---\")"
   ]
  },
  {
   "cell_type": "markdown",
   "metadata": {
    "id": "kKoWGDU__tSC"
   },
   "source": [
    "### 5.4 Visualization of Pearson Correlation\n",
    "\n",
    "A heatmap displays how each numerical feature correlates with `High_Mortality`, helping to identify variables with meaningful linear associations.\n"
   ]
  },
  {
   "cell_type": "code",
   "execution_count": null,
   "metadata": {
    "colab": {
     "base_uri": "https://localhost:8080/",
     "height": 531
    },
    "id": "ZK6pUBfT3Jqj",
    "outputId": "af5af357-7557-402d-b4a3-2ae22340b919"
   },
   "outputs": [],
   "source": [
    "plt.figure(figsize=(8, 4))\n",
    "pearson_matrix = df_noNan_encoded_scaled[numerical_features_for_pearson + [target_variable_pearson]].corr()\n",
    "sns.heatmap(pearson_matrix, annot=True, cmap='coolwarm', center=0)\n",
    "plt.title('Pearson Correlation with High_Mortality')\n",
    "#plt.tight_layout()\n",
    "plt.show()"
   ]
  },
  {
   "cell_type": "markdown",
   "metadata": {
    "id": "E13DhkC43RRP"
   },
   "source": [
    "#### Insight:\n",
    "\n",
    "Pearson correlation measures the linear relationship between numerical features and the binary target variable `High_Mortality`.\n",
    "\n",
    "* **Age Adjusted Death Rate:** Shows a moderate positive linear correlation with High_Mortality (~ 0.579). This indicates that as the age-adjusted death rate increases, there is a moderate tendency for High_Mortality to be 1 (higher mortality). This correlation is weaker than in your previous output where it was perfectly correlated, suggesting possible changes in how the High_Mortality target was derived or in the underlying data's distribution.\n",
    "* **Death Rate:** Also displays a moderate positive linear correlation with High_Mortality (~ 0.527). A higher death rate is moderately associated with a higher likelihood of being in the High_Mortality category.\n",
    "* **Deaths:** Exhibits a moderate positive linear correlation with High_Mortality (~ 0.446). This suggests that a greater number of deaths has a moderate association with the High_Mortality category.\n",
    "* **Year:** Now shows a weak negative linear correlation with High_Mortality (~ −0.069). While still weak, it is slightly stronger than previously, suggesting a very slight tendency for High_Mortality to decrease as the Year increases, but it's still not a significant linear predictor on its own.\n",
    "\n",
    "- A value near +1 indicates a strong positive correlation.\n",
    "- A value near -1 indicates a strong negative correlation.\n",
    "- A value near 0 indicates little or no linear correlation.\n"
   ]
  },
  {
   "cell_type": "markdown",
   "metadata": {
    "id": "t6FivKlw3iEa"
   },
   "source": [
    "### 5.5 Recursive Feature Elimination (RFE)\n",
    "\n",
    "We apply RFE, a wrapper-based feature selection method, using Logistic Regression as the estimator. RFE recursively removes the least important features to identify the subset that best predicts `High_Mortality`."
   ]
  },
  {
   "cell_type": "code",
   "execution_count": null,
   "metadata": {
    "colab": {
     "base_uri": "https://localhost:8080/"
    },
    "id": "fp77R8LK3n3e",
    "outputId": "c00cb363-cf71-44cc-ae4a-596f094619b7"
   },
   "outputs": [],
   "source": [
    "# --- RFE (Recursive Feature Elimination) ---\n",
    "print(\"\\n--- Starting Recursive Feature Elimination (RFE) ---\")\n",
    "\n",
    "# Define features (X) and target (y)\n",
    "X = df_noNan_encoded_scaled.drop('High_Mortality', axis=1)\n",
    "y = df_noNan_encoded_scaled['High_Mortality']\n",
    "\n",
    "# Set max_iter for convergence for some datasets, and random_state for reproducibility\n",
    "estimator = LogisticRegression(max_iter=1000, random_state=42)\n",
    "\n",
    "# Initialize RFE\n",
    "# Let's start with selecting 10 features and also show the ranking of all features.\n",
    "n_features_to_select = 10\n",
    "rfe_selector = RFE(estimator=estimator, n_features_to_select=n_features_to_select, step=1)\n",
    "\n",
    "# Fit RFE\n",
    "rfe_selector.fit(X, y)\n",
    "\n",
    "# Get the selected features\n",
    "selected_features_rfe = X.columns[rfe_selector.support_].tolist()\n",
    "\n",
    "# Get feature ranking\n",
    "feature_ranking = pd.DataFrame({\n",
    "    'Feature': X.columns,\n",
    "    'Ranking': rfe_selector.ranking_\n",
    "}).sort_values(by='Ranking')\n",
    "\n",
    "print(f\"\\nRFE selected {n_features_to_select} features:\")\n",
    "print(selected_features_rfe)\n",
    "\n",
    "print(\"\\nFeature Ranking by RFE (1 indicates selected feature, higher numbers are less important):\")\n",
    "print(feature_ranking)\n",
    "\n",
    "print(\"\\n--- RFE Complete ---\")"
   ]
  },
  {
   "cell_type": "markdown",
   "metadata": {
    "id": "cX_I4CpU_71N"
   },
   "source": [
    "### 5.6 Visualization of RFE Feature Rankings\n",
    "\n",
    "We plot the feature rankings produced by RFE, making it easy to see which variables were retained as most relevant for the model."
   ]
  },
  {
   "cell_type": "code",
   "execution_count": null,
   "metadata": {
    "colab": {
     "base_uri": "https://localhost:8080/",
     "height": 601
    },
    "id": "-PJzPZKd3qRV",
    "outputId": "252ca936-0485-425d-87c4-995730574740"
   },
   "outputs": [],
   "source": [
    "plt.figure(figsize=(12, 6))\n",
    "sns.barplot(\n",
    "    x='Ranking',\n",
    "    y='Feature',\n",
    "    data=feature_ranking.sort_values(by='Ranking'),\n",
    "    legend=False\n",
    ")\n",
    "plt.title('Feature Rankings from RFE (1 = Selected)')\n",
    "plt.xlabel('RFE Ranking')\n",
    "plt.ylabel('Feature')\n",
    "plt.tight_layout()\n",
    "plt.show()"
   ]
  },
  {
   "cell_type": "markdown",
   "metadata": {
    "id": "Or9B0_Hc3s9e"
   },
   "source": [
    "#### Insight:\n",
    "RFE is a wrapper-based feature selection method that recursively removes the least important features based on model performance (we used Logistic Regression as the base model).\n",
    "\n",
    "- The top `n=10` most important features were selected.\n",
    "- All features were ranked; 1 = selected, higher = less relevant."
   ]
  },
  {
   "cell_type": "markdown",
   "metadata": {
    "id": "b11BhFuP509f"
   },
   "source": [
    "## 6. Models:\n",
    "- Logistic Regression\n",
    "- Decision Tree Classifier\n",
    "- SVM\n",
    "- KNN\n",
    "- Two ensemble methods\n",
    "\n"
   ]
  },
  {
   "cell_type": "markdown",
   "metadata": {
    "id": "tMUCQVuFEbYL"
   },
   "source": [
    "### 6.1 Final Modeling Dataset Overview\n",
    "\n",
    "Before training models, we inspect the final cleaned, encoded, and scaled dataset. This includes displaying a sample of the data, listing all feature columns, and confirming data types and non-null counts. This step ensures that all features are correctly formatted and the dataset is ready for machine learning."
   ]
  },
  {
   "cell_type": "code",
   "execution_count": null,
   "metadata": {
    "colab": {
     "base_uri": "https://localhost:8080/",
     "height": 565
    },
    "id": "rPggXsjoDfmO",
    "outputId": "ae0a91c6-5dff-4306-c6a0-75c8285c9e8a"
   },
   "outputs": [],
   "source": [
    "df_noNan_encoded_scaled"
   ]
  },
  {
   "cell_type": "code",
   "execution_count": null,
   "metadata": {
    "id": "ErWu8yirBCxG"
   },
   "outputs": [],
   "source": [
    "tmp_df_noNan_encoded_scaled = df_noNan_encoded_scaled.copy()"
   ]
  },
  {
   "cell_type": "code",
   "execution_count": null,
   "metadata": {
    "colab": {
     "base_uri": "https://localhost:8080/"
    },
    "id": "ZX8byAbo5K3J",
    "outputId": "fa1c6612-6b49-4e95-a3ac-8e864b950871"
   },
   "outputs": [],
   "source": [
    "tmp_df_noNan_encoded_scaled.columns.tolist()"
   ]
  },
  {
   "cell_type": "code",
   "execution_count": null,
   "metadata": {
    "colab": {
     "base_uri": "https://localhost:8080/"
    },
    "id": "dUq7GTl25eoB",
    "outputId": "40cc0bf9-2d50-4a6f-b7bc-bcbc1af5fda8"
   },
   "outputs": [],
   "source": [
    "tmp_df_noNan_encoded_scaled.info()"
   ]
  },
  {
   "cell_type": "markdown",
   "metadata": {
    "id": "63qkXG0X2LzQ"
   },
   "source": [
    "### 6.2 Logistic Regression\n",
    "\n",
    "We train and evaluate a Logistic Regression model as a baseline classifier for predicting `High_Mortality`."
   ]
  },
  {
   "cell_type": "code",
   "execution_count": null,
   "metadata": {
    "colab": {
     "base_uri": "https://localhost:8080/"
    },
    "id": "H7fkkCVD6PKD",
    "outputId": "bccfbb74-9360-4604-aefe-e3e8011135f8"
   },
   "outputs": [],
   "source": [
    "import pandas as pd\n",
    "from sklearn.model_selection import train_test_split, KFold\n",
    "from sklearn.linear_model import LogisticRegression\n",
    "from sklearn.metrics import accuracy_score, classification_report\n",
    "from sklearn.model_selection import cross_val_score\n",
    "\n",
    "# Load dataset (modify to your dataset)\n",
    "# df = pd.read_csv('your_data.csv')\n",
    "\n",
    "# Example: Assume 'target' is the label column and the rest are features\n",
    "\n",
    "X = tmp_df_noNan_encoded_scaled.drop(columns=['High_Mortality'])\n",
    "y = tmp_df_noNan_encoded_scaled['High_Mortality']\n",
    "\n",
    "# Train-test split (optional, can use cross-validation directly)\n",
    "X_train, X_test, y_train, y_test = train_test_split(X, y, test_size=0.2, random_state=42)\n",
    "\n",
    "# Initialize Logistic Regression Model\n",
    "model = LogisticRegression(max_iter=1000, random_state=42)\n",
    "\n",
    "# K-Fold Cross Validation setup\n",
    "kf = KFold(n_splits=5, shuffle=True, random_state=42)\n",
    "\n",
    "# Perform K-Fold Cross-Validation\n",
    "cv_scores = cross_val_score(model, X_train, y_train, cv=kf, scoring='accuracy')\n",
    "\n",
    "print(f'Cross-Validation Accuracy Scores: {cv_scores}')\n",
    "print(f'Mean CV Accuracy: {cv_scores.mean()}')\n",
    "\n",
    "# Fit the model on the entire training set\n",
    "model.fit(X_train, y_train)\n",
    "\n",
    "# Make predictions\n",
    "y_pred = model.predict(X_test)\n",
    "\n",
    "# Evaluation metrics\n",
    "print(\"Classification Report on Test Set:\")\n",
    "print(classification_report(y_test, y_pred))\n",
    "\n",
    "# Calculate accuracy on test set\n",
    "test_accuracy = accuracy_score(y_test, y_pred)\n",
    "print(f'Test Accuracy: {test_accuracy}')"
   ]
  },
  {
   "cell_type": "markdown",
   "metadata": {
    "id": "VO2lZXPj_HOh"
   },
   "source": [
    "Logistic regression was used on the high mortality target. Displaying promissing results. One concern we do have about this results is that the 90%+ meassuments in precision, recell, f1-score and support"
   ]
  },
  {
   "cell_type": "markdown",
   "metadata": {
    "id": "XWUlM7Qd4Oxy"
   },
   "source": [
    "### 6.3 Decision Tree Classifier\n",
    "\n",
    "We implement a Decision Tree Classifier, examining its structure and performance in distinguishing high and low mortality categories.\n"
   ]
  },
  {
   "cell_type": "code",
   "execution_count": null,
   "metadata": {
    "colab": {
     "base_uri": "https://localhost:8080/"
    },
    "id": "bWV1LJj64SNJ",
    "outputId": "89a659b7-9151-4531-b897-abc2e19acf1e"
   },
   "outputs": [],
   "source": [
    "import pandas as pd\n",
    "from sklearn.model_selection import train_test_split, StratifiedKFold\n",
    "from sklearn.tree import DecisionTreeClassifier\n",
    "from sklearn.metrics import accuracy_score, classification_report, confusion_matrix\n",
    "from sklearn.model_selection import cross_val_score\n",
    "\n",
    "# Load your dataset\n",
    "# df = pd.read_csv('your_data.csv')\n",
    "\n",
    "X = tmp_df_noNan_encoded_scaled.drop(columns=['High_Mortality'])\n",
    "y = tmp_df_noNan_encoded_scaled['High_Mortality']\n",
    "\n",
    "# Train-test split (optional, can use cross-validation directly)\n",
    "X_train, X_test, y_train, y_test = train_test_split(X, y, test_size=0.2, random_state=42)\n",
    "\n",
    "# Initialize Decision Tree Model (you can adjust hyperparameters as needed)\n",
    "model = DecisionTreeClassifier(random_state=42)\n",
    "\n",
    "# Stratified K-Fold Cross Validation setup\n",
    "skf = StratifiedKFold(n_splits=5, shuffle=True, random_state=42)\n",
    "\n",
    "# Perform K-Fold Cross-Validation\n",
    "cv_scores = cross_val_score(model, X_train, y_train, cv=skf, scoring='accuracy')\n",
    "\n",
    "print(f'Stratified K-Fold Cross-Validation Accuracy Scores: {cv_scores}')\n",
    "print(f'Mean CV Accuracy: {cv_scores.mean()}')\n",
    "\n",
    "# Fit the model on the entire training set\n",
    "model.fit(X_train, y_train)\n",
    "\n",
    "# Make predictions\n",
    "y_pred = model.predict(X_test)\n",
    "\n",
    "# Evaluation metrics\n",
    "print(\"Classification Report on Test Set:\")\n",
    "print(classification_report(y_test, y_pred))\n",
    "\n",
    "# Calculate accuracy on test set\n",
    "test_accuracy = accuracy_score(y_test, y_pred)\n",
    "print(f'Test Accuracy: {test_accuracy}')\n",
    "\n",
    "# Confusion Matrix\n",
    "cm = confusion_matrix(y_test, y_pred)\n",
    "print(\"Confusion Matrix:\")\n",
    "print(cm)\n"
   ]
  },
  {
   "cell_type": "code",
   "execution_count": null,
   "metadata": {
    "colab": {
     "base_uri": "https://localhost:8080/",
     "height": 524
    },
    "id": "oCAIt4-mnoAI",
    "outputId": "660c1175-1bae-4656-82ef-2f027aca5ea0"
   },
   "outputs": [],
   "source": [
    "import seaborn as sns\n",
    "import matplotlib.pyplot as plt\n",
    "\n",
    "# Plot confusion matrix as heatmap\n",
    "sns.heatmap(cm, annot=True, fmt='d', cmap='Blues', xticklabels=['Negative', 'Positive'], yticklabels=['Negative', 'Positive'])\n",
    "plt.xlabel('Predicted')\n",
    "plt.ylabel('True')\n",
    "plt.title('Confusion Matrix')\n",
    "plt.show()"
   ]
  },
  {
   "cell_type": "markdown",
   "metadata": {
    "id": "O9QTS_9G425a"
   },
   "source": [
    "### 6.4 Support Vector Machine (SVM)\n",
    "\n",
    "We apply a Support Vector Machine (SVM) model to the data, leveraging its ability to handle complex decision boundaries."
   ]
  },
  {
   "cell_type": "code",
   "execution_count": null,
   "metadata": {
    "colab": {
     "base_uri": "https://localhost:8080/"
    },
    "id": "dJrwlOLt7u0_",
    "outputId": "a4ac6d23-067e-43c9-9f36-f83e26ece13d"
   },
   "outputs": [],
   "source": [
    "from sklearn.model_selection import cross_validate, StratifiedKFold\n",
    "from sklearn.svm import SVC\n",
    "from sklearn.preprocessing import StandardScaler\n",
    "from sklearn.pipeline import Pipeline\n",
    "from sklearn.metrics import make_scorer, precision_score, recall_score, f1_score\n",
    "import numpy as np\n",
    "\n",
    "# Prepare your data\n",
    "X = tmp_df_noNan_encoded_scaled.drop(columns=['High_Mortality'])\n",
    "y = tmp_df_noNan_encoded_scaled['High_Mortality']\n",
    "\n",
    "# Define Pipeline: Scaling → SVM\n",
    "pipeline = Pipeline([\n",
    "    ('svm', SVC(C=0.1, kernel='rbf', random_state=42))\n",
    "])\n",
    "\n",
    "# Stratified K-Fold for balanced splits\n",
    "kf = StratifiedKFold(n_splits=5, shuffle=True, random_state=42)\n",
    "\n",
    "# Metrics to track\n",
    "scoring = {\n",
    "    'precision': make_scorer(precision_score),\n",
    "    'recall': make_scorer(recall_score),\n",
    "    'f1': make_scorer(f1_score)\n",
    "}\n",
    "\n",
    "# Cross-validation\n",
    "cv_results = cross_validate(pipeline, X, y, cv=kf, scoring=scoring)\n",
    "\n",
    "# Print average metrics\n",
    "print(\"Average Precision:\", np.mean(cv_results['test_precision']))\n",
    "print(\"Average Recall:\", np.mean(cv_results['test_recall']))\n",
    "print(\"Average F1-Score:\", np.mean(cv_results['test_f1']))\n"
   ]
  },
  {
   "cell_type": "markdown",
   "metadata": {
    "id": "7dOjzX9lB8Q3"
   },
   "source": [
    "### 6.5 K-Nearest Neighbors (KNN)\n",
    "\n",
    "We test the K-Nearest Neighbors (KNN) algorithm for classification, exploring its effectiveness given the feature space."
   ]
  },
  {
   "cell_type": "code",
   "execution_count": null,
   "metadata": {
    "colab": {
     "base_uri": "https://localhost:8080/",
     "height": 562
    },
    "id": "c6EnF3WC_XaY",
    "outputId": "4cd45f03-c141-4f9c-f9b5-b6d4009afac8"
   },
   "outputs": [],
   "source": [
    "from sklearn.model_selection import StratifiedKFold, cross_val_predict\n",
    "from sklearn.pipeline import Pipeline\n",
    "from sklearn.preprocessing import StandardScaler\n",
    "from sklearn.neighbors import KNeighborsClassifier\n",
    "from sklearn.metrics import roc_curve, roc_auc_score, auc\n",
    "import matplotlib.pyplot as plt\n",
    "import numpy as np\n",
    "\n",
    "# Prepare your data\n",
    "X = tmp_df_noNan_encoded_scaled.drop(columns=['High_Mortality'])\n",
    "y = tmp_df_noNan_encoded_scaled['High_Mortality']\n",
    "\n",
    "# Pipeline: Scaling → KNN\n",
    "knn_pipeline = Pipeline([\n",
    "\n",
    "    ('knn', KNeighborsClassifier(n_neighbors=5))\n",
    "])\n",
    "\n",
    "# Stratified K-Fold for balanced splits\n",
    "cv = StratifiedKFold(n_splits=5, shuffle=True, random_state=42)\n",
    "\n",
    "# Get predicted probabilities with cross_val_predict\n",
    "y_pred_proba = cross_val_predict(knn_pipeline, X, y, cv=cv, method='predict_proba')[:, 1]\n",
    "\n",
    "# Compute ROC curve and AUC\n",
    "fpr, tpr, thresholds = roc_curve(y, y_pred_proba)\n",
    "roc_auc = auc(fpr, tpr)\n",
    "\n",
    "# Plot ROC curve\n",
    "plt.figure(figsize=(8, 6))\n",
    "plt.plot(fpr, tpr, color='blue', label=f'ROC Curve (AUC = {roc_auc:.2f})')\n",
    "plt.plot([0, 1], [0, 1], color='gray', linestyle='--')\n",
    "plt.xlabel('False Positive Rate')\n",
    "plt.ylabel('True Positive Rate')\n",
    "plt.title('ROC Curve for KNN Classifier')\n",
    "plt.legend()\n",
    "plt.grid(True)\n",
    "plt.show()\n",
    "\n",
    "\n"
   ]
  },
  {
   "cell_type": "markdown",
   "metadata": {
    "id": "m5VCFzmE8Bkf"
   },
   "source": [
    "### 6.6 Ensemble Models\n",
    "\n",
    "We experiment with ensemble learning approaches—such as Random Forest, Gradient Boosting, or other voting/stacking ensembles—to improve predictive performance by combining multiple classifiers.\n"
   ]
  },
  {
   "cell_type": "code",
   "execution_count": null,
   "metadata": {
    "colab": {
     "base_uri": "https://localhost:8080/",
     "height": 617
    },
    "id": "iHkU1Z7oji03",
    "outputId": "eea0f622-1711-4f90-a490-781fb94314cd"
   },
   "outputs": [],
   "source": [
    "from sklearn.model_selection import cross_val_predict\n",
    "from sklearn.ensemble import VotingClassifier\n",
    "from sklearn.linear_model import LogisticRegression\n",
    "from sklearn.tree import DecisionTreeClassifier\n",
    "from sklearn.svm import SVC\n",
    "from sklearn.preprocessing import StandardScaler\n",
    "from sklearn.pipeline import Pipeline\n",
    "from sklearn.metrics import roc_curve, auc\n",
    "import matplotlib.pyplot as plt\n",
    "import numpy as np\n",
    "\n",
    "# Prepare your data\n",
    "X = tmp_df_noNan_encoded_scaled.drop(columns=['High_Mortality'])\n",
    "y = tmp_df_noNan_encoded_scaled['High_Mortality']\n",
    "\n",
    "# Define base learners\n",
    "clf1 = LogisticRegression(penalty='elasticnet', solver='saga', C=0.1, l1_ratio=0.2, max_iter=1000)\n",
    "clf2 = DecisionTreeClassifier(max_depth=3, random_state=42)\n",
    "clf3 = SVC(C=0.1, kernel='rbf', probability=True, random_state=42)\n",
    "\n",
    "# Voting Classifier (Hard Voting)\n",
    "voting_hard = VotingClassifier(estimators=[\n",
    "    (\"lr\", clf1), (\"dt\", clf2), (\"svc\", clf3)], voting='soft')\n",
    "\n",
    "# Pipeline for scaling and modeling\n",
    "pipeline = Pipeline([\n",
    "    ('scaler', StandardScaler()),  # Scaling the data\n",
    "    ('model', voting_hard)\n",
    "])\n",
    "\n",
    "# Get predicted probabilities with cross_val_predict (for ROC curve)\n",
    "# We need to extract the probabilities directly from the final model (VotingClassifier)\n",
    "y_pred_proba = cross_val_predict(pipeline, X, y, cv=5, method='predict_proba')[:, 1]\n",
    "\n",
    "# Compute ROC curve and AUC\n",
    "fpr, tpr, thresholds = roc_curve(y, y_pred_proba)\n",
    "roc_auc = auc(fpr, tpr)\n",
    "\n",
    "# Plot ROC curve\n",
    "plt.figure(figsize=(8, 6))\n",
    "plt.plot(fpr, tpr, color='blue', label=f'ROC Curve (AUC = {roc_auc:.2f})')\n",
    "plt.plot([0, 1], [0, 1], color='gray', linestyle='--')\n",
    "plt.xlabel('False Positive Rate')\n",
    "plt.ylabel('True Positive Rate')\n",
    "plt.title('ROC Curve for Hard Voting Classifier Ensemble')\n",
    "plt.legend()\n",
    "plt.grid(True)\n",
    "plt.show()\n",
    "\n",
    "# Cross-validate with multiple metrics (precision, recall, F1)\n",
    "from sklearn.model_selection import cross_validate\n",
    "\n",
    "scoring = ['precision', 'recall', 'f1']\n",
    "cv_results = cross_validate(pipeline, X, y, cv=5, scoring=scoring)\n",
    "\n",
    "# Print average metrics\n",
    "print(\"Average Precision:\", np.mean(cv_results['test_precision']))\n",
    "print(\"Average Recall:\", np.mean(cv_results['test_recall']))\n",
    "print(\"Average F1-Score:\", np.mean(cv_results['test_f1']))\n"
   ]
  },
  {
   "cell_type": "markdown",
   "metadata": {
    "id": "wuZDhQEqmioS"
   },
   "source": [
    "As expected the embeded model has the best performance. By showing that there is a 97% TPR with 0% FPR."
   ]
  },
  {
   "cell_type": "markdown",
   "metadata": {
    "id": "M-wX9HPVs5gS"
   },
   "source": [
    "### 6.6 Model Comparison and Evaluation\n",
    "\n",
    "We compare Random Forest Classifier VS Logistic Regression of all implemented models using relevant metrics (accuracy, precision, recall, F1-score, ROC-AUC) and select the best-performing approach."
   ]
  },
  {
   "cell_type": "code",
   "execution_count": null,
   "metadata": {
    "colab": {
     "base_uri": "https://localhost:8080/",
     "height": 1000
    },
    "id": "RKcsXAXksmV4",
    "outputId": "7fe3198d-2325-4702-cfd9-fd480a164a3c"
   },
   "outputs": [],
   "source": [
    "import pandas as pd\n",
    "from sklearn.model_selection import train_test_split, GridSearchCV\n",
    "from sklearn.ensemble import RandomForestClassifier\n",
    "from sklearn.linear_model import LogisticRegression\n",
    "from sklearn.metrics import accuracy_score, classification_report, confusion_matrix\n",
    "import seaborn as sns\n",
    "import matplotlib.pyplot as plt\n",
    "import time\n",
    "\n",
    "# Assuming tmp_df_noNan_encoded_scaled is your dataset with features and target\n",
    "X = tmp_df_noNan_encoded_scaled.drop(columns=['High_Mortality'])  # Features\n",
    "y = tmp_df_noNan_encoded_scaled['High_Mortality']  # Target\n",
    "\n",
    "# Train-test split (80% train, 20% test)\n",
    "X_train, X_test, y_train, y_test = train_test_split(X, y, test_size=0.2, random_state=42)\n",
    "\n",
    "### --- 1. Random Forest Hyperparameter Tuning ---\n",
    "rf_model = RandomForestClassifier(random_state=42)\n",
    "\n",
    "# Define the parameter grid for Random Forest\n",
    "rf_param_grid = {\n",
    "    'n_estimators': [50, 100, 200],\n",
    "    'max_depth': [10, 20, 30, None],\n",
    "    'min_samples_split': [2, 5, 10],\n",
    "    'min_samples_leaf': [1, 2, 4],\n",
    "    'max_features': ['sqrt', 'log2', 5],\n",
    "    'bootstrap': [True, False]\n",
    "}\n",
    "\n",
    "# Initialize GridSearchCV for Random Forest\n",
    "rf_grid_search = GridSearchCV(estimator=rf_model, param_grid=rf_param_grid, cv=5, n_jobs=-1, verbose=2, scoring='accuracy')\n",
    "\n",
    "# Start the timer for Random Forest GridSearchCV\n",
    "start_time_rf = time.time()\n",
    "\n",
    "# Fit GridSearchCV for Random Forest\n",
    "rf_grid_search.fit(X_train, y_train)\n",
    "\n",
    "# Get the best parameters and the best model for Random Forest\n",
    "best_rf_params = rf_grid_search.best_params_\n",
    "print(f\"Best Hyperparameters for Random Forest: {best_rf_params}\")\n",
    "\n",
    "# Use the best model for predictions\n",
    "best_rf_model = rf_grid_search.best_estimator_\n",
    "y_pred_rf = best_rf_model.predict(X_test)\n",
    "\n",
    "# Evaluate Random Forest model\n",
    "rf_test_accuracy = accuracy_score(y_test, y_pred_rf)\n",
    "print(f\"Random Forest Test Accuracy: {rf_test_accuracy}\")\n",
    "print(\"Random Forest Classification Report:\")\n",
    "print(classification_report(y_test, y_pred_rf))\n",
    "\n",
    "# Confusion Matrix for Random Forest\n",
    "cm_rf = confusion_matrix(y_test, y_pred_rf)\n",
    "plt.figure(figsize=(6, 5))\n",
    "sns.heatmap(cm_rf, annot=True, fmt='d', cmap='Blues', cbar=False, xticklabels=['Negative', 'Positive'], yticklabels=['Negative', 'Positive'])\n",
    "plt.xlabel('Predicted')\n",
    "plt.ylabel('True')\n",
    "plt.title('Confusion Matrix for Random Forest')\n",
    "plt.show()\n",
    "\n",
    "# Timer for Random Forest GridSearchCV\n",
    "rf_duration = time.time() - start_time_rf\n",
    "print(f\"Time taken for Random Forest GridSearchCV: {rf_duration:.2f} seconds\")\n",
    "\n",
    "\n",
    "### --- 2. Logistic Regression Hyperparameter Tuning ---\n",
    "lr_model = LogisticRegression(random_state=42)\n",
    "\n",
    "# Define the parameter grid for Logistic Regression\n",
    "lr_param_grid = {\n",
    "    'C': [0.1, 1, 10],                  # Regularization strength\n",
    "    'penalty': ['l2'],                  # Regularization type (L2 for Logistic Regression)\n",
    "    'solver': ['liblinear', 'saga']     # Solvers to use\n",
    "}\n",
    "\n",
    "# Initialize GridSearchCV for Logistic Regression\n",
    "lr_grid_search = GridSearchCV(estimator=lr_model, param_grid=lr_param_grid, cv=5, n_jobs=-1, verbose=2, scoring='accuracy')\n",
    "\n",
    "# Start the timer for Logistic Regression GridSearchCV\n",
    "start_time_lr = time.time()\n",
    "\n",
    "# Fit GridSearchCV for Logistic Regression\n",
    "lr_grid_search.fit(X_train, y_train)\n",
    "\n",
    "# Get the best parameters and the best model for Logistic Regression\n",
    "best_lr_params = lr_grid_search.best_params_\n",
    "print(f\"Best Hyperparameters for Logistic Regression: {best_lr_params}\")\n",
    "\n",
    "# Use the best model for predictions\n",
    "best_lr_model = lr_grid_search.best_estimator_\n",
    "y_pred_lr = best_lr_model.predict(X_test)\n",
    "\n",
    "# Evaluate Logistic Regression model\n",
    "lr_test_accuracy = accuracy_score(y_test, y_pred_lr)\n",
    "print(f\"Logistic Regression Test Accuracy: {lr_test_accuracy}\")\n",
    "print(\"Logistic Regression Classification Report:\")\n",
    "print(classification_report(y_test, y_pred_lr))\n",
    "\n",
    "# Confusion Matrix for Logistic Regression\n",
    "cm_lr = confusion_matrix(y_test, y_pred_lr)\n",
    "plt.figure(figsize=(6, 5))\n",
    "sns.heatmap(cm_lr, annot=True, fmt='d', cmap='Blues', cbar=False, xticklabels=['Negative', 'Positive'], yticklabels=['Negative', 'Positive'])\n",
    "plt.xlabel('Predicted')\n",
    "plt.ylabel('True')\n",
    "plt.title('Confusion Matrix for Logistic Regression')\n",
    "plt.show()\n",
    "\n",
    "# Timer for Logistic Regression GridSearchCV\n",
    "lr_duration = time.time() - start_time_lr\n",
    "print(f\"Time taken for Logistic Regression GridSearchCV: {lr_duration:.2f} seconds\")\n",
    "\n",
    "\n",
    "### --- 3. Compare Performance of Both Models ---\n",
    "print(f\"\\nComparison of Random Forest vs Logistic Regression:\")\n",
    "\n",
    "# Accuracy comparison\n",
    "print(f\"Random Forest Test Accuracy: {rf_test_accuracy:.4f}\")\n",
    "print(f\"Logistic Regression Test Accuracy: {lr_test_accuracy:.4f}\")\n",
    "\n",
    "# Computational time comparison\n",
    "print(f\"Random Forest Time: {rf_duration:.2f} seconds\")\n",
    "print(f\"Logistic Regression Time: {lr_duration:.2f} seconds\")\n",
    "\n",
    "# The best model based on test accuracy\n",
    "if rf_test_accuracy > lr_test_accuracy:\n",
    "    print(\"\\nRandom Forest performed better based on test accuracy.\")\n",
    "else:\n",
    "    print(\"\\nLogistic Regression performed better based on test accuracy.\")\n"
   ]
  },
  {
   "cell_type": "markdown",
   "metadata": {
    "id": "K2fgXoMl95X-"
   },
   "source": [
    "## 7. Conclusion:\n",
    "This project successfully addressed the research question of whether causes of death could be classified into `high` and `low` mortality categories using demographic and cause-specific features such as year, sex, race/ethnicity, and leading cause of death.\n"
   ]
  },
  {
   "cell_type": "markdown",
   "metadata": {
    "id": "5ZZb_YjUFjy9"
   },
   "source": [
    "### 7.1 Summary of Findings\n",
    "\n",
    "We summarize the key results of the project, highlighting model performance, feature importance, and the overall ability to classify high vs. low mortality causes using demographic and cause-specific data.\n",
    "\n",
    "* **Model Performance:** Our classification models, particularly the ensemble methods and Support Vector Machines (SVM), achieved excellent predictive performance. The ensemble model, for instance, attained an average precision of 0.98, recall of 0.89, and an F1-score of 0.93, while the SVM showed comparable strength with 0.97 precision, 0.84 recall, and a 0.90 F1-score.\n",
    "* **Robustness:** Cross-validation accuracy scores consistently exceeded 94%, with some stratified K-Fold cross-validation results even achieving perfect 100% accuracy, indicating strong generalization capabilities.\n",
    "* **Accuracy:** The test set classification reports confirmed a high overall test accuracy of approximately 99%, with a well-balanced performance across both mortality classes.\n",
    "* **Feature Importance:** The analysis highlighted that a combination of demographic factors and leading causes of death provides significant predictive power for mortality level classification."
   ]
  },
  {
   "cell_type": "markdown",
   "metadata": {
    "id": "QxHeBEjYFmhl"
   },
   "source": [
    "### 7.2 Implications for Public Health\n",
    "\n",
    "These compelling results underscore the potential of this approach to serve as a valuable tool for public health officials. By accurately identifying high-risk mortality causes, targeted interventions and more efficient resource allocation can be developed, ultimately contributing to improved public health outcomes."
   ]
  },
  {
   "cell_type": "markdown",
   "metadata": {
    "id": "65NY-ruYForm"
   },
   "source": [
    "### 7.3 Future Work\n",
    "To further enhance the model's robustness, interpretability, and practical utility, future research could explore:\n",
    "* **Incorporating Additional Variables:** Integrating socioeconomic or geographic variables (e.g., zip code, income levels) that might influence mortality patterns.\n",
    "* **Advanced Ensemble Techniques:** Experimenting with more sophisticated ensemble methods or deep learning architectures.\n",
    "* **Explainable AI:** Implementing techniques to better understand *why* the models make certain predictions, increasing trust and actionable insights for policymakers."
   ]
  }
 ],
 "metadata": {
  "colab": {
   "provenance": []
  },
  "kernelspec": {
   "display_name": "Python 3 (ipykernel)",
   "language": "python",
   "name": "python3"
  },
  "language_info": {
   "codemirror_mode": {
    "name": "ipython",
    "version": 3
   },
   "file_extension": ".py",
   "mimetype": "text/x-python",
   "name": "python",
   "nbconvert_exporter": "python",
   "pygments_lexer": "ipython3",
   "version": "3.13.3"
  }
 },
 "nbformat": 4,
 "nbformat_minor": 4
}
