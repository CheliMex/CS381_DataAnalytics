{
 "cells": [
  {
   "cell_type": "markdown",
   "id": "f9ea2cfb-c91d-43bc-88eb-63447353e8e4",
   "metadata": {},
   "source": [
    "# Introduction:\n",
    "\n",
    "\n",
    "***\n",
    "\n",
    "The purpose of this project is to examine  factors that can predict the net hourly electrical energy output of the plant. The dataset contains 9568 data points collected from a Combined Cycle Power Plant over 6 years (2006-2011), when the power plant was set to work with full load. \n",
    "\n",
    "**Research Question:**\n",
    "\n",
    "This study was guided by the research question - Does the cut of a diamond determine its price or are there other factors such as the color or clarity that make a diamond expensive?\n",
    "\n",
    "\n",
    "**Variables:**\n",
    "\n",
    "The following factors are used as independent variables:\n",
    "* **Carat** = weight of the diamond (`0.2–5.01`)\n",
    "* **Cut** = quality of the cut\n",
    ">- Fair\n",
    ">- Good\n",
    ">- Very Good\n",
    ">- Premium\n",
    ">- Ideal\n",
    "* **Color** = diamond colour, from\n",
    ">- D (best) to J (worst)\n",
    "* **Clarity** = a measurement of how clear the diamond is \n",
    ">- I1 (worst)\n",
    ">- SI2, SI1, VS2, VS1, VVS2, VVS1\n",
    ">- IF (best)\n",
    "\n",
    "* **Table** = width of top of diamond relative to widest point (`43–95`)\n",
    "* **Price** = price in US dollars (`$326–$18,823`)\n",
    "* **x** = length in mm (`0–10.74`)\n",
    "* **y** = width in mm (`0–58.9`)\n",
    "* **z** = depth in mm (`0–31.8`)\n",
    "\n",
    "The dependent variable is:. \n",
    "* **Depth** = total depth percentage = z / mean(x, y) = 2 * z / (x + y) (`43–79`)\n",
    "\n",
    "\n",
    "**Procedures:**\n",
    "\n",
    "Here are main procedures of the analysis:\n",
    "- **Part 1**: Load and summarize data\n",
    " > For Part 1, Load data:\n",
    "    > - Get data from GitHub\n",
    "    > - Load the data\n",
    "  \n",
    "- **Part 2**: Perform Exploratory Data Analysis\n",
    " > For Part 2, the main components of EDA include:\n",
    "    > - Understand variables\n",
    "    > - Clean dataset\n",
    "    > - Analyze relationships between variables\n",
    "    > - Graphical analysis\n",
    "- **Part 3**: Conduct Inference evaluations\n",
    " > For Part 3, it consists of 3 stages:\n",
    "    > -  (1) Construct linear regression models by using different features\n",
    "    > -  (2) Model evaluation using 5-fold Cross Validation\n",
    "    > -  (3) Choose the model with the highest average accuracy scores derived from the 5-fold process\n",
    "\n",
    "- **Part 4**: Conclusion\n",
    "\n",
    "***"
   ]
  },
  {
   "cell_type": "code",
   "execution_count": null,
   "id": "8ff5eeeb-94ba-483a-9f3a-9dccad20c1b7",
   "metadata": {},
   "outputs": [],
   "source": [
    "import pandas as pd\n",
    "import numpy as np\n",
    "import matplotlib.pyplot as plt\n",
    "import seaborn as sns"
   ]
  },
  {
   "cell_type": "markdown",
   "id": "59307d60-c809-42ee-a823-d76fffda5d59",
   "metadata": {},
   "source": [
    "## Part 1: Data Summary\n",
    "\n",
    "In this case, Data Summary consist of:\n",
    "1. Loading data\n",
    "2. Checking use case data\n",
    "3. Checking the data types\n",
    "4. Checking for missing or null values"
   ]
  },
  {
   "cell_type": "markdown",
   "id": "4fbcea13-9bdc-481b-a39a-e58377e0b80d",
   "metadata": {},
   "source": [
    "### 1.Loading data\n",
    "\n",
    "2. Checking use case data\n",
    "4. Checking the data types\n",
    "5. Checking for missing or null values"
   ]
  },
  {
   "cell_type": "code",
   "execution_count": null,
   "id": "9b178727-7228-475d-ae53-195f4f66cf87",
   "metadata": {},
   "outputs": [],
   "source": [
    "# URL to diamonds.csv file on GitHub\n",
    "filename = \"https://raw.githubusercontent.com/CheliMex/CS381_DataAnalytics/refs/heads/main/Quiz1/diamonds.csv\"\n",
    "\n",
    "# Loading the dataset into a Pandas DataFrame\n",
    "df = pd.read_csv(filename)\n",
    "\n",
    "# Display the first few rows\n",
    "df.head()"
   ]
  },
  {
   "cell_type": "code",
   "execution_count": null,
   "id": "22448deb-ef69-4cc0-80f4-23e87dec611e",
   "metadata": {},
   "outputs": [],
   "source": [
    "# Display the last few rows\n",
    "df.tail()"
   ]
  },
  {
   "cell_type": "markdown",
   "id": "839a26ff-292b-447a-8303-6f38caa0cea0",
   "metadata": {},
   "source": [
    "## Part 2: Data Summary\n",
    "\n",
    "In this case, Data Summary consist of:\n",
    "1. Loading data\n",
    "2. Checking use case data\n",
    "3. Checking the data types\n",
    "4. Checking for missing or null values"
   ]
  },
  {
   "cell_type": "markdown",
   "id": "c2fc0ad6-6ac4-46b0-862c-1089e028c107",
   "metadata": {},
   "source": [
    "## Part 3: Data Summary\n",
    "\n",
    "In this case, Data Summary consist of:\n",
    "1. Loading data\n",
    "2. Checking use case data\n",
    "3. Checking the data types\n",
    "4. Checking for missing or null values"
   ]
  },
  {
   "cell_type": "markdown",
   "id": "5a61207b-be96-4c7c-80bb-e6d508578d62",
   "metadata": {},
   "source": [
    "## Part 4: Data Summary\n",
    "\n",
    "In this case, Data Summary consist of:\n",
    "1. Loading data\n",
    "2. Checking use case data\n",
    "3. Checking the data types\n",
    "4. Checking for missing or null values"
   ]
  },
  {
   "cell_type": "code",
   "execution_count": null,
   "id": "06e130c2-c412-4292-b739-34de07a51b0d",
   "metadata": {},
   "outputs": [],
   "source": []
  }
 ],
 "metadata": {
  "kernelspec": {
   "display_name": "Python 3 (ipykernel)",
   "language": "python",
   "name": "python3"
  },
  "language_info": {
   "codemirror_mode": {
    "name": "ipython",
    "version": 3
   },
   "file_extension": ".py",
   "mimetype": "text/x-python",
   "name": "python",
   "nbconvert_exporter": "python",
   "pygments_lexer": "ipython3",
   "version": "3.13.3"
  }
 },
 "nbformat": 4,
 "nbformat_minor": 5
}
