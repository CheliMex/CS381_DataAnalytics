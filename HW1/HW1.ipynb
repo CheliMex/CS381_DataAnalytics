{
 "cells": [
  {
   "cell_type": "markdown",
   "id": "31d63f5f-d193-44ca-bd8e-25f77e5e1998",
   "metadata": {},
   "source": [
    "# Instructions:\n",
    "For the first 5 problems use the following data\n",
    "\n",
    "\"555-1239Dr. Bernard Lander(636) 555-0113Hollingdorp, Donnatella555-6542Fitzgerald, F. Sco\\tt555 8904Rev. Martin Luther King636-555-3226Snodgrass, Theodore5553642Carlamina Scarfoni\"\n",
    "\n",
    "    1. Extract the numbers\n",
    "    2. Extract the names\n",
    "    3. Rearrange the vector so that all elements conform to the standard “firstname lastname”, preserving any titles (e.g., “Rev.”, “Dr.”, etc) or middle/second names.\n",
    "    4. Construct a logical vector indicating whether a character has a title (i.e., Rev. and Dr.)\n",
    "    5. Construct a logical vector indicating whether a character has a middle/second name.\n",
    "    6. Consider the HTML string <title>+++BREAKING NEWS+++<title>. We would like to extract the first HTML tag (i.e., “<title>”). To do so we write the regular expression “<.+>”. Explain why this fails and correct the expression.\n",
    "    7. Consider the string “(5-3)^2=5^2-2*5*3+3^2”. We would like to extract the equation in its entirety from the string. To do so we write the regular expression “[^0-9=+*()]+”. Explain why this fails and correct the expression.\n"
   ]
  },
  {
   "cell_type": "code",
   "execution_count": 1,
   "id": "fee39d01-f1c4-4dcf-b19a-67cfbd88d3b7",
   "metadata": {},
   "outputs": [],
   "source": [
    "import numpy as np\n",
    "import pandas as pd\n",
    "import re"
   ]
  },
  {
   "cell_type": "markdown",
   "id": "4a61e5c4-4f71-47c7-a5ed-068d67eb9013",
   "metadata": {},
   "source": [
    "## 1. Extract the numbers"
   ]
  },
  {
   "cell_type": "code",
   "execution_count": 2,
   "id": "b21de2b2-d8d8-454e-b7cd-56d97852f108",
   "metadata": {},
   "outputs": [
    {
     "name": "stdout",
     "output_type": "stream",
     "text": [
      "['555', '1239', '636', '555', '0113', '555', '6542', '555', '8904', '636', '555', '3226', '5553642']\n"
     ]
    }
   ],
   "source": [
    "my_data = r\"555-1239Dr. Bernard Lander(636) 555-0113Hollingdorp, Donnatella555-6542Fitzgerald, F. Sco\\tt555 8904Rev. Martin Luther King636-555-3226Snodgrass, Theodore5553642Carlamina Scarfoni\"\n",
    "\n",
    "# 1. Create a Pandas Series and put it in a list to be treated as one element\n",
    "data_series = pd.Series([my_data])\n",
    "\n",
    "# 2. The pattern for one or more digits\n",
    "num_series = data_series.str.findall(r\"\\d+\")\n",
    "\n",
    "# To get the actual list of numbers out of the string\n",
    "extract_numbers = num_series[0]\n",
    "print(extract_numbers)"
   ]
  },
  {
   "cell_type": "markdown",
   "id": "0e95f5a1-b60b-4771-ae9b-f0bf3dab42f9",
   "metadata": {},
   "source": [
    "## 2. Extract the names"
   ]
  },
  {
   "cell_type": "code",
   "execution_count": 3,
   "id": "73dca65f-c03f-496e-ab14-de39f3b738cc",
   "metadata": {},
   "outputs": [
    {
     "name": "stdout",
     "output_type": "stream",
     "text": [
      "['Dr. Bernard Lander', 'Hollingdorp, Donnatella', 'Fitzgerald, F. Scott', 'Rev. Martin Luther King', 'Snodgrass, Theodore', 'Carlamina Scarfoni']\n"
     ]
    }
   ],
   "source": [
    "# 1. The pattern for one or more characters that are NOT digits, hyphens, or parentheses.\n",
    "name_pattern = r\"[^0-9()-]+\"\n",
    "\n",
    "name_series = data_series.str.findall(name_pattern)\n",
    "extract_names = name_series[0]\n",
    "#print(extract_names)\n",
    "\n",
    "# 2. Remove any whitespace and filter out empty strings\n",
    "clean_names = []\n",
    "for segment in extract_names:\n",
    "    temp_name = segment.replace('\\\\', '')\n",
    "    temp_name = re.sub(r'\\s+', ' ', temp_name)\n",
    "    # 3. Trim leading/trailing spaces\n",
    "    temp_name = temp_name.strip()\n",
    "    # 4. Filter empty strings and name is more than 2 characters\n",
    "    if temp_name and len(temp_name) > 2:\n",
    "        clean_names.append(temp_name)\n",
    "    \n",
    "print(clean_names)"
   ]
  },
  {
   "cell_type": "markdown",
   "id": "6c341239-c6b9-4b0e-ab6c-95180d26b168",
   "metadata": {
    "editable": true,
    "slideshow": {
     "slide_type": ""
    },
    "tags": []
   },
   "source": [
    "## 3. Rearrange the vector so that all elements conform to the standard `“firstname lastname”`, preserving any titles (e.g., “Rev.”, “Dr.”, etc) or middle/second names."
   ]
  },
  {
   "cell_type": "code",
   "execution_count": 4,
   "id": "84169a93-c1f9-4db4-8310-c69939f38d79",
   "metadata": {},
   "outputs": [
    {
     "name": "stdout",
     "output_type": "stream",
     "text": [
      "['Dr. Bernard Lander', 'Donnatella Hollingdorp', 'F. Scott Fitzgerald', 'Rev. Martin Luther King', 'Theodore Snodgrass', 'Carlamina Scarfoni']\n"
     ]
    }
   ],
   "source": [
    "names_series = pd.Series(clean_names)\n",
    "rearranged_names = []\n",
    "\n",
    "for name in names_series:\n",
    "    if ',' in name:\n",
    "        #1. Split by comma\n",
    "        parts = [p.strip() for p in name.split(',')]\n",
    "        #2. At least two parts (last, first/middle)\n",
    "        if len(parts) >= 2:\n",
    "            #3. Join all parts after the first (firstname, middlename) and then add lastname\n",
    "            first_middle_part = \" \".join(parts[1:])\n",
    "            last_name_part = parts[0]\n",
    "            rearranged_name = f\"{first_middle_part} {last_name_part}\"\n",
    "        else:\n",
    "            rearranged_name = name # Fallback if comma split fails\n",
    "    else:\n",
    "        #4. Names without a comma are assumed to be already in order\n",
    "        rearranged_name = name\n",
    "\n",
    "    rearranged_names.append(rearranged_name)\n",
    "\n",
    "print(rearranged_names)"
   ]
  },
  {
   "cell_type": "markdown",
   "id": "1cf7dd63-b4dc-4bd0-80b0-5f82ab506d9b",
   "metadata": {},
   "source": [
    "## 4. Construct a logical vector indicating whether a character `has a title` (i.e., Rev. and Dr.)\n",
    "    "
   ]
  },
  {
   "cell_type": "code",
   "execution_count": 5,
   "id": "a6190d1f-e1e4-4798-ab2c-f95b9b2b5b2d",
   "metadata": {},
   "outputs": [
    {
     "name": "stdout",
     "output_type": "stream",
     "text": [
      "[True, False, False, True, False, False] ['Dr. Bernard Lander', 'Donnatella Hollingdorp', 'F. Scott Fitzgerald', 'Rev. Martin Luther King', 'Theodore Snodgrass', 'Carlamina Scarfoni']\n"
     ]
    }
   ],
   "source": [
    "#1. titles with \n",
    "titles = [\"Dr.\", \"Rev.\"]\n",
    "\n",
    "#2. Create logical vector\n",
    "has_title = []\n",
    "for name in rearranged_names:\n",
    "    found_title = False\n",
    "    for title in titles:\n",
    "        if name.startswith(title):\n",
    "            found_title = True\n",
    "            break # No need to check other titles if one is found\n",
    "    has_title.append(found_title)\n",
    "\n",
    "print(has_title, rearranged_names)\n",
    "\n",
    "#3. Convert to a Pandas Series for a true \"logical vector\"\n",
    "#has_title_series = pd.Series(has_title, rearranged_names)\n",
    "#print(has_title_series)"
   ]
  },
  {
   "cell_type": "markdown",
   "id": "82c486ab-18a4-4bea-882c-2767f0dc01ce",
   "metadata": {},
   "source": [
    "## 5. Construct a logical vector indicating whether a character `has a middle/second name`."
   ]
  },
  {
   "cell_type": "code",
   "execution_count": 6,
   "id": "53c8ce05-c185-41e8-8e4f-f9a11b982e8f",
   "metadata": {},
   "outputs": [
    {
     "name": "stdout",
     "output_type": "stream",
     "text": [
      "[False, False, True, True, False, False] ['Dr. Bernard Lander', 'Donnatella Hollingdorp', 'F. Scott Fitzgerald', 'Rev. Martin Luther King', 'Theodore Snodgrass', 'Carlamina Scarfoni']\n"
     ]
    }
   ],
   "source": [
    "has_middle_name = []\n",
    "\n",
    "for name in rearranged_names:\n",
    "    #1. Split the name into parts by space\n",
    "    parts = name.split()\n",
    "    \n",
    "    #2. Adjust count for titles\n",
    "    adjusted_parts_count = len(parts)\n",
    "    for title in titles:\n",
    "        #3. Check if the first word of the name is a title\n",
    "        if parts and parts[0] == title.strip('.'): # Compare \"Dr\" with \"Dr.\" after stripping period\n",
    "            adjusted_parts_count -= 1 # Reduce count if it's a title\n",
    "            break # Assume only one title per person\n",
    "        # Handle \"Dr.\" or \"Rev.\" specifically as a full word with period\n",
    "        if parts and parts[0] == title:\n",
    "            adjusted_parts_count -= 1\n",
    "            break\n",
    "            \n",
    "    # If, after accounting for titles there are more than 2 parts then it has a middle name.  \n",
    "    if adjusted_parts_count > 2:\n",
    "        has_middle_name.append(True)\n",
    "    else:\n",
    "        has_middle_name.append(False)\n",
    "\n",
    "print(has_middle_name, rearranged_names)\n",
    "\n",
    "# Convert to a Pandas Series for the logical vector\n",
    "#has_middle_name_series = pd.Series(has_middle_name, rearranged_names)\n",
    "#print(has_middle_name_series)"
   ]
  },
  {
   "cell_type": "markdown",
   "id": "3d5c364b-6754-48c6-9647-53e264bb8364",
   "metadata": {},
   "source": [
    "## 6. Consider the HTML string `<title> +++BREAKING NEWS+++ <title>`. We would like to extract the first HTML tag (i.e., `<title>`). To do so we write the regular expression “<.+>”. Explain why this fails and correct the expression."
   ]
  },
  {
   "cell_type": "raw",
   "id": "ee29d448-3995-4d16-84e6-f022ab764cbc",
   "metadata": {},
   "source": [
    "It doesn't stop at the first '>' because the '.+' is \"greedy\". It will continue to match until it absolutely has to stop to which then stops at '>' in the pattern to match.\n",
    "The '.' matches any single character (except for a newline character)\n",
    "The '+' matches one or more element, so by putting them together it literally means \"match one or more of any character (except newline).\"\n",
    "Therefore it will look at the entire string. We can correct it by '?' which will match as few as possible allowing the rest of the pattern to match.\n",
    "The new Regex will be <.+?>"
   ]
  },
  {
   "cell_type": "markdown",
   "id": "4f5cb21b-41ba-472a-b7f0-f3007f15fedf",
   "metadata": {},
   "source": [
    "## 7. Consider the string `“(5-3)^2=5^2-2*5*3+3^2”`. We would like to extract the equation in its entirety from the string. To do so we write the regular expression `“[^0-9=+*()]+”`. Explain why this fails and correct the expression."
   ]
  },
  {
   "cell_type": "raw",
   "id": "3981757e-c624-47c4-8081-41aea0d15e99",
   "metadata": {},
   "source": [
    "'^' = negation (not) when inside a bracket [], especially if its in the begining.\n",
    "The Regex mean match any character that is NOT a digit (0-9) and =+*()\n",
    "The problem here is that we want to include the '^' as well, so we will add it at the end along with the other symbols\n",
    "The new Regex will be [0-9=+\\-*()^]+"
   ]
  },
  {
   "cell_type": "code",
   "execution_count": null,
   "id": "8d02e30e-b907-4d7e-9d70-9d87a2174ba5",
   "metadata": {},
   "outputs": [],
   "source": []
  }
 ],
 "metadata": {
  "kernelspec": {
   "display_name": "Python 3 (ipykernel)",
   "language": "python",
   "name": "python3"
  },
  "language_info": {
   "codemirror_mode": {
    "name": "ipython",
    "version": 3
   },
   "file_extension": ".py",
   "mimetype": "text/x-python",
   "name": "python",
   "nbconvert_exporter": "python",
   "pygments_lexer": "ipython3",
   "version": "3.13.3"
  }
 },
 "nbformat": 4,
 "nbformat_minor": 5
}
